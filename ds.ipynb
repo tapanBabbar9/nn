{
 "cells": [
  {
   "cell_type": "code",
   "execution_count": 20,
   "id": "0c2a0f2b-db5b-4f22-8e79-7b0280112e3a",
   "metadata": {},
   "outputs": [
    {
     "name": "stdout",
     "output_type": "stream",
     "text": [
      "X: [[1 1]\n",
      " [1 2]\n",
      " [2 2]\n",
      " [2 3]]\n",
      "Y [ 6  8  9 11]\n",
      "X: [[1. 1. 1.]\n",
      " [1. 1. 2.]\n",
      " [1. 2. 2.]\n",
      " [1. 2. 3.]]\n",
      "Estimated coefficients: [3. 1. 2.]\n"
     ]
    }
   ],
   "source": [
    "#normal equation\n",
    "\n",
    "import numpy as np\n",
    "\n",
    "# Example dataset\n",
    "X = np.array([[1, 1], [1, 2], [2, 2], [2, 3]])  # Feature matrix\n",
    "print(\"X:\", X)\n",
    "\n",
    "y = np.dot(X, np.array([1, 2])) + 3  # Target vector\n",
    "print(\"Y\", y)\n",
    "\n",
    "# Add a column of ones to X to account for the intercept term\n",
    "X = np.hstack([np.ones((X.shape[0], 1)), X])\n",
    "print(\"X:\", X)\n",
    "\n",
    "# Calculate beta using the normal equation\n",
    "beta = np.linalg.inv(X.T @ X) @ X.T @ y\n",
    "print(\"Estimated coefficients:\", beta)"
   ]
  },
  {
   "cell_type": "code",
   "execution_count": 17,
   "id": "7b78857f-9892-4fff-bb07-be65377504c0",
   "metadata": {},
   "outputs": [
    {
     "name": "stdout",
     "output_type": "stream",
     "text": [
      "  (0, 2)\t3\n",
      "  (1, 0)\t4\n",
      "  (2, 1)\t2\n"
     ]
    }
   ],
   "source": [
    "#sparse matrix for memory optimisation\n",
    "\n",
    "from scipy.sparse import csr_matrix\n",
    "\n",
    "# Create a sparse matrix\n",
    "dense_matrix = np.array([[0, 0, 3], [4, 0, 0], [0, 2, 0]])\n",
    "sparse_matrix = csr_matrix(dense_matrix)\n",
    "\n",
    "print(sparse_matrix)"
   ]
  },
  {
   "cell_type": "code",
   "execution_count": 18,
   "id": "d0584a57-0f7b-4892-86c9-09428dafbe91",
   "metadata": {},
   "outputs": [
    {
     "name": "stdout",
     "output_type": "stream",
     "text": [
      "Path: ['A', 'B', 'C', 'D'] Cost: 4\n"
     ]
    }
   ],
   "source": [
    "#heaps\n",
    "\n",
    "import heapq\n",
    "\n",
    "# Example graph (as an adjacency list)\n",
    "graph = {\n",
    "    'A': [('B', 1), ('C', 4)],\n",
    "    'B': [('A', 1), ('C', 2), ('D', 5)],\n",
    "    'C': [('A', 4), ('B', 2), ('D', 1)],\n",
    "    'D': [('B', 5), ('C', 1)]\n",
    "}\n",
    "\n",
    "# A* search function\n",
    "def a_star(graph, start, goal, h):\n",
    "    # Priority queue, initialized with the start node\n",
    "    pq = [(0 + h(start), 0, start, [])]  # (f = g + h, g, node, path)\n",
    "    heapq.heapify(pq)\n",
    "    \n",
    "    while pq:\n",
    "        (f, g, current, path) = heapq.heappop(pq)\n",
    "        \n",
    "        # Path to the current node\n",
    "        path = path + [current]\n",
    "        \n",
    "        if current == goal:\n",
    "            return path, f  # Return the found path and its total cost\n",
    "        \n",
    "        for (neighbor, cost) in graph[current]:\n",
    "            heapq.heappush(pq, (g + cost + h(neighbor), g + cost, neighbor, path))\n",
    "    \n",
    "    return None  # If no path is found\n",
    "\n",
    "# Heuristic function (for simplicity, using zero heuristic as an example)\n",
    "def h(node):\n",
    "    return 0\n",
    "\n",
    "# Find path from A to D\n",
    "path, cost = a_star(graph, 'A', 'D', h)\n",
    "print(\"Path:\", path, \"Cost:\", cost)"
   ]
  },
  {
   "cell_type": "code",
   "execution_count": 21,
   "id": "c9fddc9f-6e73-4c31-a88b-5586e735c053",
   "metadata": {},
   "outputs": [
    {
     "name": "stdout",
     "output_type": "stream",
     "text": [
      "Initial centroids:\n",
      " [[ 9 10]\n",
      " [ 5  6]]\n"
     ]
    }
   ],
   "source": [
    "#K-means++\n",
    "\n",
    "import numpy as np\n",
    "\n",
    "def initialize_centroids(X, k):\n",
    "    centroids = []\n",
    "    centroids.append(X[np.random.randint(X.shape[0])])\n",
    "    \n",
    "    for _ in range(1, k):\n",
    "        distances = np.array([min([np.linalg.norm(x - c) for c in centroids]) for x in X])\n",
    "        heap = [(dist, i) for i, dist in enumerate(distances)]\n",
    "        heapq.heapify(heap)\n",
    "        \n",
    "        # Weighted random selection of the next centroid\n",
    "        total_dist = sum(distances)\n",
    "        r = np.random.uniform(0, total_dist)\n",
    "        cumulative_dist = 0\n",
    "        \n",
    "        for dist, i in heap:\n",
    "            cumulative_dist += dist\n",
    "            if cumulative_dist >= r:\n",
    "                centroids.append(X[i])\n",
    "                break\n",
    "    \n",
    "    return np.array(centroids)\n",
    "\n",
    "# Example dataset\n",
    "X = np.array([[1, 2], [1, 4], [3, 2], [5, 6], [7, 8], [9, 10]])\n",
    "centroids = initialize_centroids(X, 2)\n",
    "print(\"Initial centroids:\\n\", centroids)"
   ]
  },
  {
   "cell_type": "code",
   "execution_count": 22,
   "id": "1b869663-6f18-4e52-bb32-6f7f21e44651",
   "metadata": {},
   "outputs": [
    {
     "name": "stdout",
     "output_type": "stream",
     "text": [
      "Items interacted with by user2: ['item2', 'item4']\n"
     ]
    }
   ],
   "source": [
    "#Hash Tables\n",
    "\n",
    "# Example dataset: user interactions with items\n",
    "user_interactions = {\n",
    "    'user1': ['item1', 'item2', 'item3'],\n",
    "    'user2': ['item2', 'item4'],\n",
    "    'user3': ['item1', 'item4', 'item5'],\n",
    "}\n",
    "\n",
    "# Hash table (dictionary in Python) to store interactions\n",
    "hash_table = {}\n",
    "\n",
    "# Insert interactions into the hash table\n",
    "for user, items in user_interactions.items():\n",
    "    hash_table[user] = items\n",
    "\n",
    "# Efficient lookup of a user's interactions\n",
    "user = 'user2'\n",
    "print(f\"Items interacted with by {user}: {hash_table[user]}\")"
   ]
  },
  {
   "cell_type": "code",
   "execution_count": 23,
   "id": "cf8631db-53f0-4669-8e4e-1d062c77b696",
   "metadata": {},
   "outputs": [
    {
     "name": "stdout",
     "output_type": "stream",
     "text": [
      "Nearest neighbors of point 0: [  0 181  53]\n"
     ]
    }
   ],
   "source": [
    "#LSH\n",
    "\n",
    "import numpy as np\n",
    "from sklearn.neighbors import NearestNeighbors\n",
    "from sklearn.random_projection import SparseRandomProjection\n",
    "\n",
    "# Example dataset: 2D points\n",
    "points = np.random.rand(1000, 2)\n",
    "\n",
    "# Using random projections to approximate nearest neighbors\n",
    "lsh = SparseRandomProjection(n_components=2)\n",
    "projected_points = lsh.fit_transform(points)\n",
    "\n",
    "# Using NearestNeighbors for finding approximate neighbors\n",
    "nbrs = NearestNeighbors(n_neighbors=3, algorithm='ball_tree').fit(projected_points)\n",
    "distances, indices = nbrs.kneighbors(projected_points)\n",
    "\n",
    "# Example: Finding nearest neighbors of a point\n",
    "point_index = 0\n",
    "print(f\"Nearest neighbors of point {point_index}: {indices[point_index]}\")"
   ]
  },
  {
   "cell_type": "code",
   "execution_count": 24,
   "id": "d4fd5604-004c-48f0-b4b0-b4b4b9658c11",
   "metadata": {},
   "outputs": [
    {
     "name": "stdout",
     "output_type": "stream",
     "text": [
      "[[], [], [], [], [], [(15, 'value1'), (25, 'value2')], [], [], [], []]\n"
     ]
    }
   ],
   "source": [
    "hash_table = [[] for _ in range(10)]\n",
    "\n",
    "def hash_function(key):\n",
    "    return key % 10\n",
    "\n",
    "def insert(hash_table, key, value):\n",
    "    index = hash_function(key)\n",
    "    hash_table[index].append((key, value))\n",
    "\n",
    "insert(hash_table, 15, 'value1')\n",
    "insert(hash_table, 25, 'value2')\n",
    "print(hash_table)"
   ]
  },
  {
   "cell_type": "code",
   "execution_count": null,
   "id": "8bd588bd-7b1f-4f33-8dfc-5eb46b985bf5",
   "metadata": {},
   "outputs": [],
   "source": []
  }
 ],
 "metadata": {
  "kernelspec": {
   "display_name": "Python 3 (ipykernel)",
   "language": "python",
   "name": "python3"
  },
  "language_info": {
   "codemirror_mode": {
    "name": "ipython",
    "version": 3
   },
   "file_extension": ".py",
   "mimetype": "text/x-python",
   "name": "python",
   "nbconvert_exporter": "python",
   "pygments_lexer": "ipython3",
   "version": "3.12.4"
  }
 },
 "nbformat": 4,
 "nbformat_minor": 5
}
