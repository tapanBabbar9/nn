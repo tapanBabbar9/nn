{
 "cells": [
  {
   "cell_type": "code",
   "execution_count": 40,
   "id": "f10204a8-6f16-44c1-ae54-db9cb336fd27",
   "metadata": {},
   "outputs": [],
   "source": [
    "import pandas as pd\n",
    "import torch\n",
    "import string\n",
    "import numpy as np\n",
    "import re\n",
    "\n",
    "# Function to clean words by removing special characters\n",
    "def clean_word(word):\n",
    "    # Remove anything that's not a letter (a-z) or dot (.), and convert to lowercase\n",
    "    return re.sub(r'[^a-z]', '', word.lower())\n",
    "\n",
    "# Load the dataset\n",
    "data = pd.read_csv('dataset/pokemon.csv')[\"name\"]\n",
    "words = data.to_list()\n",
    "words = list(map(clean_word, words[:100]))"
   ]
  },
  {
   "cell_type": "code",
   "execution_count": 41,
   "id": "19611b38-35c5-4d12-95c9-79bb58d4a454",
   "metadata": {},
   "outputs": [
    {
     "data": {
      "text/plain": [
       "100"
      ]
     },
     "execution_count": 41,
     "metadata": {},
     "output_type": "execute_result"
    }
   ],
   "source": [
    "len(words)"
   ]
  },
  {
   "cell_type": "code",
   "execution_count": 42,
   "id": "7f24402b-539b-4697-8431-703bbc39ba69",
   "metadata": {},
   "outputs": [
    {
     "data": {
      "text/plain": [
       "{'a': 0,\n",
       " 'b': 1,\n",
       " 'c': 2,\n",
       " 'd': 3,\n",
       " 'e': 4,\n",
       " 'f': 5,\n",
       " 'g': 6,\n",
       " 'h': 7,\n",
       " 'i': 8,\n",
       " 'j': 9,\n",
       " 'k': 10,\n",
       " 'l': 11,\n",
       " 'm': 12,\n",
       " 'n': 13,\n",
       " 'o': 14,\n",
       " 'p': 15,\n",
       " 'q': 16,\n",
       " 'r': 17,\n",
       " 's': 18,\n",
       " 't': 19,\n",
       " 'u': 20,\n",
       " 'v': 21,\n",
       " 'w': 22,\n",
       " 'x': 23,\n",
       " 'y': 24,\n",
       " 'z': 25}"
      ]
     },
     "execution_count": 42,
     "metadata": {},
     "output_type": "execute_result"
    }
   ],
   "source": [
    "char_set = list(string.ascii_lowercase)\n",
    "char_dict = {char: idx for idx, char in enumerate(char_set)}\n",
    "char_dict"
   ]
  },
  {
   "cell_type": "code",
   "execution_count": 43,
   "id": "5e727e1e-f456-4d13-a4f3-abc6505c7a8d",
   "metadata": {},
   "outputs": [],
   "source": [
    "class CharacterEmbeddingModel(nn.Module):\n",
    "    def __init__(self, vocab_size, embedding_dim, hidden_dim):\n",
    "        super(CharacterEmbeddingModel, self).__init__()\n",
    "        self.embedding = nn.Embedding(vocab_size, embedding_dim)\n",
    "        self.lstm = nn.LSTM(embedding_dim, hidden_dim, batch_first=True)\n",
    "        self.fc = nn.Linear(hidden_dim, embedding_dim)  # Output embedding\n",
    "\n",
    "    def forward(self, x):\n",
    "        embeds = self.embedding(x)  # Convert character indices to embeddings\n",
    "        lstm_out, _ = self.lstm(embeds)  # LSTM to retain sequence information\n",
    "        final_embedding = self.fc(lstm_out[:, -1, :])  # Take the final LSTM output\n",
    "        return final_embedding\n",
    "\n",
    "# Example parameters\n",
    "vocab_size = len(char_set)  # Character set size (number of unique characters)\n",
    "embedding_dim = 50  # Embedding dimension for each character\n",
    "hidden_dim = 100  # Hidden dimension of LSTM\n",
    "\n",
    "# Initialize the model\n",
    "model = CharacterEmbeddingModel(vocab_size, embedding_dim, hidden_dim)"
   ]
  },
  {
   "cell_type": "code",
   "execution_count": 44,
   "id": "bd274c4a-22d9-4d3d-915c-7f40d642d5c7",
   "metadata": {},
   "outputs": [],
   "source": [
    "def word_to_indices(word, char_to_idx, max_length):\n",
    "    indices = [char_to_idx[char] for char in word if char in char_to_idx]\n",
    "    # Pad or truncate to `max_length`\n",
    "    if len(indices) < max_length:\n",
    "        indices += [0] * (max_length - len(indices))  # Pad with index 0 for shorter words\n",
    "    else:\n",
    "        indices = indices[:max_length]  # Truncate if too long\n",
    "    return torch.tensor(indices).unsqueeze(0)  # Add batch dimension"
   ]
  },
  {
   "cell_type": "code",
   "execution_count": 45,
   "id": "8412c3ba-99f7-4e15-9e2c-8e9e88726bd1",
   "metadata": {},
   "outputs": [],
   "source": [
    "max_length = max(len(word) for word in words)\n",
    "encoded_pokemon = []\n",
    "for name in words:\n",
    "    indices = word_to_indices(name, char_dict, max_length)\n",
    "    embedding = model(indices).detach().numpy()  # Get the sequence-level embedding\n",
    "    encoded_pokemon.append(embedding)\n",
    "encoded_pokemon = np.array(encoded_pokemon)"
   ]
  },
  {
   "cell_type": "code",
   "execution_count": 46,
   "id": "8e223abb-8984-4242-88cc-5a71ab3653a5",
   "metadata": {},
   "outputs": [
    {
     "data": {
      "text/plain": [
       "100"
      ]
     },
     "execution_count": 46,
     "metadata": {},
     "output_type": "execute_result"
    }
   ],
   "source": [
    "len(encoded_pokemon)"
   ]
  },
  {
   "cell_type": "code",
   "execution_count": 47,
   "id": "41a4e2d4-4fe4-4dc3-9772-042d6936d2d0",
   "metadata": {},
   "outputs": [
    {
     "name": "stdout",
     "output_type": "stream",
     "text": [
      "(100, 50)\n"
     ]
    },
    {
     "data": {
      "application/vnd.plotly.v1+json": {
       "config": {
        "plotlyServerURL": "https://plot.ly"
       },
       "data": [
        {
         "hovertemplate": "Component 1=%{x}<br>Component 2=%{y}<br>Component 3=%{z}<br>Pokémon=%{text}<extra></extra>",
         "legendgroup": "",
         "marker": {
          "color": "#636efa",
          "size": 10,
          "symbol": "circle"
         },
         "mode": "markers+text",
         "name": "",
         "scene": "scene",
         "showlegend": false,
         "text": [
          "bulbasaur",
          "ivysaur",
          "venusaur",
          "charmander",
          "charmeleon",
          "charizard",
          "squirtle",
          "wartortle",
          "blastoise",
          "caterpie",
          "metapod",
          "butterfree",
          "weedle",
          "kakuna",
          "beedrill",
          "pidgey",
          "pidgeotto",
          "pidgeot",
          "rattata",
          "raticate",
          "spearow",
          "fearow",
          "ekans",
          "arbok",
          "pikachu",
          "raichu",
          "sandshrew",
          "sandslash",
          "nidoran",
          "nidorina",
          "nidoqueen",
          "nidoran",
          "nidorino",
          "nidoking",
          "clefairy",
          "clefable",
          "vulpix",
          "ninetales",
          "jigglypuff",
          "wigglytuff",
          "zubat",
          "golbat",
          "oddish",
          "gloom",
          "vileplume",
          "paras",
          "parasect",
          "venonat",
          "venomoth",
          "diglett",
          "dugtrio",
          "meowth",
          "persian",
          "psyduck",
          "golduck",
          "mankey",
          "primeape",
          "growlithe",
          "arcanine",
          "poliwag",
          "poliwhirl",
          "poliwrath",
          "abra",
          "kadabra",
          "alakazam",
          "machop",
          "machoke",
          "machamp",
          "bellsprout",
          "weepinbell",
          "victreebel",
          "tentacool",
          "tentacruel",
          "geodude",
          "graveler",
          "golem",
          "ponyta",
          "rapidash",
          "slowpoke",
          "slowbro",
          "magnemite",
          "magneton",
          "farfetchd",
          "doduo",
          "dodrio",
          "seel",
          "dewgong",
          "grimer",
          "muk",
          "shellder",
          "cloyster",
          "gastly",
          "haunter",
          "gengar",
          "onix",
          "drowzee",
          "hypno",
          "krabby",
          "kingler",
          "voltorb"
         ],
         "type": "scatter3d",
         "x": [
          40.78564,
          21.118698,
          33.083637,
          30.42951,
          25.898296,
          28.353676,
          66.32495,
          18.458763,
          -49.4565,
          76.83403,
          -24.126205,
          23.375368,
          -56.967175,
          -40.970722,
          55.90015,
          -50.911728,
          48.24723,
          -13.840186,
          70.01095,
          87.32045,
          45.41195,
          43.762016,
          -41.756355,
          -62.167706,
          -4.32026,
          -18.340519,
          38.233303,
          -49.558254,
          -74.7062,
          -66.71988,
          20.962917,
          -82.31211,
          17.86946,
          -9.919746,
          41.857952,
          78.27258,
          -49.030937,
          -23.262203,
          34.96449,
          25.753525,
          -39.899708,
          -30.044212,
          -28.465414,
          -43.023617,
          3.4010327,
          -36.01164,
          103.70169,
          -21.288902,
          2.7882588,
          -0.94029635,
          36.044296,
          -19.558886,
          -66.39627,
          -11.187409,
          -1.8680727,
          -76.89756,
          75.26987,
          -6.1662197,
          78.19138,
          -20.27826,
          -6.3632765,
          40.021725,
          -25.12637,
          3.88758,
          0.948861,
          -17.773577,
          73.69896,
          -12.984624,
          29.476633,
          -71.77423,
          -15.489234,
          50.27061,
          -75.84079,
          -27.958609,
          30.610785,
          -48.97362,
          -45.874844,
          1.7811688,
          61.42546,
          40.337406,
          6.040386,
          16.97666,
          16.499474,
          -73.79519,
          41.875492,
          -47.007763,
          -11.464001,
          18.770077,
          -36.09399,
          31.575377,
          42.319305,
          -91.02871,
          9.080564,
          -83.70772,
          -41.95835,
          -23.99611,
          -62.25193,
          -105.78965,
          9.895816,
          -12.00625
         ],
         "y": [
          3.9711807,
          -18.244637,
          -10.584276,
          28.433756,
          38.076305,
          -73.77547,
          -38.304466,
          -70.999146,
          27.605427,
          -2.0282986,
          -39.959717,
          77.27258,
          56.93521,
          84.88754,
          -44.565823,
          -86.48956,
          10.567865,
          -31.632742,
          28.08968,
          -18.381016,
          -36.59385,
          -18.747477,
          43.428455,
          9.302224,
          10.377291,
          8.612305,
          12.679535,
          -31.483664,
          -27.521673,
          -32.33283,
          39.1414,
          -21.046934,
          -63.82062,
          -28.426584,
          -12.961392,
          -36.07379,
          -3.096868,
          64.09707,
          15.548903,
          23.776213,
          15.009736,
          -1.5893129,
          -2.0394077,
          -30.333176,
          66.270546,
          49.79394,
          -16.0022,
          -11.019052,
          -3.1614113,
          -27.076822,
          -54.978737,
          4.736616,
          -18.94618,
          15.865558,
          13.70671,
          59.364983,
          -16.96726,
          87.82867,
          12.378023,
          -4.338569,
          -52.84567,
          11.728774,
          61.5525,
          -36.739902,
          -7.9854794,
          -12.341899,
          43.49669,
          2.319983,
          27.664087,
          -40.07773,
          -8.368476,
          50.09302,
          -29.63289,
          -58.47397,
          -35.463608,
          42.459103,
          27.889324,
          -11.417979,
          -30.916803,
          -46.67347,
          76.549095,
          32.480396,
          65.80568,
          14.473015,
          -8.094887,
          60.42382,
          -12.424914,
          -33.036846,
          68.660324,
          -24.692114,
          -24.62561,
          52.91937,
          -25.38824,
          -60.76599,
          58.24576,
          -68.85589,
          12.391151,
          38.8451,
          -34.947754,
          -44.829407
         ],
         "z": [
          -2.7251372,
          11.67988,
          0.61346734,
          -29.513416,
          -19.540817,
          -21.619743,
          -46.041153,
          59.75624,
          60.511024,
          -16.21971,
          32.78096,
          4.2184267,
          -20.07727,
          34.61626,
          -56.96957,
          -17.02332,
          13.347584,
          43.73587,
          -52.546074,
          -27.292118,
          45.215157,
          62.40873,
          7.7308383,
          -12.166422,
          10.49797,
          3.2965207,
          -16.28931,
          13.069833,
          -34.381958,
          -54.878925,
          3.904438,
          -42.590855,
          15.225912,
          -65.01911,
          -37.160217,
          -49.646606,
          -13.444177,
          -49.141747,
          -65.693756,
          -66.89737,
          15.929283,
          19.773813,
          -19.80899,
          -23.741867,
          -28.933266,
          17.072836,
          -26.015762,
          32.1293,
          54.89034,
          45.278282,
          23.653004,
          -13.441887,
          -45.898247,
          68.70886,
          76.710434,
          -24.266178,
          -23.032345,
          -6.36632,
          -14.0065975,
          -64.9972,
          -37.772724,
          33.098072,
          32.346672,
          95.9758,
          -50.526814,
          -11.445603,
          2.3653114,
          37.06897,
          -45.66248,
          54.093163,
          -102.64556,
          35.654232,
          43.445442,
          26.396225,
          -25.05494,
          -12.425494,
          6.453136,
          64.851234,
          -21.836634,
          32.518837,
          -0.4882023,
          18.02406,
          48.767143,
          -8.295166,
          70.52203,
          21.761482,
          -60.954353,
          82.073845,
          35.833927,
          -16.096287,
          -25.746561,
          -24.045328,
          9.161931,
          0.6689219,
          49.984074,
          14.204001,
          -30.483908,
          -19.331774,
          18.316322,
          54.03514
         ]
        }
       ],
       "layout": {
        "autosize": true,
        "legend": {
         "tracegroupgap": 0
        },
        "scene": {
         "aspectmode": "auto",
         "aspectratio": {
          "x": 1.0822338913417702,
          "y": 0.9005293315929418,
          "z": 1.0260794901421444
         },
         "camera": {
          "center": {
           "x": 0,
           "y": 0,
           "z": 0
          },
          "eye": {
           "x": -0.015526487679853348,
           "y": 0.07413787258145463,
           "z": -0.01254862130786244
          },
          "projection": {
           "type": "perspective"
          },
          "up": {
           "x": 0,
           "y": 0,
           "z": 1
          }
         },
         "domain": {
          "x": [
           0,
           1
          ],
          "y": [
           0,
           1
          ]
         },
         "xaxis": {
          "title": {
           "text": "TSNE Component 1"
          },
          "type": "linear"
         },
         "yaxis": {
          "title": {
           "text": "TSNE Component 2"
          },
          "type": "linear"
         },
         "zaxis": {
          "title": {
           "text": "TSNE Component 3"
          },
          "type": "linear"
         }
        },
        "template": {
         "data": {
          "bar": [
           {
            "error_x": {
             "color": "#2a3f5f"
            },
            "error_y": {
             "color": "#2a3f5f"
            },
            "marker": {
             "line": {
              "color": "#E5ECF6",
              "width": 0.5
             },
             "pattern": {
              "fillmode": "overlay",
              "size": 10,
              "solidity": 0.2
             }
            },
            "type": "bar"
           }
          ],
          "barpolar": [
           {
            "marker": {
             "line": {
              "color": "#E5ECF6",
              "width": 0.5
             },
             "pattern": {
              "fillmode": "overlay",
              "size": 10,
              "solidity": 0.2
             }
            },
            "type": "barpolar"
           }
          ],
          "carpet": [
           {
            "aaxis": {
             "endlinecolor": "#2a3f5f",
             "gridcolor": "white",
             "linecolor": "white",
             "minorgridcolor": "white",
             "startlinecolor": "#2a3f5f"
            },
            "baxis": {
             "endlinecolor": "#2a3f5f",
             "gridcolor": "white",
             "linecolor": "white",
             "minorgridcolor": "white",
             "startlinecolor": "#2a3f5f"
            },
            "type": "carpet"
           }
          ],
          "choropleth": [
           {
            "colorbar": {
             "outlinewidth": 0,
             "ticks": ""
            },
            "type": "choropleth"
           }
          ],
          "contour": [
           {
            "colorbar": {
             "outlinewidth": 0,
             "ticks": ""
            },
            "colorscale": [
             [
              0,
              "#0d0887"
             ],
             [
              0.1111111111111111,
              "#46039f"
             ],
             [
              0.2222222222222222,
              "#7201a8"
             ],
             [
              0.3333333333333333,
              "#9c179e"
             ],
             [
              0.4444444444444444,
              "#bd3786"
             ],
             [
              0.5555555555555556,
              "#d8576b"
             ],
             [
              0.6666666666666666,
              "#ed7953"
             ],
             [
              0.7777777777777778,
              "#fb9f3a"
             ],
             [
              0.8888888888888888,
              "#fdca26"
             ],
             [
              1,
              "#f0f921"
             ]
            ],
            "type": "contour"
           }
          ],
          "contourcarpet": [
           {
            "colorbar": {
             "outlinewidth": 0,
             "ticks": ""
            },
            "type": "contourcarpet"
           }
          ],
          "heatmap": [
           {
            "colorbar": {
             "outlinewidth": 0,
             "ticks": ""
            },
            "colorscale": [
             [
              0,
              "#0d0887"
             ],
             [
              0.1111111111111111,
              "#46039f"
             ],
             [
              0.2222222222222222,
              "#7201a8"
             ],
             [
              0.3333333333333333,
              "#9c179e"
             ],
             [
              0.4444444444444444,
              "#bd3786"
             ],
             [
              0.5555555555555556,
              "#d8576b"
             ],
             [
              0.6666666666666666,
              "#ed7953"
             ],
             [
              0.7777777777777778,
              "#fb9f3a"
             ],
             [
              0.8888888888888888,
              "#fdca26"
             ],
             [
              1,
              "#f0f921"
             ]
            ],
            "type": "heatmap"
           }
          ],
          "heatmapgl": [
           {
            "colorbar": {
             "outlinewidth": 0,
             "ticks": ""
            },
            "colorscale": [
             [
              0,
              "#0d0887"
             ],
             [
              0.1111111111111111,
              "#46039f"
             ],
             [
              0.2222222222222222,
              "#7201a8"
             ],
             [
              0.3333333333333333,
              "#9c179e"
             ],
             [
              0.4444444444444444,
              "#bd3786"
             ],
             [
              0.5555555555555556,
              "#d8576b"
             ],
             [
              0.6666666666666666,
              "#ed7953"
             ],
             [
              0.7777777777777778,
              "#fb9f3a"
             ],
             [
              0.8888888888888888,
              "#fdca26"
             ],
             [
              1,
              "#f0f921"
             ]
            ],
            "type": "heatmapgl"
           }
          ],
          "histogram": [
           {
            "marker": {
             "pattern": {
              "fillmode": "overlay",
              "size": 10,
              "solidity": 0.2
             }
            },
            "type": "histogram"
           }
          ],
          "histogram2d": [
           {
            "colorbar": {
             "outlinewidth": 0,
             "ticks": ""
            },
            "colorscale": [
             [
              0,
              "#0d0887"
             ],
             [
              0.1111111111111111,
              "#46039f"
             ],
             [
              0.2222222222222222,
              "#7201a8"
             ],
             [
              0.3333333333333333,
              "#9c179e"
             ],
             [
              0.4444444444444444,
              "#bd3786"
             ],
             [
              0.5555555555555556,
              "#d8576b"
             ],
             [
              0.6666666666666666,
              "#ed7953"
             ],
             [
              0.7777777777777778,
              "#fb9f3a"
             ],
             [
              0.8888888888888888,
              "#fdca26"
             ],
             [
              1,
              "#f0f921"
             ]
            ],
            "type": "histogram2d"
           }
          ],
          "histogram2dcontour": [
           {
            "colorbar": {
             "outlinewidth": 0,
             "ticks": ""
            },
            "colorscale": [
             [
              0,
              "#0d0887"
             ],
             [
              0.1111111111111111,
              "#46039f"
             ],
             [
              0.2222222222222222,
              "#7201a8"
             ],
             [
              0.3333333333333333,
              "#9c179e"
             ],
             [
              0.4444444444444444,
              "#bd3786"
             ],
             [
              0.5555555555555556,
              "#d8576b"
             ],
             [
              0.6666666666666666,
              "#ed7953"
             ],
             [
              0.7777777777777778,
              "#fb9f3a"
             ],
             [
              0.8888888888888888,
              "#fdca26"
             ],
             [
              1,
              "#f0f921"
             ]
            ],
            "type": "histogram2dcontour"
           }
          ],
          "mesh3d": [
           {
            "colorbar": {
             "outlinewidth": 0,
             "ticks": ""
            },
            "type": "mesh3d"
           }
          ],
          "parcoords": [
           {
            "line": {
             "colorbar": {
              "outlinewidth": 0,
              "ticks": ""
             }
            },
            "type": "parcoords"
           }
          ],
          "pie": [
           {
            "automargin": true,
            "type": "pie"
           }
          ],
          "scatter": [
           {
            "fillpattern": {
             "fillmode": "overlay",
             "size": 10,
             "solidity": 0.2
            },
            "type": "scatter"
           }
          ],
          "scatter3d": [
           {
            "line": {
             "colorbar": {
              "outlinewidth": 0,
              "ticks": ""
             }
            },
            "marker": {
             "colorbar": {
              "outlinewidth": 0,
              "ticks": ""
             }
            },
            "type": "scatter3d"
           }
          ],
          "scattercarpet": [
           {
            "marker": {
             "colorbar": {
              "outlinewidth": 0,
              "ticks": ""
             }
            },
            "type": "scattercarpet"
           }
          ],
          "scattergeo": [
           {
            "marker": {
             "colorbar": {
              "outlinewidth": 0,
              "ticks": ""
             }
            },
            "type": "scattergeo"
           }
          ],
          "scattergl": [
           {
            "marker": {
             "colorbar": {
              "outlinewidth": 0,
              "ticks": ""
             }
            },
            "type": "scattergl"
           }
          ],
          "scattermapbox": [
           {
            "marker": {
             "colorbar": {
              "outlinewidth": 0,
              "ticks": ""
             }
            },
            "type": "scattermapbox"
           }
          ],
          "scatterpolar": [
           {
            "marker": {
             "colorbar": {
              "outlinewidth": 0,
              "ticks": ""
             }
            },
            "type": "scatterpolar"
           }
          ],
          "scatterpolargl": [
           {
            "marker": {
             "colorbar": {
              "outlinewidth": 0,
              "ticks": ""
             }
            },
            "type": "scatterpolargl"
           }
          ],
          "scatterternary": [
           {
            "marker": {
             "colorbar": {
              "outlinewidth": 0,
              "ticks": ""
             }
            },
            "type": "scatterternary"
           }
          ],
          "surface": [
           {
            "colorbar": {
             "outlinewidth": 0,
             "ticks": ""
            },
            "colorscale": [
             [
              0,
              "#0d0887"
             ],
             [
              0.1111111111111111,
              "#46039f"
             ],
             [
              0.2222222222222222,
              "#7201a8"
             ],
             [
              0.3333333333333333,
              "#9c179e"
             ],
             [
              0.4444444444444444,
              "#bd3786"
             ],
             [
              0.5555555555555556,
              "#d8576b"
             ],
             [
              0.6666666666666666,
              "#ed7953"
             ],
             [
              0.7777777777777778,
              "#fb9f3a"
             ],
             [
              0.8888888888888888,
              "#fdca26"
             ],
             [
              1,
              "#f0f921"
             ]
            ],
            "type": "surface"
           }
          ],
          "table": [
           {
            "cells": {
             "fill": {
              "color": "#EBF0F8"
             },
             "line": {
              "color": "white"
             }
            },
            "header": {
             "fill": {
              "color": "#C8D4E3"
             },
             "line": {
              "color": "white"
             }
            },
            "type": "table"
           }
          ]
         },
         "layout": {
          "annotationdefaults": {
           "arrowcolor": "#2a3f5f",
           "arrowhead": 0,
           "arrowwidth": 1
          },
          "autotypenumbers": "strict",
          "coloraxis": {
           "colorbar": {
            "outlinewidth": 0,
            "ticks": ""
           }
          },
          "colorscale": {
           "diverging": [
            [
             0,
             "#8e0152"
            ],
            [
             0.1,
             "#c51b7d"
            ],
            [
             0.2,
             "#de77ae"
            ],
            [
             0.3,
             "#f1b6da"
            ],
            [
             0.4,
             "#fde0ef"
            ],
            [
             0.5,
             "#f7f7f7"
            ],
            [
             0.6,
             "#e6f5d0"
            ],
            [
             0.7,
             "#b8e186"
            ],
            [
             0.8,
             "#7fbc41"
            ],
            [
             0.9,
             "#4d9221"
            ],
            [
             1,
             "#276419"
            ]
           ],
           "sequential": [
            [
             0,
             "#0d0887"
            ],
            [
             0.1111111111111111,
             "#46039f"
            ],
            [
             0.2222222222222222,
             "#7201a8"
            ],
            [
             0.3333333333333333,
             "#9c179e"
            ],
            [
             0.4444444444444444,
             "#bd3786"
            ],
            [
             0.5555555555555556,
             "#d8576b"
            ],
            [
             0.6666666666666666,
             "#ed7953"
            ],
            [
             0.7777777777777778,
             "#fb9f3a"
            ],
            [
             0.8888888888888888,
             "#fdca26"
            ],
            [
             1,
             "#f0f921"
            ]
           ],
           "sequentialminus": [
            [
             0,
             "#0d0887"
            ],
            [
             0.1111111111111111,
             "#46039f"
            ],
            [
             0.2222222222222222,
             "#7201a8"
            ],
            [
             0.3333333333333333,
             "#9c179e"
            ],
            [
             0.4444444444444444,
             "#bd3786"
            ],
            [
             0.5555555555555556,
             "#d8576b"
            ],
            [
             0.6666666666666666,
             "#ed7953"
            ],
            [
             0.7777777777777778,
             "#fb9f3a"
            ],
            [
             0.8888888888888888,
             "#fdca26"
            ],
            [
             1,
             "#f0f921"
            ]
           ]
          },
          "colorway": [
           "#636efa",
           "#EF553B",
           "#00cc96",
           "#ab63fa",
           "#FFA15A",
           "#19d3f3",
           "#FF6692",
           "#B6E880",
           "#FF97FF",
           "#FECB52"
          ],
          "font": {
           "color": "#2a3f5f"
          },
          "geo": {
           "bgcolor": "white",
           "lakecolor": "white",
           "landcolor": "#E5ECF6",
           "showlakes": true,
           "showland": true,
           "subunitcolor": "white"
          },
          "hoverlabel": {
           "align": "left"
          },
          "hovermode": "closest",
          "mapbox": {
           "style": "light"
          },
          "paper_bgcolor": "white",
          "plot_bgcolor": "#E5ECF6",
          "polar": {
           "angularaxis": {
            "gridcolor": "white",
            "linecolor": "white",
            "ticks": ""
           },
           "bgcolor": "#E5ECF6",
           "radialaxis": {
            "gridcolor": "white",
            "linecolor": "white",
            "ticks": ""
           }
          },
          "scene": {
           "xaxis": {
            "backgroundcolor": "#E5ECF6",
            "gridcolor": "white",
            "gridwidth": 2,
            "linecolor": "white",
            "showbackground": true,
            "ticks": "",
            "zerolinecolor": "white"
           },
           "yaxis": {
            "backgroundcolor": "#E5ECF6",
            "gridcolor": "white",
            "gridwidth": 2,
            "linecolor": "white",
            "showbackground": true,
            "ticks": "",
            "zerolinecolor": "white"
           },
           "zaxis": {
            "backgroundcolor": "#E5ECF6",
            "gridcolor": "white",
            "gridwidth": 2,
            "linecolor": "white",
            "showbackground": true,
            "ticks": "",
            "zerolinecolor": "white"
           }
          },
          "shapedefaults": {
           "line": {
            "color": "#2a3f5f"
           }
          },
          "ternary": {
           "aaxis": {
            "gridcolor": "white",
            "linecolor": "white",
            "ticks": ""
           },
           "baxis": {
            "gridcolor": "white",
            "linecolor": "white",
            "ticks": ""
           },
           "bgcolor": "#E5ECF6",
           "caxis": {
            "gridcolor": "white",
            "linecolor": "white",
            "ticks": ""
           }
          },
          "title": {
           "x": 0.05
          },
          "xaxis": {
           "automargin": true,
           "gridcolor": "white",
           "linecolor": "white",
           "ticks": "",
           "title": {
            "standoff": 15
           },
           "zerolinecolor": "white",
           "zerolinewidth": 2
          },
          "yaxis": {
           "automargin": true,
           "gridcolor": "white",
           "linecolor": "white",
           "ticks": "",
           "title": {
            "standoff": 15
           },
           "zerolinecolor": "white",
           "zerolinewidth": 2
          }
         }
        },
        "title": {
         "text": "3D t-SNE of Pokémon Name Embeddings"
        }
       }
      },
      "image/png": "[encoded data removed]",
      "text/html": [
       "<div>                            <div id=\"bafaee9c-3776-4d48-a5f6-98391e6b0610\" class=\"plotly-graph-div\" style=\"height:800px; width:100%;\"></div>            <script type=\"text/javascript\">                require([\"plotly\"], function(Plotly) {                    window.PLOTLYENV=window.PLOTLYENV || {};                                    if (document.getElementById(\"bafaee9c-3776-4d48-a5f6-98391e6b0610\")) {                    Plotly.newPlot(                        \"bafaee9c-3776-4d48-a5f6-98391e6b0610\",                        [{\"hovertemplate\":\"Component 1=%{x}\\u003cbr\\u003eComponent 2=%{y}\\u003cbr\\u003eComponent 3=%{z}\\u003cbr\\u003ePokémon=%{text}\\u003cextra\\u003e\\u003c\\u002fextra\\u003e\",\"legendgroup\":\"\",\"marker\":{\"color\":\"#636efa\",\"symbol\":\"circle\",\"size\":10},\"mode\":\"markers+text\",\"name\":\"\",\"scene\":\"scene\",\"showlegend\":false,\"text\":[\"bulbasaur\",\"ivysaur\",\"venusaur\",\"charmander\",\"charmeleon\",\"charizard\",\"squirtle\",\"wartortle\",\"blastoise\",\"caterpie\",\"metapod\",\"butterfree\",\"weedle\",\"kakuna\",\"beedrill\",\"pidgey\",\"pidgeotto\",\"pidgeot\",\"rattata\",\"raticate\",\"spearow\",\"fearow\",\"ekans\",\"arbok\",\"pikachu\",\"raichu\",\"sandshrew\",\"sandslash\",\"nidoran\",\"nidorina\",\"nidoqueen\",\"nidoran\",\"nidorino\",\"nidoking\",\"clefairy\",\"clefable\",\"vulpix\",\"ninetales\",\"jigglypuff\",\"wigglytuff\",\"zubat\",\"golbat\",\"oddish\",\"gloom\",\"vileplume\",\"paras\",\"parasect\",\"venonat\",\"venomoth\",\"diglett\",\"dugtrio\",\"meowth\",\"persian\",\"psyduck\",\"golduck\",\"mankey\",\"primeape\",\"growlithe\",\"arcanine\",\"poliwag\",\"poliwhirl\",\"poliwrath\",\"abra\",\"kadabra\",\"alakazam\",\"machop\",\"machoke\",\"machamp\",\"bellsprout\",\"weepinbell\",\"victreebel\",\"tentacool\",\"tentacruel\",\"geodude\",\"graveler\",\"golem\",\"ponyta\",\"rapidash\",\"slowpoke\",\"slowbro\",\"magnemite\",\"magneton\",\"farfetchd\",\"doduo\",\"dodrio\",\"seel\",\"dewgong\",\"grimer\",\"muk\",\"shellder\",\"cloyster\",\"gastly\",\"haunter\",\"gengar\",\"onix\",\"drowzee\",\"hypno\",\"krabby\",\"kingler\",\"voltorb\"],\"x\":[40.78564,21.118698,33.083637,30.42951,25.898296,28.353676,66.32495,18.458763,-49.4565,76.83403,-24.126205,23.375368,-56.967175,-40.970722,55.90015,-50.911728,48.24723,-13.840186,70.01095,87.32045,45.41195,43.762016,-41.756355,-62.167706,-4.32026,-18.340519,38.233303,-49.558254,-74.7062,-66.71988,20.962917,-82.31211,17.86946,-9.919746,41.857952,78.27258,-49.030937,-23.262203,34.96449,25.753525,-39.899708,-30.044212,-28.465414,-43.023617,3.4010327,-36.01164,103.70169,-21.288902,2.7882588,-0.94029635,36.044296,-19.558886,-66.39627,-11.187409,-1.8680727,-76.89756,75.26987,-6.1662197,78.19138,-20.27826,-6.3632765,40.021725,-25.12637,3.88758,0.948861,-17.773577,73.69896,-12.984624,29.476633,-71.77423,-15.489234,50.27061,-75.84079,-27.958609,30.610785,-48.97362,-45.874844,1.7811688,61.42546,40.337406,6.040386,16.97666,16.499474,-73.79519,41.875492,-47.007763,-11.464001,18.770077,-36.09399,31.575377,42.319305,-91.02871,9.080564,-83.70772,-41.95835,-23.99611,-62.25193,-105.78965,9.895816,-12.00625],\"y\":[3.9711807,-18.244637,-10.584276,28.433756,38.076305,-73.77547,-38.304466,-70.999146,27.605427,-2.0282986,-39.959717,77.27258,56.93521,84.88754,-44.565823,-86.48956,10.567865,-31.632742,28.08968,-18.381016,-36.59385,-18.747477,43.428455,9.302224,10.377291,8.612305,12.679535,-31.483664,-27.521673,-32.33283,39.1414,-21.046934,-63.82062,-28.426584,-12.961392,-36.07379,-3.096868,64.09707,15.548903,23.776213,15.009736,-1.5893129,-2.0394077,-30.333176,66.270546,49.79394,-16.0022,-11.019052,-3.1614113,-27.076822,-54.978737,4.736616,-18.94618,15.865558,13.70671,59.364983,-16.96726,87.82867,12.378023,-4.338569,-52.84567,11.728774,61.5525,-36.739902,-7.9854794,-12.341899,43.49669,2.319983,27.664087,-40.07773,-8.368476,50.09302,-29.63289,-58.47397,-35.463608,42.459103,27.889324,-11.417979,-30.916803,-46.67347,76.549095,32.480396,65.80568,14.473015,-8.094887,60.42382,-12.424914,-33.036846,68.660324,-24.692114,-24.62561,52.91937,-25.38824,-60.76599,58.24576,-68.85589,12.391151,38.8451,-34.947754,-44.829407],\"z\":[-2.7251372,11.67988,0.61346734,-29.513416,-19.540817,-21.619743,-46.041153,59.75624,60.511024,-16.21971,32.78096,4.2184267,-20.07727,34.61626,-56.96957,-17.02332,13.347584,43.73587,-52.546074,-27.292118,45.215157,62.40873,7.7308383,-12.166422,10.49797,3.2965207,-16.28931,13.069833,-34.381958,-54.878925,3.904438,-42.590855,15.225912,-65.01911,-37.160217,-49.646606,-13.444177,-49.141747,-65.693756,-66.89737,15.929283,19.773813,-19.80899,-23.741867,-28.933266,17.072836,-26.015762,32.1293,54.89034,45.278282,23.653004,-13.441887,-45.898247,68.70886,76.710434,-24.266178,-23.032345,-6.36632,-14.0065975,-64.9972,-37.772724,33.098072,32.346672,95.9758,-50.526814,-11.445603,2.3653114,37.06897,-45.66248,54.093163,-102.64556,35.654232,43.445442,26.396225,-25.05494,-12.425494,6.453136,64.851234,-21.836634,32.518837,-0.4882023,18.02406,48.767143,-8.295166,70.52203,21.761482,-60.954353,82.073845,35.833927,-16.096287,-25.746561,-24.045328,9.161931,0.6689219,49.984074,14.204001,-30.483908,-19.331774,18.316322,54.03514],\"type\":\"scatter3d\"}],                        {\"template\":{\"data\":{\"histogram2dcontour\":[{\"type\":\"histogram2dcontour\",\"colorbar\":{\"outlinewidth\":0,\"ticks\":\"\"},\"colorscale\":[[0.0,\"#0d0887\"],[0.1111111111111111,\"#46039f\"],[0.2222222222222222,\"#7201a8\"],[0.3333333333333333,\"#9c179e\"],[0.4444444444444444,\"#bd3786\"],[0.5555555555555556,\"#d8576b\"],[0.6666666666666666,\"#ed7953\"],[0.7777777777777778,\"#fb9f3a\"],[0.8888888888888888,\"#fdca26\"],[1.0,\"#f0f921\"]]}],\"choropleth\":[{\"type\":\"choropleth\",\"colorbar\":{\"outlinewidth\":0,\"ticks\":\"\"}}],\"histogram2d\":[{\"type\":\"histogram2d\",\"colorbar\":{\"outlinewidth\":0,\"ticks\":\"\"},\"colorscale\":[[0.0,\"#0d0887\"],[0.1111111111111111,\"#46039f\"],[0.2222222222222222,\"#7201a8\"],[0.3333333333333333,\"#9c179e\"],[0.4444444444444444,\"#bd3786\"],[0.5555555555555556,\"#d8576b\"],[0.6666666666666666,\"#ed7953\"],[0.7777777777777778,\"#fb9f3a\"],[0.8888888888888888,\"#fdca26\"],[1.0,\"#f0f921\"]]}],\"heatmap\":[{\"type\":\"heatmap\",\"colorbar\":{\"outlinewidth\":0,\"ticks\":\"\"},\"colorscale\":[[0.0,\"#0d0887\"],[0.1111111111111111,\"#46039f\"],[0.2222222222222222,\"#7201a8\"],[0.3333333333333333,\"#9c179e\"],[0.4444444444444444,\"#bd3786\"],[0.5555555555555556,\"#d8576b\"],[0.6666666666666666,\"#ed7953\"],[0.7777777777777778,\"#fb9f3a\"],[0.8888888888888888,\"#fdca26\"],[1.0,\"#f0f921\"]]}],\"heatmapgl\":[{\"type\":\"heatmapgl\",\"colorbar\":{\"outlinewidth\":0,\"ticks\":\"\"},\"colorscale\":[[0.0,\"#0d0887\"],[0.1111111111111111,\"#46039f\"],[0.2222222222222222,\"#7201a8\"],[0.3333333333333333,\"#9c179e\"],[0.4444444444444444,\"#bd3786\"],[0.5555555555555556,\"#d8576b\"],[0.6666666666666666,\"#ed7953\"],[0.7777777777777778,\"#fb9f3a\"],[0.8888888888888888,\"#fdca26\"],[1.0,\"#f0f921\"]]}],\"contourcarpet\":[{\"type\":\"contourcarpet\",\"colorbar\":{\"outlinewidth\":0,\"ticks\":\"\"}}],\"contour\":[{\"type\":\"contour\",\"colorbar\":{\"outlinewidth\":0,\"ticks\":\"\"},\"colorscale\":[[0.0,\"#0d0887\"],[0.1111111111111111,\"#46039f\"],[0.2222222222222222,\"#7201a8\"],[0.3333333333333333,\"#9c179e\"],[0.4444444444444444,\"#bd3786\"],[0.5555555555555556,\"#d8576b\"],[0.6666666666666666,\"#ed7953\"],[0.7777777777777778,\"#fb9f3a\"],[0.8888888888888888,\"#fdca26\"],[1.0,\"#f0f921\"]]}],\"surface\":[{\"type\":\"surface\",\"colorbar\":{\"outlinewidth\":0,\"ticks\":\"\"},\"colorscale\":[[0.0,\"#0d0887\"],[0.1111111111111111,\"#46039f\"],[0.2222222222222222,\"#7201a8\"],[0.3333333333333333,\"#9c179e\"],[0.4444444444444444,\"#bd3786\"],[0.5555555555555556,\"#d8576b\"],[0.6666666666666666,\"#ed7953\"],[0.7777777777777778,\"#fb9f3a\"],[0.8888888888888888,\"#fdca26\"],[1.0,\"#f0f921\"]]}],\"mesh3d\":[{\"type\":\"mesh3d\",\"colorbar\":{\"outlinewidth\":0,\"ticks\":\"\"}}],\"scatter\":[{\"fillpattern\":{\"fillmode\":\"overlay\",\"size\":10,\"solidity\":0.2},\"type\":\"scatter\"}],\"parcoords\":[{\"type\":\"parcoords\",\"line\":{\"colorbar\":{\"outlinewidth\":0,\"ticks\":\"\"}}}],\"scatterpolargl\":[{\"type\":\"scatterpolargl\",\"marker\":{\"colorbar\":{\"outlinewidth\":0,\"ticks\":\"\"}}}],\"bar\":[{\"error_x\":{\"color\":\"#2a3f5f\"},\"error_y\":{\"color\":\"#2a3f5f\"},\"marker\":{\"line\":{\"color\":\"#E5ECF6\",\"width\":0.5},\"pattern\":{\"fillmode\":\"overlay\",\"size\":10,\"solidity\":0.2}},\"type\":\"bar\"}],\"scattergeo\":[{\"type\":\"scattergeo\",\"marker\":{\"colorbar\":{\"outlinewidth\":0,\"ticks\":\"\"}}}],\"scatterpolar\":[{\"type\":\"scatterpolar\",\"marker\":{\"colorbar\":{\"outlinewidth\":0,\"ticks\":\"\"}}}],\"histogram\":[{\"marker\":{\"pattern\":{\"fillmode\":\"overlay\",\"size\":10,\"solidity\":0.2}},\"type\":\"histogram\"}],\"scattergl\":[{\"type\":\"scattergl\",\"marker\":{\"colorbar\":{\"outlinewidth\":0,\"ticks\":\"\"}}}],\"scatter3d\":[{\"type\":\"scatter3d\",\"line\":{\"colorbar\":{\"outlinewidth\":0,\"ticks\":\"\"}},\"marker\":{\"colorbar\":{\"outlinewidth\":0,\"ticks\":\"\"}}}],\"scattermapbox\":[{\"type\":\"scattermapbox\",\"marker\":{\"colorbar\":{\"outlinewidth\":0,\"ticks\":\"\"}}}],\"scatterternary\":[{\"type\":\"scatterternary\",\"marker\":{\"colorbar\":{\"outlinewidth\":0,\"ticks\":\"\"}}}],\"scattercarpet\":[{\"type\":\"scattercarpet\",\"marker\":{\"colorbar\":{\"outlinewidth\":0,\"ticks\":\"\"}}}],\"carpet\":[{\"aaxis\":{\"endlinecolor\":\"#2a3f5f\",\"gridcolor\":\"white\",\"linecolor\":\"white\",\"minorgridcolor\":\"white\",\"startlinecolor\":\"#2a3f5f\"},\"baxis\":{\"endlinecolor\":\"#2a3f5f\",\"gridcolor\":\"white\",\"linecolor\":\"white\",\"minorgridcolor\":\"white\",\"startlinecolor\":\"#2a3f5f\"},\"type\":\"carpet\"}],\"table\":[{\"cells\":{\"fill\":{\"color\":\"#EBF0F8\"},\"line\":{\"color\":\"white\"}},\"header\":{\"fill\":{\"color\":\"#C8D4E3\"},\"line\":{\"color\":\"white\"}},\"type\":\"table\"}],\"barpolar\":[{\"marker\":{\"line\":{\"color\":\"#E5ECF6\",\"width\":0.5},\"pattern\":{\"fillmode\":\"overlay\",\"size\":10,\"solidity\":0.2}},\"type\":\"barpolar\"}],\"pie\":[{\"automargin\":true,\"type\":\"pie\"}]},\"layout\":{\"autotypenumbers\":\"strict\",\"colorway\":[\"#636efa\",\"#EF553B\",\"#00cc96\",\"#ab63fa\",\"#FFA15A\",\"#19d3f3\",\"#FF6692\",\"#B6E880\",\"#FF97FF\",\"#FECB52\"],\"font\":{\"color\":\"#2a3f5f\"},\"hovermode\":\"closest\",\"hoverlabel\":{\"align\":\"left\"},\"paper_bgcolor\":\"white\",\"plot_bgcolor\":\"#E5ECF6\",\"polar\":{\"bgcolor\":\"#E5ECF6\",\"angularaxis\":{\"gridcolor\":\"white\",\"linecolor\":\"white\",\"ticks\":\"\"},\"radialaxis\":{\"gridcolor\":\"white\",\"linecolor\":\"white\",\"ticks\":\"\"}},\"ternary\":{\"bgcolor\":\"#E5ECF6\",\"aaxis\":{\"gridcolor\":\"white\",\"linecolor\":\"white\",\"ticks\":\"\"},\"baxis\":{\"gridcolor\":\"white\",\"linecolor\":\"white\",\"ticks\":\"\"},\"caxis\":{\"gridcolor\":\"white\",\"linecolor\":\"white\",\"ticks\":\"\"}},\"coloraxis\":{\"colorbar\":{\"outlinewidth\":0,\"ticks\":\"\"}},\"colorscale\":{\"sequential\":[[0.0,\"#0d0887\"],[0.1111111111111111,\"#46039f\"],[0.2222222222222222,\"#7201a8\"],[0.3333333333333333,\"#9c179e\"],[0.4444444444444444,\"#bd3786\"],[0.5555555555555556,\"#d8576b\"],[0.6666666666666666,\"#ed7953\"],[0.7777777777777778,\"#fb9f3a\"],[0.8888888888888888,\"#fdca26\"],[1.0,\"#f0f921\"]],\"sequentialminus\":[[0.0,\"#0d0887\"],[0.1111111111111111,\"#46039f\"],[0.2222222222222222,\"#7201a8\"],[0.3333333333333333,\"#9c179e\"],[0.4444444444444444,\"#bd3786\"],[0.5555555555555556,\"#d8576b\"],[0.6666666666666666,\"#ed7953\"],[0.7777777777777778,\"#fb9f3a\"],[0.8888888888888888,\"#fdca26\"],[1.0,\"#f0f921\"]],\"diverging\":[[0,\"#8e0152\"],[0.1,\"#c51b7d\"],[0.2,\"#de77ae\"],[0.3,\"#f1b6da\"],[0.4,\"#fde0ef\"],[0.5,\"#f7f7f7\"],[0.6,\"#e6f5d0\"],[0.7,\"#b8e186\"],[0.8,\"#7fbc41\"],[0.9,\"#4d9221\"],[1,\"#276419\"]]},\"xaxis\":{\"gridcolor\":\"white\",\"linecolor\":\"white\",\"ticks\":\"\",\"title\":{\"standoff\":15},\"zerolinecolor\":\"white\",\"automargin\":true,\"zerolinewidth\":2},\"yaxis\":{\"gridcolor\":\"white\",\"linecolor\":\"white\",\"ticks\":\"\",\"title\":{\"standoff\":15},\"zerolinecolor\":\"white\",\"automargin\":true,\"zerolinewidth\":2},\"scene\":{\"xaxis\":{\"backgroundcolor\":\"#E5ECF6\",\"gridcolor\":\"white\",\"linecolor\":\"white\",\"showbackground\":true,\"ticks\":\"\",\"zerolinecolor\":\"white\",\"gridwidth\":2},\"yaxis\":{\"backgroundcolor\":\"#E5ECF6\",\"gridcolor\":\"white\",\"linecolor\":\"white\",\"showbackground\":true,\"ticks\":\"\",\"zerolinecolor\":\"white\",\"gridwidth\":2},\"zaxis\":{\"backgroundcolor\":\"#E5ECF6\",\"gridcolor\":\"white\",\"linecolor\":\"white\",\"showbackground\":true,\"ticks\":\"\",\"zerolinecolor\":\"white\",\"gridwidth\":2}},\"shapedefaults\":{\"line\":{\"color\":\"#2a3f5f\"}},\"annotationdefaults\":{\"arrowcolor\":\"#2a3f5f\",\"arrowhead\":0,\"arrowwidth\":1},\"geo\":{\"bgcolor\":\"white\",\"landcolor\":\"#E5ECF6\",\"subunitcolor\":\"white\",\"showland\":true,\"showlakes\":true,\"lakecolor\":\"white\"},\"title\":{\"x\":0.05},\"mapbox\":{\"style\":\"light\"}}},\"scene\":{\"domain\":{\"x\":[0.0,1.0],\"y\":[0.0,1.0]},\"xaxis\":{\"title\":{\"text\":\"TSNE Component 1\"}},\"yaxis\":{\"title\":{\"text\":\"TSNE Component 2\"}},\"zaxis\":{\"title\":{\"text\":\"TSNE Component 3\"}}},\"legend\":{\"tracegroupgap\":0},\"title\":{\"text\":\"3D t-SNE of Pokémon Name Embeddings\"},\"height\":800},                        {\"responsive\": true}                    ).then(function(){\n",
       "                            \n",
       "var gd = document.getElementById('bafaee9c-3776-4d48-a5f6-98391e6b0610');\n",
       "var x = new MutationObserver(function (mutations, observer) {{\n",
       "        var display = window.getComputedStyle(gd).display;\n",
       "        if (!display || display === 'none') {{\n",
       "            console.log([gd, 'removed!']);\n",
       "            Plotly.purge(gd);\n",
       "            observer.disconnect();\n",
       "        }}\n",
       "}});\n",
       "\n",
       "// Listen for the removal of the full notebook cells\n",
       "var notebookContainer = gd.closest('#notebook-container');\n",
       "if (notebookContainer) {{\n",
       "    x.observe(notebookContainer, {childList: true});\n",
       "}}\n",
       "\n",
       "// Listen for the clearing of the current output cell\n",
       "var outputEl = gd.closest('.output');\n",
       "if (outputEl) {{\n",
       "    x.observe(outputEl, {childList: true});\n",
       "}}\n",
       "\n",
       "                        })                };                });            </script>        </div>"
      ]
     },
     "metadata": {},
     "output_type": "display_data"
    }
   ],
   "source": [
    "from sklearn.manifold import TSNE\n",
    "\n",
    "# Dimensionality reduction using t-SNE for 3D visualization\n",
    "import plotly.express as px\n",
    "\n",
    "# Flatten the one-hot encoded arrays into a 2D array\n",
    "flattened_encoded_pokemon = encoded_pokemon.reshape(len(words), -1)  # Reshape to (number of Pokémon, max_length * number of characters)\n",
    "\n",
    "# Check the shape of the flattened result\n",
    "print(flattened_encoded_pokemon.shape)  # Should be (number of words, max_length * number of characters)\n",
    "\n",
    "# Dimensionality reduction using t-SNE for 3D visualization\n",
    "tsne = TSNE(n_components=3, perplexity=3, random_state=42)\n",
    "pokemon_tsne_3d = tsne.fit_transform(flattened_encoded_pokemon)\n",
    "\n",
    "# Create a DataFrame for Plotly visualization\n",
    "df = pd.DataFrame(pokemon_tsne_3d, columns=['Component 1', 'Component 2', 'Component 3'])\n",
    "df['Pokémon'] = words  # Add Pokémon names for labeling\n",
    "\n",
    "# 3D Scatter Plot using Plotly Express\n",
    "fig = px.scatter_3d(\n",
    "    df, \n",
    "    x='Component 1', \n",
    "    y='Component 2', \n",
    "    z='Component 3', \n",
    "    text='Pokémon',  # Display Pokémon names\n",
    "    title='3D t-SNE of Pokémon Name Embeddings',\n",
    "    height=800\n",
    ")\n",
    "\n",
    "fig.update_traces(marker_size=10)\n",
    "fig.update_layout(scene=dict(\n",
    "    xaxis_title='TSNE Component 1',\n",
    "    yaxis_title='TSNE Component 2',\n",
    "    zaxis_title='TSNE Component 3',\n",
    "))\n",
    "\n",
    "fig.show()"
   ]
  },
  {
   "cell_type": "code",
   "execution_count": 48,
   "id": "26cbd3b7-b0ee-4eda-ac6b-a407b82703a5",
   "metadata": {},
   "outputs": [],
   "source": [
    "df.to_csv('pokemon-3d-visualization/pokemon_tsne_data_lstm.csv', index=False)"
   ]
  },
  {
   "cell_type": "code",
   "execution_count": null,
   "id": "9877e933-1986-45a6-876f-512495af970e",
   "metadata": {},
   "outputs": [],
   "source": []
  }
 ],
 "metadata": {
  "kernelspec": {
   "display_name": "Python 3 (ipykernel)",
   "language": "python",
   "name": "python3"
  },
  "language_info": {
   "codemirror_mode": {
    "name": "ipython",
    "version": 3
   },
   "file_extension": ".py",
   "mimetype": "text/x-python",
   "name": "python",
   "nbconvert_exporter": "python",
   "pygments_lexer": "ipython3",
   "version": "3.12.4"
  }
 },
 "nbformat": 4,
 "nbformat_minor": 5
}
