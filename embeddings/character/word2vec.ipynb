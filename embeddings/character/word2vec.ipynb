{
 "cells": [
  {
   "cell_type": "code",
   "execution_count": 35,
   "id": "b0aa3659-08a9-45ed-88e0-21bbb4f4c47a",
   "metadata": {},
   "outputs": [],
   "source": [
    "import pandas as pd\n",
    "import torch\n",
    "import string\n",
    "import numpy as np\n",
    "import re\n",
    "\n",
    "# Function to clean words by removing special characters\n",
    "def clean_word(word):\n",
    "    # Remove anything that's not a letter (a-z) or dot (.), and convert to lowercase\n",
    "    return re.sub(r'[^a-z]', '', word.lower())\n",
    "\n",
    "# Load the dataset\n",
    "data = pd.read_csv('dataset/pokemon.csv')[\"name\"]\n",
    "words = data.to_list()\n",
    "words = list(map(clean_word, words[:100]))"
   ]
  },
  {
   "cell_type": "code",
   "execution_count": 36,
   "id": "794ed3ee-cdce-4bfb-bb37-27df32cc379b",
   "metadata": {},
   "outputs": [
    {
     "data": {
      "text/plain": [
       "100"
      ]
     },
     "execution_count": 36,
     "metadata": {},
     "output_type": "execute_result"
    }
   ],
   "source": [
    "len(words)"
   ]
  },
  {
   "cell_type": "code",
   "execution_count": 37,
   "id": "10868b94-462e-4362-ae23-caea5720b5a3",
   "metadata": {},
   "outputs": [],
   "source": [
    "# Tokenize names by characters\n",
    "character_sequences = [list(name) for name in words]\n",
    "\n",
    "# Train Word2Vec on character sequences\n",
    "# Parameters: vector_size controls embedding dimensions, window is context size, min_count=1 ensures all characters are included\n",
    "model = Word2Vec(character_sequences, vector_size=50, window=2, min_count=1, sg=1)\n",
    "\n",
    "# Get character embeddings\n",
    "char_vectors = {char: model.wv[char] for char in model.wv.index_to_key}"
   ]
  },
  {
   "cell_type": "code",
   "execution_count": 38,
   "id": "a490b03f-1947-4bb4-985e-b68a0b8f9f6c",
   "metadata": {},
   "outputs": [],
   "source": [
    "# To encode an entire Pokémon name, we can average the vectors of its characters\n",
    "def encode_name(name):\n",
    "    return np.mean([model.wv[char] for char in name if char in model.wv], axis=0)"
   ]
  },
  {
   "cell_type": "code",
   "execution_count": 39,
   "id": "341bed1d-bf90-467e-b1de-a190752fd7f9",
   "metadata": {},
   "outputs": [
    {
     "data": {
      "text/plain": [
       "array([-5.6121368e-03,  3.2989557e-03,  8.2296063e-04,  7.8265909e-03,\n",
       "        6.7323605e-03, -4.4042585e-04,  1.1334162e-02, -4.7891103e-03,\n",
       "       -1.2259428e-02,  2.5233072e-03,  4.9297339e-03, -5.4915515e-03,\n",
       "        6.8668667e-03, -9.4687077e-04,  3.6649678e-03,  2.6342971e-03,\n",
       "        5.2121873e-03,  1.0754899e-02, -1.0770697e-02, -9.5675327e-03,\n",
       "        2.8032160e-03,  7.7195051e-03,  1.2828835e-02, -8.9899348e-03,\n",
       "        7.4082590e-03,  4.4498486e-03,  5.5798155e-04, -2.6656906e-03,\n",
       "       -3.6922325e-03, -5.4455134e-03,  1.0816392e-02, -2.5518707e-03,\n",
       "        4.1083563e-03,  4.5883977e-03, -7.6799765e-03,  9.7528961e-04,\n",
       "       -1.7536245e-04,  7.0633396e-04, -5.4692558e-04, -2.9629541e-03,\n",
       "        5.8211624e-03, -5.4968830e-05,  7.8713417e-04, -3.0841453e-03,\n",
       "        1.0449376e-02,  9.9222669e-03, -5.7527209e-03, -9.1513358e-03,\n",
       "       -2.5399078e-03, -1.6530727e-03], dtype=float32)"
      ]
     },
     "execution_count": 39,
     "metadata": {},
     "output_type": "execute_result"
    }
   ],
   "source": [
    "encode_name('bulbasaur')"
   ]
  },
  {
   "cell_type": "code",
   "execution_count": 40,
   "id": "92dcda8b-3e66-4b88-b78e-ad7394bdbd04",
   "metadata": {},
   "outputs": [],
   "source": [
    "# Encode Pokémon names\n",
    "encoded_pokemon = np.array([encode_name(word) for word in words])"
   ]
  },
  {
   "cell_type": "code",
   "execution_count": 41,
   "id": "65ddcac7-ec1d-4d1a-8ea0-aea19bbb0744",
   "metadata": {},
   "outputs": [
    {
     "name": "stdout",
     "output_type": "stream",
     "text": [
      "(100, 50)\n"
     ]
    },
    {
     "data": {
      "application/vnd.plotly.v1+json": {
       "config": {
        "plotlyServerURL": "https://plot.ly"
       },
       "data": [
        {
         "hovertemplate": "Component 1=%{x}<br>Component 2=%{y}<br>Component 3=%{z}<br>Pokémon=%{text}<extra></extra>",
         "legendgroup": "",
         "marker": {
          "color": "#636efa",
          "size": 10,
          "symbol": "circle"
         },
         "mode": "markers+text",
         "name": "",
         "scene": "scene",
         "showlegend": false,
         "text": [
          "bulbasaur",
          "ivysaur",
          "venusaur",
          "charmander",
          "charmeleon",
          "charizard",
          "squirtle",
          "wartortle",
          "blastoise",
          "caterpie",
          "metapod",
          "butterfree",
          "weedle",
          "kakuna",
          "beedrill",
          "pidgey",
          "pidgeotto",
          "pidgeot",
          "rattata",
          "raticate",
          "spearow",
          "fearow",
          "ekans",
          "arbok",
          "pikachu",
          "raichu",
          "sandshrew",
          "sandslash",
          "nidoran",
          "nidorina",
          "nidoqueen",
          "nidoran",
          "nidorino",
          "nidoking",
          "clefairy",
          "clefable",
          "vulpix",
          "ninetales",
          "jigglypuff",
          "wigglytuff",
          "zubat",
          "golbat",
          "oddish",
          "gloom",
          "vileplume",
          "paras",
          "parasect",
          "venonat",
          "venomoth",
          "diglett",
          "dugtrio",
          "meowth",
          "persian",
          "psyduck",
          "golduck",
          "mankey",
          "primeape",
          "growlithe",
          "arcanine",
          "poliwag",
          "poliwhirl",
          "poliwrath",
          "abra",
          "kadabra",
          "alakazam",
          "machop",
          "machoke",
          "machamp",
          "bellsprout",
          "weepinbell",
          "victreebel",
          "tentacool",
          "tentacruel",
          "geodude",
          "graveler",
          "golem",
          "ponyta",
          "rapidash",
          "slowpoke",
          "slowbro",
          "magnemite",
          "magneton",
          "farfetchd",
          "doduo",
          "dodrio",
          "seel",
          "dewgong",
          "grimer",
          "muk",
          "shellder",
          "cloyster",
          "gastly",
          "haunter",
          "gengar",
          "onix",
          "drowzee",
          "hypno",
          "krabby",
          "kingler",
          "voltorb"
         ],
         "type": "scatter3d",
         "x": [
          39.36594,
          14.377642,
          47.651554,
          -0.080114126,
          -8.25275,
          7.362312,
          56.29009,
          32.091618,
          43.759304,
          0.099724226,
          -40.779198,
          -44.46215,
          -51.414158,
          4.166404,
          -45.57465,
          -56.64503,
          -51.112625,
          -52.727104,
          4.5017395,
          4.6688404,
          -3.8381891,
          -23.454706,
          -4.729317,
          60.271786,
          -12.042078,
          -0.46497604,
          39.03428,
          41.104576,
          94.14607,
          78.23595,
          -86.79766,
          -41.176174,
          77.49413,
          66.1753,
          21.882278,
          -36.7482,
          -48.690945,
          -18.505,
          25.000645,
          -32.028957,
          16.007011,
          25.83735,
          79.12603,
          -108.95519,
          -49.456783,
          6.297758,
          1.9606518,
          -7.899566,
          -18.42149,
          -57.764904,
          -67.811935,
          -26.24052,
          -0.15005162,
          -26.237818,
          -81.80468,
          -2.8590043,
          -15.992175,
          -52.86093,
          -13.24446,
          -72.06052,
          -62.636127,
          -12.123121,
          32.502327,
          86.284805,
          20.485535,
          2.7280266,
          -4.872124,
          7.877879,
          39.622597,
          -52.44535,
          5.7489324,
          34.178574,
          37.281334,
          80.39239,
          -5.901105,
          2.6982098,
          -19.38482,
          11.517383,
          5.0031824,
          26.41108,
          0.78352875,
          2.575007,
          26.926842,
          -24.607742,
          78.43784,
          -46.76443,
          19.223574,
          -10.694576,
          54.21452,
          -41.877872,
          -54.002174,
          38.35426,
          42.541622,
          -27.567171,
          74.07331,
          -35.837406,
          -31.744202,
          51.525978,
          -38.712887,
          62.84097
         ],
         "y": [
          -44.2985,
          -31.566124,
          -23.523972,
          20.128801,
          30.879168,
          21.439697,
          -63.893906,
          -32.174973,
          -69.206314,
          -13.1611805,
          3.5580435,
          60.077713,
          21.647623,
          66.21416,
          9.216716,
          -11.848941,
          -13.1056,
          -9.915199,
          -31.778467,
          -22.884277,
          -52.423542,
          14.623857,
          54.26241,
          47.560143,
          -29.581455,
          -33.208363,
          29.148916,
          42.971962,
          25.33481,
          26.552814,
          29.78347,
          -62.960297,
          9.83928,
          25.663067,
          -2.1448762,
          60.025497,
          -24.3398,
          34.79429,
          -102.36044,
          93.46447,
          -56.487988,
          -64.78618,
          7.299593,
          45.064205,
          -8.273201,
          8.340536,
          -6.673356,
          14.283229,
          9.220388,
          -37.42144,
          -9.66312,
          5.4481683,
          -33.03493,
          -24.182774,
          -9.367652,
          56.386818,
          -19.815252,
          -48.15869,
          41.436275,
          -55.457012,
          -40.563152,
          180.49132,
          67.881355,
          -33.44437,
          80.223976,
          31.613321,
          42.525642,
          21.60481,
          -60.730816,
          7.7173634,
          -8.5192585,
          -9.10106,
          -17.842598,
          -12.550307,
          3.4019985,
          63.576473,
          0.029330283,
          20.395828,
          -61.873707,
          -63.50457,
          34.671062,
          22.300184,
          9.834659,
          -89.94248,
          -5.9941945,
          34.945496,
          16.973553,
          -8.395002,
          -18.439997,
          21.079063,
          19.55921,
          -70.92728,
          -20.305254,
          -65.38003,
          4.6659617,
          23.862762,
          -0.986023,
          58.223167,
          -56.99149,
          18.303988
         ],
         "z": [
          14.7456455,
          58.235123,
          9.469843,
          17.866446,
          24.29253,
          5.9972553,
          30.09601,
          -50.59994,
          3.6921992,
          -5.47167,
          -24.025915,
          13.914024,
          60.69094,
          7.9016376,
          36.081287,
          -9.164733,
          -37.098885,
          -24.983252,
          -39.228977,
          -25.612652,
          26.922215,
          83.00047,
          -4.1187615,
          41.529476,
          66.79648,
          62.853096,
          -2.3649826,
          -7.662328,
          -30.543465,
          -28.92437,
          -10.329571,
          37.941822,
          -29.785917,
          -40.819622,
          15.701447,
          -26.118328,
          43.075104,
          -20.239777,
          -1.7772272,
          -8.1420765,
          -18.348871,
          -23.720331,
          -7.9620724,
          49.57096,
          40.597836,
          -22.907331,
          -18.390526,
          -75.516464,
          -84.21689,
          -25.26376,
          -39.19631,
          -95.50463,
          7.582789,
          76.35574,
          -47.721348,
          23.511225,
          -1.6866292,
          -13.729481,
          -10.380133,
          -2.1860914,
          11.333712,
          -16.49712,
          46.62641,
          -24.79683,
          25.95203,
          53.810055,
          32.424435,
          59.95789,
          21.8576,
          50.91475,
          6.4569826,
          -31.835678,
          -17.835703,
          48.48719,
          22.781023,
          -42.809944,
          -55.6232,
          -8.938379,
          29.97419,
          32.156616,
          -60.96495,
          -69.548775,
          27.7785,
          11.072573,
          -18.30696,
          42.933025,
          -71.19566,
          32.944138,
          24.179228,
          32.531372,
          3.2255385,
          -20.967064,
          -6.4288216,
          -22.983398,
          -45.909325,
          78.84496,
          -65.95865,
          50.560467,
          -15.013357,
          41.3722
         ]
        }
       ],
       "layout": {
        "autosize": true,
        "legend": {
         "tracegroupgap": 0
        },
        "scene": {
         "aspectmode": "auto",
         "aspectratio": {
          "x": 0.9348427703774557,
          "y": 1.3019216272933962,
          "z": 0.8216305610831994
         },
         "camera": {
          "center": {
           "x": 0,
           "y": 0,
           "z": 0
          },
          "eye": {
           "x": -0.004189810122866206,
           "y": 0.007822752792293058,
           "z": -0.004609775470128576
          },
          "projection": {
           "type": "perspective"
          },
          "up": {
           "x": 0,
           "y": 0,
           "z": 1
          }
         },
         "domain": {
          "x": [
           0,
           1
          ],
          "y": [
           0,
           1
          ]
         },
         "xaxis": {
          "title": {
           "text": "TSNE Component 1"
          },
          "type": "linear"
         },
         "yaxis": {
          "title": {
           "text": "TSNE Component 2"
          },
          "type": "linear"
         },
         "zaxis": {
          "title": {
           "text": "TSNE Component 3"
          },
          "type": "linear"
         }
        },
        "template": {
         "data": {
          "bar": [
           {
            "error_x": {
             "color": "#2a3f5f"
            },
            "error_y": {
             "color": "#2a3f5f"
            },
            "marker": {
             "line": {
              "color": "#E5ECF6",
              "width": 0.5
             },
             "pattern": {
              "fillmode": "overlay",
              "size": 10,
              "solidity": 0.2
             }
            },
            "type": "bar"
           }
          ],
          "barpolar": [
           {
            "marker": {
             "line": {
              "color": "#E5ECF6",
              "width": 0.5
             },
             "pattern": {
              "fillmode": "overlay",
              "size": 10,
              "solidity": 0.2
             }
            },
            "type": "barpolar"
           }
          ],
          "carpet": [
           {
            "aaxis": {
             "endlinecolor": "#2a3f5f",
             "gridcolor": "white",
             "linecolor": "white",
             "minorgridcolor": "white",
             "startlinecolor": "#2a3f5f"
            },
            "baxis": {
             "endlinecolor": "#2a3f5f",
             "gridcolor": "white",
             "linecolor": "white",
             "minorgridcolor": "white",
             "startlinecolor": "#2a3f5f"
            },
            "type": "carpet"
           }
          ],
          "choropleth": [
           {
            "colorbar": {
             "outlinewidth": 0,
             "ticks": ""
            },
            "type": "choropleth"
           }
          ],
          "contour": [
           {
            "colorbar": {
             "outlinewidth": 0,
             "ticks": ""
            },
            "colorscale": [
             [
              0,
              "#0d0887"
             ],
             [
              0.1111111111111111,
              "#46039f"
             ],
             [
              0.2222222222222222,
              "#7201a8"
             ],
             [
              0.3333333333333333,
              "#9c179e"
             ],
             [
              0.4444444444444444,
              "#bd3786"
             ],
             [
              0.5555555555555556,
              "#d8576b"
             ],
             [
              0.6666666666666666,
              "#ed7953"
             ],
             [
              0.7777777777777778,
              "#fb9f3a"
             ],
             [
              0.8888888888888888,
              "#fdca26"
             ],
             [
              1,
              "#f0f921"
             ]
            ],
            "type": "contour"
           }
          ],
          "contourcarpet": [
           {
            "colorbar": {
             "outlinewidth": 0,
             "ticks": ""
            },
            "type": "contourcarpet"
           }
          ],
          "heatmap": [
           {
            "colorbar": {
             "outlinewidth": 0,
             "ticks": ""
            },
            "colorscale": [
             [
              0,
              "#0d0887"
             ],
             [
              0.1111111111111111,
              "#46039f"
             ],
             [
              0.2222222222222222,
              "#7201a8"
             ],
             [
              0.3333333333333333,
              "#9c179e"
             ],
             [
              0.4444444444444444,
              "#bd3786"
             ],
             [
              0.5555555555555556,
              "#d8576b"
             ],
             [
              0.6666666666666666,
              "#ed7953"
             ],
             [
              0.7777777777777778,
              "#fb9f3a"
             ],
             [
              0.8888888888888888,
              "#fdca26"
             ],
             [
              1,
              "#f0f921"
             ]
            ],
            "type": "heatmap"
           }
          ],
          "heatmapgl": [
           {
            "colorbar": {
             "outlinewidth": 0,
             "ticks": ""
            },
            "colorscale": [
             [
              0,
              "#0d0887"
             ],
             [
              0.1111111111111111,
              "#46039f"
             ],
             [
              0.2222222222222222,
              "#7201a8"
             ],
             [
              0.3333333333333333,
              "#9c179e"
             ],
             [
              0.4444444444444444,
              "#bd3786"
             ],
             [
              0.5555555555555556,
              "#d8576b"
             ],
             [
              0.6666666666666666,
              "#ed7953"
             ],
             [
              0.7777777777777778,
              "#fb9f3a"
             ],
             [
              0.8888888888888888,
              "#fdca26"
             ],
             [
              1,
              "#f0f921"
             ]
            ],
            "type": "heatmapgl"
           }
          ],
          "histogram": [
           {
            "marker": {
             "pattern": {
              "fillmode": "overlay",
              "size": 10,
              "solidity": 0.2
             }
            },
            "type": "histogram"
           }
          ],
          "histogram2d": [
           {
            "colorbar": {
             "outlinewidth": 0,
             "ticks": ""
            },
            "colorscale": [
             [
              0,
              "#0d0887"
             ],
             [
              0.1111111111111111,
              "#46039f"
             ],
             [
              0.2222222222222222,
              "#7201a8"
             ],
             [
              0.3333333333333333,
              "#9c179e"
             ],
             [
              0.4444444444444444,
              "#bd3786"
             ],
             [
              0.5555555555555556,
              "#d8576b"
             ],
             [
              0.6666666666666666,
              "#ed7953"
             ],
             [
              0.7777777777777778,
              "#fb9f3a"
             ],
             [
              0.8888888888888888,
              "#fdca26"
             ],
             [
              1,
              "#f0f921"
             ]
            ],
            "type": "histogram2d"
           }
          ],
          "histogram2dcontour": [
           {
            "colorbar": {
             "outlinewidth": 0,
             "ticks": ""
            },
            "colorscale": [
             [
              0,
              "#0d0887"
             ],
             [
              0.1111111111111111,
              "#46039f"
             ],
             [
              0.2222222222222222,
              "#7201a8"
             ],
             [
              0.3333333333333333,
              "#9c179e"
             ],
             [
              0.4444444444444444,
              "#bd3786"
             ],
             [
              0.5555555555555556,
              "#d8576b"
             ],
             [
              0.6666666666666666,
              "#ed7953"
             ],
             [
              0.7777777777777778,
              "#fb9f3a"
             ],
             [
              0.8888888888888888,
              "#fdca26"
             ],
             [
              1,
              "#f0f921"
             ]
            ],
            "type": "histogram2dcontour"
           }
          ],
          "mesh3d": [
           {
            "colorbar": {
             "outlinewidth": 0,
             "ticks": ""
            },
            "type": "mesh3d"
           }
          ],
          "parcoords": [
           {
            "line": {
             "colorbar": {
              "outlinewidth": 0,
              "ticks": ""
             }
            },
            "type": "parcoords"
           }
          ],
          "pie": [
           {
            "automargin": true,
            "type": "pie"
           }
          ],
          "scatter": [
           {
            "fillpattern": {
             "fillmode": "overlay",
             "size": 10,
             "solidity": 0.2
            },
            "type": "scatter"
           }
          ],
          "scatter3d": [
           {
            "line": {
             "colorbar": {
              "outlinewidth": 0,
              "ticks": ""
             }
            },
            "marker": {
             "colorbar": {
              "outlinewidth": 0,
              "ticks": ""
             }
            },
            "type": "scatter3d"
           }
          ],
          "scattercarpet": [
           {
            "marker": {
             "colorbar": {
              "outlinewidth": 0,
              "ticks": ""
             }
            },
            "type": "scattercarpet"
           }
          ],
          "scattergeo": [
           {
            "marker": {
             "colorbar": {
              "outlinewidth": 0,
              "ticks": ""
             }
            },
            "type": "scattergeo"
           }
          ],
          "scattergl": [
           {
            "marker": {
             "colorbar": {
              "outlinewidth": 0,
              "ticks": ""
             }
            },
            "type": "scattergl"
           }
          ],
          "scattermapbox": [
           {
            "marker": {
             "colorbar": {
              "outlinewidth": 0,
              "ticks": ""
             }
            },
            "type": "scattermapbox"
           }
          ],
          "scatterpolar": [
           {
            "marker": {
             "colorbar": {
              "outlinewidth": 0,
              "ticks": ""
             }
            },
            "type": "scatterpolar"
           }
          ],
          "scatterpolargl": [
           {
            "marker": {
             "colorbar": {
              "outlinewidth": 0,
              "ticks": ""
             }
            },
            "type": "scatterpolargl"
           }
          ],
          "scatterternary": [
           {
            "marker": {
             "colorbar": {
              "outlinewidth": 0,
              "ticks": ""
             }
            },
            "type": "scatterternary"
           }
          ],
          "surface": [
           {
            "colorbar": {
             "outlinewidth": 0,
             "ticks": ""
            },
            "colorscale": [
             [
              0,
              "#0d0887"
             ],
             [
              0.1111111111111111,
              "#46039f"
             ],
             [
              0.2222222222222222,
              "#7201a8"
             ],
             [
              0.3333333333333333,
              "#9c179e"
             ],
             [
              0.4444444444444444,
              "#bd3786"
             ],
             [
              0.5555555555555556,
              "#d8576b"
             ],
             [
              0.6666666666666666,
              "#ed7953"
             ],
             [
              0.7777777777777778,
              "#fb9f3a"
             ],
             [
              0.8888888888888888,
              "#fdca26"
             ],
             [
              1,
              "#f0f921"
             ]
            ],
            "type": "surface"
           }
          ],
          "table": [
           {
            "cells": {
             "fill": {
              "color": "#EBF0F8"
             },
             "line": {
              "color": "white"
             }
            },
            "header": {
             "fill": {
              "color": "#C8D4E3"
             },
             "line": {
              "color": "white"
             }
            },
            "type": "table"
           }
          ]
         },
         "layout": {
          "annotationdefaults": {
           "arrowcolor": "#2a3f5f",
           "arrowhead": 0,
           "arrowwidth": 1
          },
          "autotypenumbers": "strict",
          "coloraxis": {
           "colorbar": {
            "outlinewidth": 0,
            "ticks": ""
           }
          },
          "colorscale": {
           "diverging": [
            [
             0,
             "#8e0152"
            ],
            [
             0.1,
             "#c51b7d"
            ],
            [
             0.2,
             "#de77ae"
            ],
            [
             0.3,
             "#f1b6da"
            ],
            [
             0.4,
             "#fde0ef"
            ],
            [
             0.5,
             "#f7f7f7"
            ],
            [
             0.6,
             "#e6f5d0"
            ],
            [
             0.7,
             "#b8e186"
            ],
            [
             0.8,
             "#7fbc41"
            ],
            [
             0.9,
             "#4d9221"
            ],
            [
             1,
             "#276419"
            ]
           ],
           "sequential": [
            [
             0,
             "#0d0887"
            ],
            [
             0.1111111111111111,
             "#46039f"
            ],
            [
             0.2222222222222222,
             "#7201a8"
            ],
            [
             0.3333333333333333,
             "#9c179e"
            ],
            [
             0.4444444444444444,
             "#bd3786"
            ],
            [
             0.5555555555555556,
             "#d8576b"
            ],
            [
             0.6666666666666666,
             "#ed7953"
            ],
            [
             0.7777777777777778,
             "#fb9f3a"
            ],
            [
             0.8888888888888888,
             "#fdca26"
            ],
            [
             1,
             "#f0f921"
            ]
           ],
           "sequentialminus": [
            [
             0,
             "#0d0887"
            ],
            [
             0.1111111111111111,
             "#46039f"
            ],
            [
             0.2222222222222222,
             "#7201a8"
            ],
            [
             0.3333333333333333,
             "#9c179e"
            ],
            [
             0.4444444444444444,
             "#bd3786"
            ],
            [
             0.5555555555555556,
             "#d8576b"
            ],
            [
             0.6666666666666666,
             "#ed7953"
            ],
            [
             0.7777777777777778,
             "#fb9f3a"
            ],
            [
             0.8888888888888888,
             "#fdca26"
            ],
            [
             1,
             "#f0f921"
            ]
           ]
          },
          "colorway": [
           "#636efa",
           "#EF553B",
           "#00cc96",
           "#ab63fa",
           "#FFA15A",
           "#19d3f3",
           "#FF6692",
           "#B6E880",
           "#FF97FF",
           "#FECB52"
          ],
          "font": {
           "color": "#2a3f5f"
          },
          "geo": {
           "bgcolor": "white",
           "lakecolor": "white",
           "landcolor": "#E5ECF6",
           "showlakes": true,
           "showland": true,
           "subunitcolor": "white"
          },
          "hoverlabel": {
           "align": "left"
          },
          "hovermode": "closest",
          "mapbox": {
           "style": "light"
          },
          "paper_bgcolor": "white",
          "plot_bgcolor": "#E5ECF6",
          "polar": {
           "angularaxis": {
            "gridcolor": "white",
            "linecolor": "white",
            "ticks": ""
           },
           "bgcolor": "#E5ECF6",
           "radialaxis": {
            "gridcolor": "white",
            "linecolor": "white",
            "ticks": ""
           }
          },
          "scene": {
           "xaxis": {
            "backgroundcolor": "#E5ECF6",
            "gridcolor": "white",
            "gridwidth": 2,
            "linecolor": "white",
            "showbackground": true,
            "ticks": "",
            "zerolinecolor": "white"
           },
           "yaxis": {
            "backgroundcolor": "#E5ECF6",
            "gridcolor": "white",
            "gridwidth": 2,
            "linecolor": "white",
            "showbackground": true,
            "ticks": "",
            "zerolinecolor": "white"
           },
           "zaxis": {
            "backgroundcolor": "#E5ECF6",
            "gridcolor": "white",
            "gridwidth": 2,
            "linecolor": "white",
            "showbackground": true,
            "ticks": "",
            "zerolinecolor": "white"
           }
          },
          "shapedefaults": {
           "line": {
            "color": "#2a3f5f"
           }
          },
          "ternary": {
           "aaxis": {
            "gridcolor": "white",
            "linecolor": "white",
            "ticks": ""
           },
           "baxis": {
            "gridcolor": "white",
            "linecolor": "white",
            "ticks": ""
           },
           "bgcolor": "#E5ECF6",
           "caxis": {
            "gridcolor": "white",
            "linecolor": "white",
            "ticks": ""
           }
          },
          "title": {
           "x": 0.05
          },
          "xaxis": {
           "automargin": true,
           "gridcolor": "white",
           "linecolor": "white",
           "ticks": "",
           "title": {
            "standoff": 15
           },
           "zerolinecolor": "white",
           "zerolinewidth": 2
          },
          "yaxis": {
           "automargin": true,
           "gridcolor": "white",
           "linecolor": "white",
           "ticks": "",
           "title": {
            "standoff": 15
           },
           "zerolinecolor": "white",
           "zerolinewidth": 2
          }
         }
        },
        "title": {
         "text": "3D t-SNE of Pokémon Name Embeddings"
        }
       }
      },
      "text/html": [
       "<div>                            <div id=\"8b56e8a9-cd73-472c-aab5-2d97cc8d65d7\" class=\"plotly-graph-div\" style=\"height:800px; width:100%;\"></div>            <script type=\"text/javascript\">                require([\"plotly\"], function(Plotly) {                    window.PLOTLYENV=window.PLOTLYENV || {};                                    if (document.getElementById(\"8b56e8a9-cd73-472c-aab5-2d97cc8d65d7\")) {                    Plotly.newPlot(                        \"8b56e8a9-cd73-472c-aab5-2d97cc8d65d7\",                        [{\"hovertemplate\":\"Component 1=%{x}\\u003cbr\\u003eComponent 2=%{y}\\u003cbr\\u003eComponent 3=%{z}\\u003cbr\\u003ePokémon=%{text}\\u003cextra\\u003e\\u003c\\u002fextra\\u003e\",\"legendgroup\":\"\",\"marker\":{\"color\":\"#636efa\",\"symbol\":\"circle\",\"size\":10},\"mode\":\"markers+text\",\"name\":\"\",\"scene\":\"scene\",\"showlegend\":false,\"text\":[\"bulbasaur\",\"ivysaur\",\"venusaur\",\"charmander\",\"charmeleon\",\"charizard\",\"squirtle\",\"wartortle\",\"blastoise\",\"caterpie\",\"metapod\",\"butterfree\",\"weedle\",\"kakuna\",\"beedrill\",\"pidgey\",\"pidgeotto\",\"pidgeot\",\"rattata\",\"raticate\",\"spearow\",\"fearow\",\"ekans\",\"arbok\",\"pikachu\",\"raichu\",\"sandshrew\",\"sandslash\",\"nidoran\",\"nidorina\",\"nidoqueen\",\"nidoran\",\"nidorino\",\"nidoking\",\"clefairy\",\"clefable\",\"vulpix\",\"ninetales\",\"jigglypuff\",\"wigglytuff\",\"zubat\",\"golbat\",\"oddish\",\"gloom\",\"vileplume\",\"paras\",\"parasect\",\"venonat\",\"venomoth\",\"diglett\",\"dugtrio\",\"meowth\",\"persian\",\"psyduck\",\"golduck\",\"mankey\",\"primeape\",\"growlithe\",\"arcanine\",\"poliwag\",\"poliwhirl\",\"poliwrath\",\"abra\",\"kadabra\",\"alakazam\",\"machop\",\"machoke\",\"machamp\",\"bellsprout\",\"weepinbell\",\"victreebel\",\"tentacool\",\"tentacruel\",\"geodude\",\"graveler\",\"golem\",\"ponyta\",\"rapidash\",\"slowpoke\",\"slowbro\",\"magnemite\",\"magneton\",\"farfetchd\",\"doduo\",\"dodrio\",\"seel\",\"dewgong\",\"grimer\",\"muk\",\"shellder\",\"cloyster\",\"gastly\",\"haunter\",\"gengar\",\"onix\",\"drowzee\",\"hypno\",\"krabby\",\"kingler\",\"voltorb\"],\"x\":[39.36594,14.377642,47.651554,-0.080114126,-8.25275,7.362312,56.29009,32.091618,43.759304,0.099724226,-40.779198,-44.46215,-51.414158,4.166404,-45.57465,-56.64503,-51.112625,-52.727104,4.5017395,4.6688404,-3.8381891,-23.454706,-4.729317,60.271786,-12.042078,-0.46497604,39.03428,41.104576,94.14607,78.23595,-86.79766,-41.176174,77.49413,66.1753,21.882278,-36.7482,-48.690945,-18.505,25.000645,-32.028957,16.007011,25.83735,79.12603,-108.95519,-49.456783,6.297758,1.9606518,-7.899566,-18.42149,-57.764904,-67.811935,-26.24052,-0.15005162,-26.237818,-81.80468,-2.8590043,-15.992175,-52.86093,-13.24446,-72.06052,-62.636127,-12.123121,32.502327,86.284805,20.485535,2.7280266,-4.872124,7.877879,39.622597,-52.44535,5.7489324,34.178574,37.281334,80.39239,-5.901105,2.6982098,-19.38482,11.517383,5.0031824,26.41108,0.78352875,2.575007,26.926842,-24.607742,78.43784,-46.76443,19.223574,-10.694576,54.21452,-41.877872,-54.002174,38.35426,42.541622,-27.567171,74.07331,-35.837406,-31.744202,51.525978,-38.712887,62.84097],\"y\":[-44.2985,-31.566124,-23.523972,20.128801,30.879168,21.439697,-63.893906,-32.174973,-69.206314,-13.1611805,3.5580435,60.077713,21.647623,66.21416,9.216716,-11.848941,-13.1056,-9.915199,-31.778467,-22.884277,-52.423542,14.623857,54.26241,47.560143,-29.581455,-33.208363,29.148916,42.971962,25.33481,26.552814,29.78347,-62.960297,9.83928,25.663067,-2.1448762,60.025497,-24.3398,34.79429,-102.36044,93.46447,-56.487988,-64.78618,7.299593,45.064205,-8.273201,8.340536,-6.673356,14.283229,9.220388,-37.42144,-9.66312,5.4481683,-33.03493,-24.182774,-9.367652,56.386818,-19.815252,-48.15869,41.436275,-55.457012,-40.563152,180.49132,67.881355,-33.44437,80.223976,31.613321,42.525642,21.60481,-60.730816,7.7173634,-8.5192585,-9.10106,-17.842598,-12.550307,3.4019985,63.576473,0.029330283,20.395828,-61.873707,-63.50457,34.671062,22.300184,9.834659,-89.94248,-5.9941945,34.945496,16.973553,-8.395002,-18.439997,21.079063,19.55921,-70.92728,-20.305254,-65.38003,4.6659617,23.862762,-0.986023,58.223167,-56.99149,18.303988],\"z\":[14.7456455,58.235123,9.469843,17.866446,24.29253,5.9972553,30.09601,-50.59994,3.6921992,-5.47167,-24.025915,13.914024,60.69094,7.9016376,36.081287,-9.164733,-37.098885,-24.983252,-39.228977,-25.612652,26.922215,83.00047,-4.1187615,41.529476,66.79648,62.853096,-2.3649826,-7.662328,-30.543465,-28.92437,-10.329571,37.941822,-29.785917,-40.819622,15.701447,-26.118328,43.075104,-20.239777,-1.7772272,-8.1420765,-18.348871,-23.720331,-7.9620724,49.57096,40.597836,-22.907331,-18.390526,-75.516464,-84.21689,-25.26376,-39.19631,-95.50463,7.582789,76.35574,-47.721348,23.511225,-1.6866292,-13.729481,-10.380133,-2.1860914,11.333712,-16.49712,46.62641,-24.79683,25.95203,53.810055,32.424435,59.95789,21.8576,50.91475,6.4569826,-31.835678,-17.835703,48.48719,22.781023,-42.809944,-55.6232,-8.938379,29.97419,32.156616,-60.96495,-69.548775,27.7785,11.072573,-18.30696,42.933025,-71.19566,32.944138,24.179228,32.531372,3.2255385,-20.967064,-6.4288216,-22.983398,-45.909325,78.84496,-65.95865,50.560467,-15.013357,41.3722],\"type\":\"scatter3d\"}],                        {\"template\":{\"data\":{\"histogram2dcontour\":[{\"type\":\"histogram2dcontour\",\"colorbar\":{\"outlinewidth\":0,\"ticks\":\"\"},\"colorscale\":[[0.0,\"#0d0887\"],[0.1111111111111111,\"#46039f\"],[0.2222222222222222,\"#7201a8\"],[0.3333333333333333,\"#9c179e\"],[0.4444444444444444,\"#bd3786\"],[0.5555555555555556,\"#d8576b\"],[0.6666666666666666,\"#ed7953\"],[0.7777777777777778,\"#fb9f3a\"],[0.8888888888888888,\"#fdca26\"],[1.0,\"#f0f921\"]]}],\"choropleth\":[{\"type\":\"choropleth\",\"colorbar\":{\"outlinewidth\":0,\"ticks\":\"\"}}],\"histogram2d\":[{\"type\":\"histogram2d\",\"colorbar\":{\"outlinewidth\":0,\"ticks\":\"\"},\"colorscale\":[[0.0,\"#0d0887\"],[0.1111111111111111,\"#46039f\"],[0.2222222222222222,\"#7201a8\"],[0.3333333333333333,\"#9c179e\"],[0.4444444444444444,\"#bd3786\"],[0.5555555555555556,\"#d8576b\"],[0.6666666666666666,\"#ed7953\"],[0.7777777777777778,\"#fb9f3a\"],[0.8888888888888888,\"#fdca26\"],[1.0,\"#f0f921\"]]}],\"heatmap\":[{\"type\":\"heatmap\",\"colorbar\":{\"outlinewidth\":0,\"ticks\":\"\"},\"colorscale\":[[0.0,\"#0d0887\"],[0.1111111111111111,\"#46039f\"],[0.2222222222222222,\"#7201a8\"],[0.3333333333333333,\"#9c179e\"],[0.4444444444444444,\"#bd3786\"],[0.5555555555555556,\"#d8576b\"],[0.6666666666666666,\"#ed7953\"],[0.7777777777777778,\"#fb9f3a\"],[0.8888888888888888,\"#fdca26\"],[1.0,\"#f0f921\"]]}],\"heatmapgl\":[{\"type\":\"heatmapgl\",\"colorbar\":{\"outlinewidth\":0,\"ticks\":\"\"},\"colorscale\":[[0.0,\"#0d0887\"],[0.1111111111111111,\"#46039f\"],[0.2222222222222222,\"#7201a8\"],[0.3333333333333333,\"#9c179e\"],[0.4444444444444444,\"#bd3786\"],[0.5555555555555556,\"#d8576b\"],[0.6666666666666666,\"#ed7953\"],[0.7777777777777778,\"#fb9f3a\"],[0.8888888888888888,\"#fdca26\"],[1.0,\"#f0f921\"]]}],\"contourcarpet\":[{\"type\":\"contourcarpet\",\"colorbar\":{\"outlinewidth\":0,\"ticks\":\"\"}}],\"contour\":[{\"type\":\"contour\",\"colorbar\":{\"outlinewidth\":0,\"ticks\":\"\"},\"colorscale\":[[0.0,\"#0d0887\"],[0.1111111111111111,\"#46039f\"],[0.2222222222222222,\"#7201a8\"],[0.3333333333333333,\"#9c179e\"],[0.4444444444444444,\"#bd3786\"],[0.5555555555555556,\"#d8576b\"],[0.6666666666666666,\"#ed7953\"],[0.7777777777777778,\"#fb9f3a\"],[0.8888888888888888,\"#fdca26\"],[1.0,\"#f0f921\"]]}],\"surface\":[{\"type\":\"surface\",\"colorbar\":{\"outlinewidth\":0,\"ticks\":\"\"},\"colorscale\":[[0.0,\"#0d0887\"],[0.1111111111111111,\"#46039f\"],[0.2222222222222222,\"#7201a8\"],[0.3333333333333333,\"#9c179e\"],[0.4444444444444444,\"#bd3786\"],[0.5555555555555556,\"#d8576b\"],[0.6666666666666666,\"#ed7953\"],[0.7777777777777778,\"#fb9f3a\"],[0.8888888888888888,\"#fdca26\"],[1.0,\"#f0f921\"]]}],\"mesh3d\":[{\"type\":\"mesh3d\",\"colorbar\":{\"outlinewidth\":0,\"ticks\":\"\"}}],\"scatter\":[{\"fillpattern\":{\"fillmode\":\"overlay\",\"size\":10,\"solidity\":0.2},\"type\":\"scatter\"}],\"parcoords\":[{\"type\":\"parcoords\",\"line\":{\"colorbar\":{\"outlinewidth\":0,\"ticks\":\"\"}}}],\"scatterpolargl\":[{\"type\":\"scatterpolargl\",\"marker\":{\"colorbar\":{\"outlinewidth\":0,\"ticks\":\"\"}}}],\"bar\":[{\"error_x\":{\"color\":\"#2a3f5f\"},\"error_y\":{\"color\":\"#2a3f5f\"},\"marker\":{\"line\":{\"color\":\"#E5ECF6\",\"width\":0.5},\"pattern\":{\"fillmode\":\"overlay\",\"size\":10,\"solidity\":0.2}},\"type\":\"bar\"}],\"scattergeo\":[{\"type\":\"scattergeo\",\"marker\":{\"colorbar\":{\"outlinewidth\":0,\"ticks\":\"\"}}}],\"scatterpolar\":[{\"type\":\"scatterpolar\",\"marker\":{\"colorbar\":{\"outlinewidth\":0,\"ticks\":\"\"}}}],\"histogram\":[{\"marker\":{\"pattern\":{\"fillmode\":\"overlay\",\"size\":10,\"solidity\":0.2}},\"type\":\"histogram\"}],\"scattergl\":[{\"type\":\"scattergl\",\"marker\":{\"colorbar\":{\"outlinewidth\":0,\"ticks\":\"\"}}}],\"scatter3d\":[{\"type\":\"scatter3d\",\"line\":{\"colorbar\":{\"outlinewidth\":0,\"ticks\":\"\"}},\"marker\":{\"colorbar\":{\"outlinewidth\":0,\"ticks\":\"\"}}}],\"scattermapbox\":[{\"type\":\"scattermapbox\",\"marker\":{\"colorbar\":{\"outlinewidth\":0,\"ticks\":\"\"}}}],\"scatterternary\":[{\"type\":\"scatterternary\",\"marker\":{\"colorbar\":{\"outlinewidth\":0,\"ticks\":\"\"}}}],\"scattercarpet\":[{\"type\":\"scattercarpet\",\"marker\":{\"colorbar\":{\"outlinewidth\":0,\"ticks\":\"\"}}}],\"carpet\":[{\"aaxis\":{\"endlinecolor\":\"#2a3f5f\",\"gridcolor\":\"white\",\"linecolor\":\"white\",\"minorgridcolor\":\"white\",\"startlinecolor\":\"#2a3f5f\"},\"baxis\":{\"endlinecolor\":\"#2a3f5f\",\"gridcolor\":\"white\",\"linecolor\":\"white\",\"minorgridcolor\":\"white\",\"startlinecolor\":\"#2a3f5f\"},\"type\":\"carpet\"}],\"table\":[{\"cells\":{\"fill\":{\"color\":\"#EBF0F8\"},\"line\":{\"color\":\"white\"}},\"header\":{\"fill\":{\"color\":\"#C8D4E3\"},\"line\":{\"color\":\"white\"}},\"type\":\"table\"}],\"barpolar\":[{\"marker\":{\"line\":{\"color\":\"#E5ECF6\",\"width\":0.5},\"pattern\":{\"fillmode\":\"overlay\",\"size\":10,\"solidity\":0.2}},\"type\":\"barpolar\"}],\"pie\":[{\"automargin\":true,\"type\":\"pie\"}]},\"layout\":{\"autotypenumbers\":\"strict\",\"colorway\":[\"#636efa\",\"#EF553B\",\"#00cc96\",\"#ab63fa\",\"#FFA15A\",\"#19d3f3\",\"#FF6692\",\"#B6E880\",\"#FF97FF\",\"#FECB52\"],\"font\":{\"color\":\"#2a3f5f\"},\"hovermode\":\"closest\",\"hoverlabel\":{\"align\":\"left\"},\"paper_bgcolor\":\"white\",\"plot_bgcolor\":\"#E5ECF6\",\"polar\":{\"bgcolor\":\"#E5ECF6\",\"angularaxis\":{\"gridcolor\":\"white\",\"linecolor\":\"white\",\"ticks\":\"\"},\"radialaxis\":{\"gridcolor\":\"white\",\"linecolor\":\"white\",\"ticks\":\"\"}},\"ternary\":{\"bgcolor\":\"#E5ECF6\",\"aaxis\":{\"gridcolor\":\"white\",\"linecolor\":\"white\",\"ticks\":\"\"},\"baxis\":{\"gridcolor\":\"white\",\"linecolor\":\"white\",\"ticks\":\"\"},\"caxis\":{\"gridcolor\":\"white\",\"linecolor\":\"white\",\"ticks\":\"\"}},\"coloraxis\":{\"colorbar\":{\"outlinewidth\":0,\"ticks\":\"\"}},\"colorscale\":{\"sequential\":[[0.0,\"#0d0887\"],[0.1111111111111111,\"#46039f\"],[0.2222222222222222,\"#7201a8\"],[0.3333333333333333,\"#9c179e\"],[0.4444444444444444,\"#bd3786\"],[0.5555555555555556,\"#d8576b\"],[0.6666666666666666,\"#ed7953\"],[0.7777777777777778,\"#fb9f3a\"],[0.8888888888888888,\"#fdca26\"],[1.0,\"#f0f921\"]],\"sequentialminus\":[[0.0,\"#0d0887\"],[0.1111111111111111,\"#46039f\"],[0.2222222222222222,\"#7201a8\"],[0.3333333333333333,\"#9c179e\"],[0.4444444444444444,\"#bd3786\"],[0.5555555555555556,\"#d8576b\"],[0.6666666666666666,\"#ed7953\"],[0.7777777777777778,\"#fb9f3a\"],[0.8888888888888888,\"#fdca26\"],[1.0,\"#f0f921\"]],\"diverging\":[[0,\"#8e0152\"],[0.1,\"#c51b7d\"],[0.2,\"#de77ae\"],[0.3,\"#f1b6da\"],[0.4,\"#fde0ef\"],[0.5,\"#f7f7f7\"],[0.6,\"#e6f5d0\"],[0.7,\"#b8e186\"],[0.8,\"#7fbc41\"],[0.9,\"#4d9221\"],[1,\"#276419\"]]},\"xaxis\":{\"gridcolor\":\"white\",\"linecolor\":\"white\",\"ticks\":\"\",\"title\":{\"standoff\":15},\"zerolinecolor\":\"white\",\"automargin\":true,\"zerolinewidth\":2},\"yaxis\":{\"gridcolor\":\"white\",\"linecolor\":\"white\",\"ticks\":\"\",\"title\":{\"standoff\":15},\"zerolinecolor\":\"white\",\"automargin\":true,\"zerolinewidth\":2},\"scene\":{\"xaxis\":{\"backgroundcolor\":\"#E5ECF6\",\"gridcolor\":\"white\",\"linecolor\":\"white\",\"showbackground\":true,\"ticks\":\"\",\"zerolinecolor\":\"white\",\"gridwidth\":2},\"yaxis\":{\"backgroundcolor\":\"#E5ECF6\",\"gridcolor\":\"white\",\"linecolor\":\"white\",\"showbackground\":true,\"ticks\":\"\",\"zerolinecolor\":\"white\",\"gridwidth\":2},\"zaxis\":{\"backgroundcolor\":\"#E5ECF6\",\"gridcolor\":\"white\",\"linecolor\":\"white\",\"showbackground\":true,\"ticks\":\"\",\"zerolinecolor\":\"white\",\"gridwidth\":2}},\"shapedefaults\":{\"line\":{\"color\":\"#2a3f5f\"}},\"annotationdefaults\":{\"arrowcolor\":\"#2a3f5f\",\"arrowhead\":0,\"arrowwidth\":1},\"geo\":{\"bgcolor\":\"white\",\"landcolor\":\"#E5ECF6\",\"subunitcolor\":\"white\",\"showland\":true,\"showlakes\":true,\"lakecolor\":\"white\"},\"title\":{\"x\":0.05},\"mapbox\":{\"style\":\"light\"}}},\"scene\":{\"domain\":{\"x\":[0.0,1.0],\"y\":[0.0,1.0]},\"xaxis\":{\"title\":{\"text\":\"TSNE Component 1\"}},\"yaxis\":{\"title\":{\"text\":\"TSNE Component 2\"}},\"zaxis\":{\"title\":{\"text\":\"TSNE Component 3\"}}},\"legend\":{\"tracegroupgap\":0},\"title\":{\"text\":\"3D t-SNE of Pokémon Name Embeddings\"},\"height\":800},                        {\"responsive\": true}                    ).then(function(){\n",
       "                            \n",
       "var gd = document.getElementById('8b56e8a9-cd73-472c-aab5-2d97cc8d65d7');\n",
       "var x = new MutationObserver(function (mutations, observer) {{\n",
       "        var display = window.getComputedStyle(gd).display;\n",
       "        if (!display || display === 'none') {{\n",
       "            console.log([gd, 'removed!']);\n",
       "            Plotly.purge(gd);\n",
       "            observer.disconnect();\n",
       "        }}\n",
       "}});\n",
       "\n",
       "// Listen for the removal of the full notebook cells\n",
       "var notebookContainer = gd.closest('#notebook-container');\n",
       "if (notebookContainer) {{\n",
       "    x.observe(notebookContainer, {childList: true});\n",
       "}}\n",
       "\n",
       "// Listen for the clearing of the current output cell\n",
       "var outputEl = gd.closest('.output');\n",
       "if (outputEl) {{\n",
       "    x.observe(outputEl, {childList: true});\n",
       "}}\n",
       "\n",
       "                        })                };                });            </script>        </div>"
      ]
     },
     "metadata": {},
     "output_type": "display_data"
    }
   ],
   "source": [
    "from sklearn.manifold import TSNE\n",
    "\n",
    "# Dimensionality reduction using t-SNE for 3D visualization\n",
    "import plotly.express as px\n",
    "\n",
    "# Flatten the one-hot encoded arrays into a 2D array\n",
    "flattened_encoded_pokemon = encoded_pokemon.reshape(len(words), -1)  # Reshape to (number of Pokémon, max_length * number of characters)\n",
    "\n",
    "# Check the shape of the flattened result\n",
    "print(flattened_encoded_pokemon.shape)  # Should be (number of words, max_length * number of characters)\n",
    "\n",
    "# Dimensionality reduction using t-SNE for 3D visualization\n",
    "tsne = TSNE(n_components=3, perplexity=3, random_state=42)\n",
    "pokemon_tsne_3d = tsne.fit_transform(flattened_encoded_pokemon)\n",
    "\n",
    "# Create a DataFrame for Plotly visualization\n",
    "df = pd.DataFrame(pokemon_tsne_3d, columns=['Component 1', 'Component 2', 'Component 3'])\n",
    "df['Pokémon'] = words  # Add Pokémon names for labeling\n",
    "\n",
    "# 3D Scatter Plot using Plotly Express\n",
    "fig = px.scatter_3d(\n",
    "    df, \n",
    "    x='Component 1', \n",
    "    y='Component 2', \n",
    "    z='Component 3', \n",
    "    text='Pokémon',  # Display Pokémon names\n",
    "    title='3D t-SNE of Pokémon Name Embeddings',\n",
    "    height=800\n",
    ")\n",
    "\n",
    "fig.update_traces(marker_size=10)\n",
    "fig.update_layout(scene=dict(\n",
    "    xaxis_title='TSNE Component 1',\n",
    "    yaxis_title='TSNE Component 2',\n",
    "    zaxis_title='TSNE Component 3',\n",
    "))\n",
    "\n",
    "fig.show()"
   ]
  },
  {
   "cell_type": "code",
   "execution_count": 42,
   "id": "075e03bd-2d80-459f-971f-1edd9493f7da",
   "metadata": {},
   "outputs": [],
   "source": [
    "df.to_csv('pokemon-3d-visualization/pokemon_tsne_data_word_2_vec.csv', index=False)"
   ]
  },
  {
   "cell_type": "code",
   "execution_count": null,
   "id": "c7e560c0-24f7-4619-bc92-a0801b172299",
   "metadata": {},
   "outputs": [],
   "source": []
  }
 ],
 "metadata": {
  "kernelspec": {
   "display_name": "Python 3 (ipykernel)",
   "language": "python",
   "name": "python3"
  },
  "language_info": {
   "codemirror_mode": {
    "name": "ipython",
    "version": 3
   },
   "file_extension": ".py",
   "mimetype": "text/x-python",
   "name": "python",
   "nbconvert_exporter": "python",
   "pygments_lexer": "ipython3",
   "version": "3.12.4"
  }
 },
 "nbformat": 4,
 "nbformat_minor": 5
}
