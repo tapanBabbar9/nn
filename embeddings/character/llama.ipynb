{
 "cells": [
  {
   "cell_type": "code",
   "execution_count": 1,
   "id": "b6c61d6f-2c5a-4fdc-85c5-fe96f52bd200",
   "metadata": {},
   "outputs": [],
   "source": [
    "import pandas as pd\n",
    "import numpy as np\n",
    "import time\n",
    "from langchain_community.embeddings import OllamaEmbeddings\n",
    "\n",
    "\n",
    "# Load the dataset\n",
    "data = pd.read_csv('dataset/pokemon.csv')[\"name\"]\n",
    "words = data.to_list()\n",
    "words = list(map(str.lower, words))"
   ]
  },
  {
   "cell_type": "code",
   "execution_count": 2,
   "id": "c68623ee-c450-4d82-9aff-0dfda48b013c",
   "metadata": {},
   "outputs": [
    {
     "data": {
      "text/plain": [
       "801"
      ]
     },
     "execution_count": 2,
     "metadata": {},
     "output_type": "execute_result"
    }
   ],
   "source": [
    "len(words)"
   ]
  },
  {
   "cell_type": "code",
   "execution_count": 14,
   "id": "47d653c6-2b28-4be8-8965-6e1b6594e736",
   "metadata": {},
   "outputs": [
    {
     "name": "stdout",
     "output_type": "stream",
     "text": [
      "Processing index 1/801: bulbasaur\n",
      "Processing index 2/801: ivysaur\n",
      "Processing index 3/801: venusaur\n",
      "Processing index 4/801: charmander\n",
      "Processing index 5/801: charmeleon\n",
      "Processing index 6/801: charizard\n",
      "Processing index 7/801: squirtle\n",
      "Processing index 8/801: wartortle\n",
      "Processing index 9/801: blastoise\n",
      "Processing index 10/801: caterpie\n",
      "Processing index 11/801: metapod\n",
      "Processing index 12/801: butterfree\n",
      "Processing index 13/801: weedle\n",
      "Processing index 14/801: kakuna\n",
      "Processing index 15/801: beedrill\n",
      "Processing index 16/801: pidgey\n",
      "Processing index 17/801: pidgeotto\n",
      "Processing index 18/801: pidgeot\n",
      "Processing index 19/801: rattata\n",
      "Processing index 20/801: raticate\n",
      "Processing index 21/801: spearow\n",
      "Processing index 22/801: fearow\n",
      "Processing index 23/801: ekans\n",
      "Processing index 24/801: arbok\n",
      "Processing index 25/801: pikachu\n",
      "Processing index 26/801: raichu\n",
      "Processing index 27/801: sandshrew\n",
      "Processing index 28/801: sandslash\n",
      "Processing index 29/801: nidoran♀\n",
      "Processing index 30/801: nidorina\n",
      "Processing index 31/801: nidoqueen\n",
      "Processing index 32/801: nidoran♂\n",
      "Processing index 33/801: nidorino\n",
      "Processing index 34/801: nidoking\n",
      "Processing index 35/801: clefairy\n",
      "Processing index 36/801: clefable\n",
      "Processing index 37/801: vulpix\n",
      "Processing index 38/801: ninetales\n",
      "Processing index 39/801: jigglypuff\n",
      "Processing index 40/801: wigglytuff\n",
      "Processing index 41/801: zubat\n",
      "Processing index 42/801: golbat\n",
      "Processing index 43/801: oddish\n",
      "Processing index 44/801: gloom\n",
      "Processing index 45/801: vileplume\n",
      "Processing index 46/801: paras\n",
      "Processing index 47/801: parasect\n",
      "Processing index 48/801: venonat\n",
      "Processing index 49/801: venomoth\n",
      "Processing index 50/801: diglett\n",
      "Processing index 51/801: dugtrio\n",
      "Processing index 52/801: meowth\n",
      "Processing index 53/801: persian\n",
      "Processing index 54/801: psyduck\n",
      "Processing index 55/801: golduck\n",
      "Processing index 56/801: mankey\n",
      "Processing index 57/801: primeape\n",
      "Processing index 58/801: growlithe\n",
      "Processing index 59/801: arcanine\n",
      "Processing index 60/801: poliwag\n",
      "Processing index 61/801: poliwhirl\n",
      "Processing index 62/801: poliwrath\n",
      "Processing index 63/801: abra\n",
      "Processing index 64/801: kadabra\n",
      "Processing index 65/801: alakazam\n",
      "Processing index 66/801: machop\n",
      "Processing index 67/801: machoke\n",
      "Processing index 68/801: machamp\n",
      "Processing index 69/801: bellsprout\n",
      "Processing index 70/801: weepinbell\n",
      "Processing index 71/801: victreebel\n",
      "Processing index 72/801: tentacool\n",
      "Processing index 73/801: tentacruel\n",
      "Processing index 74/801: geodude\n",
      "Processing index 75/801: graveler\n",
      "Processing index 76/801: golem\n",
      "Processing index 77/801: ponyta\n",
      "Processing index 78/801: rapidash\n",
      "Processing index 79/801: slowpoke\n",
      "Processing index 80/801: slowbro\n",
      "Processing index 81/801: magnemite\n",
      "Processing index 82/801: magneton\n",
      "Processing index 83/801: farfetch'd\n",
      "Processing index 84/801: doduo\n",
      "Processing index 85/801: dodrio\n",
      "Processing index 86/801: seel\n",
      "Processing index 87/801: dewgong\n",
      "Processing index 88/801: grimer\n",
      "Processing index 89/801: muk\n",
      "Processing index 90/801: shellder\n",
      "Processing index 91/801: cloyster\n",
      "Processing index 92/801: gastly\n",
      "Processing index 93/801: haunter\n",
      "Processing index 94/801: gengar\n",
      "Processing index 95/801: onix\n",
      "Processing index 96/801: drowzee\n",
      "Processing index 97/801: hypno\n",
      "Processing index 98/801: krabby\n",
      "Processing index 99/801: kingler\n",
      "Processing index 100/801: voltorb\n"
     ]
    }
   ],
   "source": [
    "embeddings = []\n",
    "ollama_emb = OllamaEmbeddings(\n",
    "    model=\"llama3\",\n",
    ")\n",
    "# Loop through each Pokémon name with a 2-second timeout\n",
    "for idx, name in enumerate(words[:100]):\n",
    "    print(f\"Processing index {idx + 1}/{len(words)}: {name}\")\n",
    "    embedding = ollama_emb.embed_query(name)\n",
    "    embeddings.append(embedding)\n",
    "\n",
    "    # Add a 2-second delay between each query\n",
    "    time.sleep(2)\n",
    "\n",
    "# Convert embeddings into a DataFrame"
   ]
  },
  {
   "cell_type": "code",
   "execution_count": 15,
   "id": "3427da55-7025-4d2b-969c-a8185ee13910",
   "metadata": {},
   "outputs": [],
   "source": [
    "encoded_pokemon = np.array(embeddings)"
   ]
  },
  {
   "cell_type": "code",
   "execution_count": 16,
   "id": "302790c5-4504-4187-81b4-d211024c6bdf",
   "metadata": {},
   "outputs": [
    {
     "data": {
      "text/plain": [
       "(100, 4096)"
      ]
     },
     "execution_count": 16,
     "metadata": {},
     "output_type": "execute_result"
    }
   ],
   "source": [
    "encoded_pokemon.shape"
   ]
  },
  {
   "cell_type": "code",
   "execution_count": 19,
   "id": "49bc40d5-4a3e-49bd-9cec-e4c86fe79059",
   "metadata": {},
   "outputs": [
    {
     "name": "stdout",
     "output_type": "stream",
     "text": [
      "(100, 4096)\n"
     ]
    },
    {
     "data": {
      "application/vnd.plotly.v1+json": {
       "config": {
        "plotlyServerURL": "https://plot.ly"
       },
       "data": [
        {
         "hovertemplate": "Component 1=%{x}<br>Component 2=%{y}<br>Component 3=%{z}<br>Pokémon=%{text}<extra></extra>",
         "legendgroup": "",
         "marker": {
          "color": "#636efa",
          "size": 10,
          "symbol": "circle"
         },
         "mode": "markers+text",
         "name": "",
         "scene": "scene",
         "showlegend": false,
         "text": [
          "bulbasaur",
          "ivysaur",
          "venusaur",
          "charmander",
          "charmeleon",
          "charizard",
          "squirtle",
          "wartortle",
          "blastoise",
          "caterpie",
          "metapod",
          "butterfree",
          "weedle",
          "kakuna",
          "beedrill",
          "pidgey",
          "pidgeotto",
          "pidgeot",
          "rattata",
          "raticate",
          "spearow",
          "fearow",
          "ekans",
          "arbok",
          "pikachu",
          "raichu",
          "sandshrew",
          "sandslash",
          "nidoran♀",
          "nidorina",
          "nidoqueen",
          "nidoran♂",
          "nidorino",
          "nidoking",
          "clefairy",
          "clefable",
          "vulpix",
          "ninetales",
          "jigglypuff",
          "wigglytuff",
          "zubat",
          "golbat",
          "oddish",
          "gloom",
          "vileplume",
          "paras",
          "parasect",
          "venonat",
          "venomoth",
          "diglett",
          "dugtrio",
          "meowth",
          "persian",
          "psyduck",
          "golduck",
          "mankey",
          "primeape",
          "growlithe",
          "arcanine",
          "poliwag",
          "poliwhirl",
          "poliwrath",
          "abra",
          "kadabra",
          "alakazam",
          "machop",
          "machoke",
          "machamp",
          "bellsprout",
          "weepinbell",
          "victreebel",
          "tentacool",
          "tentacruel",
          "geodude",
          "graveler",
          "golem",
          "ponyta",
          "rapidash",
          "slowpoke",
          "slowbro",
          "magnemite",
          "magneton",
          "farfetch'd",
          "doduo",
          "dodrio",
          "seel",
          "dewgong",
          "grimer",
          "muk",
          "shellder",
          "cloyster",
          "gastly",
          "haunter",
          "gengar",
          "onix",
          "drowzee",
          "hypno",
          "krabby",
          "kingler",
          "voltorb"
         ],
         "type": "scatter3d",
         "x": [
          -22.988644,
          -30.355284,
          -28.443674,
          -21.149445,
          3.6450639,
          -23.040068,
          -24.256159,
          -28.492895,
          -2.196231,
          5.6480517,
          16.721062,
          -2.7995765,
          22.830503,
          22.033201,
          -9.630979,
          8.119533,
          2.0481088,
          -6.8135304,
          -7.038701,
          -0.09425454,
          -8.377065,
          -12.739925,
          14.653907,
          21.287447,
          24.396923,
          28.172398,
          230.69632,
          -259.84738,
          -30.767902,
          -51.333458,
          -47.725887,
          54.579678,
          28.468668,
          -38.570087,
          -13.840981,
          -18.516949,
          -1.2916557,
          -33.50585,
          -22.508453,
          -18.574171,
          -23.516144,
          -15.983639,
          12.408102,
          40.559853,
          8.4264765,
          16.206213,
          -11.739651,
          -11.926584,
          27.167574,
          -55.415993,
          13.209788,
          0.3974691,
          8.316646,
          10.289425,
          14.08994,
          23.16532,
          2.5963042,
          -9.858597,
          1.2732121,
          26.02513,
          18.455595,
          18.772806,
          21.52709,
          20.96314,
          37.02701,
          -24.041777,
          5.0966053,
          -17.784536,
          -48.277416,
          -0.804563,
          -45.70139,
          13.072848,
          -9.827623,
          -46.35736,
          29.605326,
          29.725157,
          25.411922,
          -32.729904,
          22.996477,
          -26.36015,
          -37.862957,
          2.581768,
          46.346527,
          20.519197,
          20.2774,
          36.93085,
          39.349865,
          27.521173,
          6.0974593,
          -13.752198,
          -5.0755157,
          -19.866486,
          31.782642,
          -21.479479,
          17.429642,
          11.885505,
          8.988832,
          26.410362,
          15.374791,
          10.110571
         ],
         "y": [
          3.2583354,
          -2.3874574,
          -7.915013,
          9.056713,
          29.930393,
          14.069129,
          44.640255,
          42.23016,
          -8.699078,
          -21.24199,
          62.955753,
          -19.743902,
          37.521126,
          -9.962578,
          -34.09788,
          -28.977993,
          -34.079063,
          -36.26718,
          -14.576247,
          -9.335429,
          -37.44981,
          -34.99043,
          57.856476,
          55.213955,
          -35.115753,
          -27.370447,
          -198.9451,
          153.94788,
          -41.018772,
          13.786716,
          1.8319768,
          8.155644,
          22.686565,
          0.13766092,
          -15.170333,
          -4.6720014,
          31.454754,
          0.3272716,
          -21.073027,
          -13.65698,
          -46.46441,
          -41.161804,
          38.485474,
          49.897808,
          24.48704,
          57.78583,
          -33.07734,
          -32.92625,
          63.492317,
          33.919388,
          23.750124,
          -48.84171,
          20.346624,
          -62.097736,
          -60.205753,
          48.248913,
          -6.067741,
          16.595316,
          24.353462,
          -47.86291,
          -48.449615,
          -53.957813,
          10.596609,
          0.94165814,
          -26.602804,
          -6.990142,
          -4.1475925,
          -11.4039,
          -15.824662,
          -59.314934,
          -7.538306,
          -39.728874,
          -1.1252408,
          30.459852,
          33.909378,
          53.63517,
          -4.07486,
          2.297964,
          31.762388,
          -0.8593732,
          26.903767,
          38.079453,
          -27.632812,
          -20.43203,
          -18.445189,
          29.828215,
          -37.90753,
          29.998434,
          62.50545,
          38.267086,
          33.821133,
          2.854995,
          47.077377,
          6.99902,
          50.639103,
          0.5192653,
          19.03596,
          5.476784,
          -52.838722,
          39.556934
         ],
         "z": [
          19.783672,
          18.734112,
          14.017895,
          25.931124,
          10.121807,
          33.80853,
          0.7846095,
          6.228079,
          58.31365,
          -11.786836,
          -2.4793036,
          -7.678001,
          -13.346485,
          8.554741,
          -8.735335,
          19.79227,
          17.931257,
          18.632536,
          13.832873,
          18.60418,
          29.67949,
          35.44467,
          -18.383858,
          -9.222234,
          7.72684,
          10.918282,
          31.062622,
          -18.10171,
          -27.619806,
          15.923865,
          24.313393,
          9.43124,
          33.48469,
          26.69664,
          -18.393112,
          -25.747318,
          21.135725,
          42.672886,
          -28.499119,
          -24.397919,
          15.476488,
          15.43081,
          -16.982876,
          -11.677386,
          3.0634868,
          -28.024199,
          0.7974797,
          9.98791,
          -12.988603,
          -24.464735,
          -5.1970205,
          34.527767,
          24.620909,
          -1.3066751,
          -7.413,
          -12.824549,
          27.094234,
          22.775871,
          19.189087,
          -25.161682,
          -26.22316,
          -18.610815,
          -3.0174375,
          3.2568667,
          10.385123,
          -60.638336,
          33.782513,
          -54.311832,
          -5.1583657,
          117.76589,
          -1.8809457,
          -25.542013,
          -30.895098,
          -20.404963,
          -21.982876,
          -2.0694442,
          -4.305114,
          33.403744,
          -5.4893117,
          -31.19285,
          -16.61001,
          -17.73024,
          10.44318,
          15.790295,
          22.929543,
          -16.074871,
          -22.520912,
          -30.588827,
          -16.303932,
          4.5904965,
          6.198959,
          -16.311388,
          -16.651592,
          -9.468562,
          0.9907021,
          3.462338,
          -12.329488,
          10.467478,
          -34.595863,
          9.606389
         ]
        }
       ],
       "layout": {
        "autosize": true,
        "height": 360,
        "legend": {
         "tracegroupgap": 0
        },
        "scene": {
         "aspectmode": "auto",
         "aspectratio": {
          "x": 1.5635163102474914,
          "y": 1.1247803814458155,
          "z": 0.56863010811897
         },
         "camera": {
          "center": {
           "x": 0,
           "y": 0,
           "z": 0
          },
          "eye": {
           "x": -0.030284196472373615,
           "y": 0.15953462650304456,
           "z": 0.03273189613200076
          },
          "projection": {
           "type": "perspective"
          },
          "up": {
           "x": 0,
           "y": 0,
           "z": 1
          }
         },
         "domain": {
          "x": [
           0,
           1
          ],
          "y": [
           0,
           1
          ]
         },
         "xaxis": {
          "title": {
           "text": "TSNE Component 1"
          },
          "type": "linear"
         },
         "yaxis": {
          "title": {
           "text": "TSNE Component 2"
          },
          "type": "linear"
         },
         "zaxis": {
          "title": {
           "text": "TSNE Component 3"
          },
          "type": "linear"
         }
        },
        "template": {
         "data": {
          "bar": [
           {
            "error_x": {
             "color": "#2a3f5f"
            },
            "error_y": {
             "color": "#2a3f5f"
            },
            "marker": {
             "line": {
              "color": "#E5ECF6",
              "width": 0.5
             },
             "pattern": {
              "fillmode": "overlay",
              "size": 10,
              "solidity": 0.2
             }
            },
            "type": "bar"
           }
          ],
          "barpolar": [
           {
            "marker": {
             "line": {
              "color": "#E5ECF6",
              "width": 0.5
             },
             "pattern": {
              "fillmode": "overlay",
              "size": 10,
              "solidity": 0.2
             }
            },
            "type": "barpolar"
           }
          ],
          "carpet": [
           {
            "aaxis": {
             "endlinecolor": "#2a3f5f",
             "gridcolor": "white",
             "linecolor": "white",
             "minorgridcolor": "white",
             "startlinecolor": "#2a3f5f"
            },
            "baxis": {
             "endlinecolor": "#2a3f5f",
             "gridcolor": "white",
             "linecolor": "white",
             "minorgridcolor": "white",
             "startlinecolor": "#2a3f5f"
            },
            "type": "carpet"
           }
          ],
          "choropleth": [
           {
            "colorbar": {
             "outlinewidth": 0,
             "ticks": ""
            },
            "type": "choropleth"
           }
          ],
          "contour": [
           {
            "colorbar": {
             "outlinewidth": 0,
             "ticks": ""
            },
            "colorscale": [
             [
              0,
              "#0d0887"
             ],
             [
              0.1111111111111111,
              "#46039f"
             ],
             [
              0.2222222222222222,
              "#7201a8"
             ],
             [
              0.3333333333333333,
              "#9c179e"
             ],
             [
              0.4444444444444444,
              "#bd3786"
             ],
             [
              0.5555555555555556,
              "#d8576b"
             ],
             [
              0.6666666666666666,
              "#ed7953"
             ],
             [
              0.7777777777777778,
              "#fb9f3a"
             ],
             [
              0.8888888888888888,
              "#fdca26"
             ],
             [
              1,
              "#f0f921"
             ]
            ],
            "type": "contour"
           }
          ],
          "contourcarpet": [
           {
            "colorbar": {
             "outlinewidth": 0,
             "ticks": ""
            },
            "type": "contourcarpet"
           }
          ],
          "heatmap": [
           {
            "colorbar": {
             "outlinewidth": 0,
             "ticks": ""
            },
            "colorscale": [
             [
              0,
              "#0d0887"
             ],
             [
              0.1111111111111111,
              "#46039f"
             ],
             [
              0.2222222222222222,
              "#7201a8"
             ],
             [
              0.3333333333333333,
              "#9c179e"
             ],
             [
              0.4444444444444444,
              "#bd3786"
             ],
             [
              0.5555555555555556,
              "#d8576b"
             ],
             [
              0.6666666666666666,
              "#ed7953"
             ],
             [
              0.7777777777777778,
              "#fb9f3a"
             ],
             [
              0.8888888888888888,
              "#fdca26"
             ],
             [
              1,
              "#f0f921"
             ]
            ],
            "type": "heatmap"
           }
          ],
          "heatmapgl": [
           {
            "colorbar": {
             "outlinewidth": 0,
             "ticks": ""
            },
            "colorscale": [
             [
              0,
              "#0d0887"
             ],
             [
              0.1111111111111111,
              "#46039f"
             ],
             [
              0.2222222222222222,
              "#7201a8"
             ],
             [
              0.3333333333333333,
              "#9c179e"
             ],
             [
              0.4444444444444444,
              "#bd3786"
             ],
             [
              0.5555555555555556,
              "#d8576b"
             ],
             [
              0.6666666666666666,
              "#ed7953"
             ],
             [
              0.7777777777777778,
              "#fb9f3a"
             ],
             [
              0.8888888888888888,
              "#fdca26"
             ],
             [
              1,
              "#f0f921"
             ]
            ],
            "type": "heatmapgl"
           }
          ],
          "histogram": [
           {
            "marker": {
             "pattern": {
              "fillmode": "overlay",
              "size": 10,
              "solidity": 0.2
             }
            },
            "type": "histogram"
           }
          ],
          "histogram2d": [
           {
            "colorbar": {
             "outlinewidth": 0,
             "ticks": ""
            },
            "colorscale": [
             [
              0,
              "#0d0887"
             ],
             [
              0.1111111111111111,
              "#46039f"
             ],
             [
              0.2222222222222222,
              "#7201a8"
             ],
             [
              0.3333333333333333,
              "#9c179e"
             ],
             [
              0.4444444444444444,
              "#bd3786"
             ],
             [
              0.5555555555555556,
              "#d8576b"
             ],
             [
              0.6666666666666666,
              "#ed7953"
             ],
             [
              0.7777777777777778,
              "#fb9f3a"
             ],
             [
              0.8888888888888888,
              "#fdca26"
             ],
             [
              1,
              "#f0f921"
             ]
            ],
            "type": "histogram2d"
           }
          ],
          "histogram2dcontour": [
           {
            "colorbar": {
             "outlinewidth": 0,
             "ticks": ""
            },
            "colorscale": [
             [
              0,
              "#0d0887"
             ],
             [
              0.1111111111111111,
              "#46039f"
             ],
             [
              0.2222222222222222,
              "#7201a8"
             ],
             [
              0.3333333333333333,
              "#9c179e"
             ],
             [
              0.4444444444444444,
              "#bd3786"
             ],
             [
              0.5555555555555556,
              "#d8576b"
             ],
             [
              0.6666666666666666,
              "#ed7953"
             ],
             [
              0.7777777777777778,
              "#fb9f3a"
             ],
             [
              0.8888888888888888,
              "#fdca26"
             ],
             [
              1,
              "#f0f921"
             ]
            ],
            "type": "histogram2dcontour"
           }
          ],
          "mesh3d": [
           {
            "colorbar": {
             "outlinewidth": 0,
             "ticks": ""
            },
            "type": "mesh3d"
           }
          ],
          "parcoords": [
           {
            "line": {
             "colorbar": {
              "outlinewidth": 0,
              "ticks": ""
             }
            },
            "type": "parcoords"
           }
          ],
          "pie": [
           {
            "automargin": true,
            "type": "pie"
           }
          ],
          "scatter": [
           {
            "fillpattern": {
             "fillmode": "overlay",
             "size": 10,
             "solidity": 0.2
            },
            "type": "scatter"
           }
          ],
          "scatter3d": [
           {
            "line": {
             "colorbar": {
              "outlinewidth": 0,
              "ticks": ""
             }
            },
            "marker": {
             "colorbar": {
              "outlinewidth": 0,
              "ticks": ""
             }
            },
            "type": "scatter3d"
           }
          ],
          "scattercarpet": [
           {
            "marker": {
             "colorbar": {
              "outlinewidth": 0,
              "ticks": ""
             }
            },
            "type": "scattercarpet"
           }
          ],
          "scattergeo": [
           {
            "marker": {
             "colorbar": {
              "outlinewidth": 0,
              "ticks": ""
             }
            },
            "type": "scattergeo"
           }
          ],
          "scattergl": [
           {
            "marker": {
             "colorbar": {
              "outlinewidth": 0,
              "ticks": ""
             }
            },
            "type": "scattergl"
           }
          ],
          "scattermapbox": [
           {
            "marker": {
             "colorbar": {
              "outlinewidth": 0,
              "ticks": ""
             }
            },
            "type": "scattermapbox"
           }
          ],
          "scatterpolar": [
           {
            "marker": {
             "colorbar": {
              "outlinewidth": 0,
              "ticks": ""
             }
            },
            "type": "scatterpolar"
           }
          ],
          "scatterpolargl": [
           {
            "marker": {
             "colorbar": {
              "outlinewidth": 0,
              "ticks": ""
             }
            },
            "type": "scatterpolargl"
           }
          ],
          "scatterternary": [
           {
            "marker": {
             "colorbar": {
              "outlinewidth": 0,
              "ticks": ""
             }
            },
            "type": "scatterternary"
           }
          ],
          "surface": [
           {
            "colorbar": {
             "outlinewidth": 0,
             "ticks": ""
            },
            "colorscale": [
             [
              0,
              "#0d0887"
             ],
             [
              0.1111111111111111,
              "#46039f"
             ],
             [
              0.2222222222222222,
              "#7201a8"
             ],
             [
              0.3333333333333333,
              "#9c179e"
             ],
             [
              0.4444444444444444,
              "#bd3786"
             ],
             [
              0.5555555555555556,
              "#d8576b"
             ],
             [
              0.6666666666666666,
              "#ed7953"
             ],
             [
              0.7777777777777778,
              "#fb9f3a"
             ],
             [
              0.8888888888888888,
              "#fdca26"
             ],
             [
              1,
              "#f0f921"
             ]
            ],
            "type": "surface"
           }
          ],
          "table": [
           {
            "cells": {
             "fill": {
              "color": "#EBF0F8"
             },
             "line": {
              "color": "white"
             }
            },
            "header": {
             "fill": {
              "color": "#C8D4E3"
             },
             "line": {
              "color": "white"
             }
            },
            "type": "table"
           }
          ]
         },
         "layout": {
          "annotationdefaults": {
           "arrowcolor": "#2a3f5f",
           "arrowhead": 0,
           "arrowwidth": 1
          },
          "autotypenumbers": "strict",
          "coloraxis": {
           "colorbar": {
            "outlinewidth": 0,
            "ticks": ""
           }
          },
          "colorscale": {
           "diverging": [
            [
             0,
             "#8e0152"
            ],
            [
             0.1,
             "#c51b7d"
            ],
            [
             0.2,
             "#de77ae"
            ],
            [
             0.3,
             "#f1b6da"
            ],
            [
             0.4,
             "#fde0ef"
            ],
            [
             0.5,
             "#f7f7f7"
            ],
            [
             0.6,
             "#e6f5d0"
            ],
            [
             0.7,
             "#b8e186"
            ],
            [
             0.8,
             "#7fbc41"
            ],
            [
             0.9,
             "#4d9221"
            ],
            [
             1,
             "#276419"
            ]
           ],
           "sequential": [
            [
             0,
             "#0d0887"
            ],
            [
             0.1111111111111111,
             "#46039f"
            ],
            [
             0.2222222222222222,
             "#7201a8"
            ],
            [
             0.3333333333333333,
             "#9c179e"
            ],
            [
             0.4444444444444444,
             "#bd3786"
            ],
            [
             0.5555555555555556,
             "#d8576b"
            ],
            [
             0.6666666666666666,
             "#ed7953"
            ],
            [
             0.7777777777777778,
             "#fb9f3a"
            ],
            [
             0.8888888888888888,
             "#fdca26"
            ],
            [
             1,
             "#f0f921"
            ]
           ],
           "sequentialminus": [
            [
             0,
             "#0d0887"
            ],
            [
             0.1111111111111111,
             "#46039f"
            ],
            [
             0.2222222222222222,
             "#7201a8"
            ],
            [
             0.3333333333333333,
             "#9c179e"
            ],
            [
             0.4444444444444444,
             "#bd3786"
            ],
            [
             0.5555555555555556,
             "#d8576b"
            ],
            [
             0.6666666666666666,
             "#ed7953"
            ],
            [
             0.7777777777777778,
             "#fb9f3a"
            ],
            [
             0.8888888888888888,
             "#fdca26"
            ],
            [
             1,
             "#f0f921"
            ]
           ]
          },
          "colorway": [
           "#636efa",
           "#EF553B",
           "#00cc96",
           "#ab63fa",
           "#FFA15A",
           "#19d3f3",
           "#FF6692",
           "#B6E880",
           "#FF97FF",
           "#FECB52"
          ],
          "font": {
           "color": "#2a3f5f"
          },
          "geo": {
           "bgcolor": "white",
           "lakecolor": "white",
           "landcolor": "#E5ECF6",
           "showlakes": true,
           "showland": true,
           "subunitcolor": "white"
          },
          "hoverlabel": {
           "align": "left"
          },
          "hovermode": "closest",
          "mapbox": {
           "style": "light"
          },
          "paper_bgcolor": "white",
          "plot_bgcolor": "#E5ECF6",
          "polar": {
           "angularaxis": {
            "gridcolor": "white",
            "linecolor": "white",
            "ticks": ""
           },
           "bgcolor": "#E5ECF6",
           "radialaxis": {
            "gridcolor": "white",
            "linecolor": "white",
            "ticks": ""
           }
          },
          "scene": {
           "xaxis": {
            "backgroundcolor": "#E5ECF6",
            "gridcolor": "white",
            "gridwidth": 2,
            "linecolor": "white",
            "showbackground": true,
            "ticks": "",
            "zerolinecolor": "white"
           },
           "yaxis": {
            "backgroundcolor": "#E5ECF6",
            "gridcolor": "white",
            "gridwidth": 2,
            "linecolor": "white",
            "showbackground": true,
            "ticks": "",
            "zerolinecolor": "white"
           },
           "zaxis": {
            "backgroundcolor": "#E5ECF6",
            "gridcolor": "white",
            "gridwidth": 2,
            "linecolor": "white",
            "showbackground": true,
            "ticks": "",
            "zerolinecolor": "white"
           }
          },
          "shapedefaults": {
           "line": {
            "color": "#2a3f5f"
           }
          },
          "ternary": {
           "aaxis": {
            "gridcolor": "white",
            "linecolor": "white",
            "ticks": ""
           },
           "baxis": {
            "gridcolor": "white",
            "linecolor": "white",
            "ticks": ""
           },
           "bgcolor": "#E5ECF6",
           "caxis": {
            "gridcolor": "white",
            "linecolor": "white",
            "ticks": ""
           }
          },
          "title": {
           "x": 0.05
          },
          "xaxis": {
           "automargin": true,
           "gridcolor": "white",
           "linecolor": "white",
           "ticks": "",
           "title": {
            "standoff": 15
           },
           "zerolinecolor": "white",
           "zerolinewidth": 2
          },
          "yaxis": {
           "automargin": true,
           "gridcolor": "white",
           "linecolor": "white",
           "ticks": "",
           "title": {
            "standoff": 15
           },
           "zerolinecolor": "white",
           "zerolinewidth": 2
          }
         }
        },
        "title": {
         "text": "3D t-SNE of Pokémon Name Embeddings"
        }
       }
      },
      "image/png": "[encoded data removed]",
      "text/html": [
       "<div>                            <div id=\"12d63e41-1eac-45ac-8d9c-5cda1687cf59\" class=\"plotly-graph-div\" style=\"height:800px; width:100%;\"></div>            <script type=\"text/javascript\">                require([\"plotly\"], function(Plotly) {                    window.PLOTLYENV=window.PLOTLYENV || {};                                    if (document.getElementById(\"12d63e41-1eac-45ac-8d9c-5cda1687cf59\")) {                    Plotly.newPlot(                        \"12d63e41-1eac-45ac-8d9c-5cda1687cf59\",                        [{\"hovertemplate\":\"Component 1=%{x}\\u003cbr\\u003eComponent 2=%{y}\\u003cbr\\u003eComponent 3=%{z}\\u003cbr\\u003ePokémon=%{text}\\u003cextra\\u003e\\u003c\\u002fextra\\u003e\",\"legendgroup\":\"\",\"marker\":{\"color\":\"#636efa\",\"symbol\":\"circle\",\"size\":10},\"mode\":\"markers+text\",\"name\":\"\",\"scene\":\"scene\",\"showlegend\":false,\"text\":[\"bulbasaur\",\"ivysaur\",\"venusaur\",\"charmander\",\"charmeleon\",\"charizard\",\"squirtle\",\"wartortle\",\"blastoise\",\"caterpie\",\"metapod\",\"butterfree\",\"weedle\",\"kakuna\",\"beedrill\",\"pidgey\",\"pidgeotto\",\"pidgeot\",\"rattata\",\"raticate\",\"spearow\",\"fearow\",\"ekans\",\"arbok\",\"pikachu\",\"raichu\",\"sandshrew\",\"sandslash\",\"nidoran♀\",\"nidorina\",\"nidoqueen\",\"nidoran♂\",\"nidorino\",\"nidoking\",\"clefairy\",\"clefable\",\"vulpix\",\"ninetales\",\"jigglypuff\",\"wigglytuff\",\"zubat\",\"golbat\",\"oddish\",\"gloom\",\"vileplume\",\"paras\",\"parasect\",\"venonat\",\"venomoth\",\"diglett\",\"dugtrio\",\"meowth\",\"persian\",\"psyduck\",\"golduck\",\"mankey\",\"primeape\",\"growlithe\",\"arcanine\",\"poliwag\",\"poliwhirl\",\"poliwrath\",\"abra\",\"kadabra\",\"alakazam\",\"machop\",\"machoke\",\"machamp\",\"bellsprout\",\"weepinbell\",\"victreebel\",\"tentacool\",\"tentacruel\",\"geodude\",\"graveler\",\"golem\",\"ponyta\",\"rapidash\",\"slowpoke\",\"slowbro\",\"magnemite\",\"magneton\",\"farfetch'd\",\"doduo\",\"dodrio\",\"seel\",\"dewgong\",\"grimer\",\"muk\",\"shellder\",\"cloyster\",\"gastly\",\"haunter\",\"gengar\",\"onix\",\"drowzee\",\"hypno\",\"krabby\",\"kingler\",\"voltorb\"],\"x\":[-22.988644,-30.355284,-28.443674,-21.149445,3.6450639,-23.040068,-24.256159,-28.492895,-2.196231,5.6480517,16.721062,-2.7995765,22.830503,22.033201,-9.630979,8.119533,2.0481088,-6.8135304,-7.038701,-0.09425454,-8.377065,-12.739925,14.653907,21.287447,24.396923,28.172398,230.69632,-259.84738,-30.767902,-51.333458,-47.725887,54.579678,28.468668,-38.570087,-13.840981,-18.516949,-1.2916557,-33.50585,-22.508453,-18.574171,-23.516144,-15.983639,12.408102,40.559853,8.4264765,16.206213,-11.739651,-11.926584,27.167574,-55.415993,13.209788,0.3974691,8.316646,10.289425,14.08994,23.16532,2.5963042,-9.858597,1.2732121,26.02513,18.455595,18.772806,21.52709,20.96314,37.02701,-24.041777,5.0966053,-17.784536,-48.277416,-0.804563,-45.70139,13.072848,-9.827623,-46.35736,29.605326,29.725157,25.411922,-32.729904,22.996477,-26.36015,-37.862957,2.581768,46.346527,20.519197,20.2774,36.93085,39.349865,27.521173,6.0974593,-13.752198,-5.0755157,-19.866486,31.782642,-21.479479,17.429642,11.885505,8.988832,26.410362,15.374791,10.110571],\"y\":[3.2583354,-2.3874574,-7.915013,9.056713,29.930393,14.069129,44.640255,42.23016,-8.699078,-21.24199,62.955753,-19.743902,37.521126,-9.962578,-34.09788,-28.977993,-34.079063,-36.26718,-14.576247,-9.335429,-37.44981,-34.99043,57.856476,55.213955,-35.115753,-27.370447,-198.9451,153.94788,-41.018772,13.786716,1.8319768,8.155644,22.686565,0.13766092,-15.170333,-4.6720014,31.454754,0.3272716,-21.073027,-13.65698,-46.46441,-41.161804,38.485474,49.897808,24.48704,57.78583,-33.07734,-32.92625,63.492317,33.919388,23.750124,-48.84171,20.346624,-62.097736,-60.205753,48.248913,-6.067741,16.595316,24.353462,-47.86291,-48.449615,-53.957813,10.596609,0.94165814,-26.602804,-6.990142,-4.1475925,-11.4039,-15.824662,-59.314934,-7.538306,-39.728874,-1.1252408,30.459852,33.909378,53.63517,-4.07486,2.297964,31.762388,-0.8593732,26.903767,38.079453,-27.632812,-20.43203,-18.445189,29.828215,-37.90753,29.998434,62.50545,38.267086,33.821133,2.854995,47.077377,6.99902,50.639103,0.5192653,19.03596,5.476784,-52.838722,39.556934],\"z\":[19.783672,18.734112,14.017895,25.931124,10.121807,33.80853,0.7846095,6.228079,58.31365,-11.786836,-2.4793036,-7.678001,-13.346485,8.554741,-8.735335,19.79227,17.931257,18.632536,13.832873,18.60418,29.67949,35.44467,-18.383858,-9.222234,7.72684,10.918282,31.062622,-18.10171,-27.619806,15.923865,24.313393,9.43124,33.48469,26.69664,-18.393112,-25.747318,21.135725,42.672886,-28.499119,-24.397919,15.476488,15.43081,-16.982876,-11.677386,3.0634868,-28.024199,0.7974797,9.98791,-12.988603,-24.464735,-5.1970205,34.527767,24.620909,-1.3066751,-7.413,-12.824549,27.094234,22.775871,19.189087,-25.161682,-26.22316,-18.610815,-3.0174375,3.2568667,10.385123,-60.638336,33.782513,-54.311832,-5.1583657,117.76589,-1.8809457,-25.542013,-30.895098,-20.404963,-21.982876,-2.0694442,-4.305114,33.403744,-5.4893117,-31.19285,-16.61001,-17.73024,10.44318,15.790295,22.929543,-16.074871,-22.520912,-30.588827,-16.303932,4.5904965,6.198959,-16.311388,-16.651592,-9.468562,0.9907021,3.462338,-12.329488,10.467478,-34.595863,9.606389],\"type\":\"scatter3d\"}],                        {\"template\":{\"data\":{\"histogram2dcontour\":[{\"type\":\"histogram2dcontour\",\"colorbar\":{\"outlinewidth\":0,\"ticks\":\"\"},\"colorscale\":[[0.0,\"#0d0887\"],[0.1111111111111111,\"#46039f\"],[0.2222222222222222,\"#7201a8\"],[0.3333333333333333,\"#9c179e\"],[0.4444444444444444,\"#bd3786\"],[0.5555555555555556,\"#d8576b\"],[0.6666666666666666,\"#ed7953\"],[0.7777777777777778,\"#fb9f3a\"],[0.8888888888888888,\"#fdca26\"],[1.0,\"#f0f921\"]]}],\"choropleth\":[{\"type\":\"choropleth\",\"colorbar\":{\"outlinewidth\":0,\"ticks\":\"\"}}],\"histogram2d\":[{\"type\":\"histogram2d\",\"colorbar\":{\"outlinewidth\":0,\"ticks\":\"\"},\"colorscale\":[[0.0,\"#0d0887\"],[0.1111111111111111,\"#46039f\"],[0.2222222222222222,\"#7201a8\"],[0.3333333333333333,\"#9c179e\"],[0.4444444444444444,\"#bd3786\"],[0.5555555555555556,\"#d8576b\"],[0.6666666666666666,\"#ed7953\"],[0.7777777777777778,\"#fb9f3a\"],[0.8888888888888888,\"#fdca26\"],[1.0,\"#f0f921\"]]}],\"heatmap\":[{\"type\":\"heatmap\",\"colorbar\":{\"outlinewidth\":0,\"ticks\":\"\"},\"colorscale\":[[0.0,\"#0d0887\"],[0.1111111111111111,\"#46039f\"],[0.2222222222222222,\"#7201a8\"],[0.3333333333333333,\"#9c179e\"],[0.4444444444444444,\"#bd3786\"],[0.5555555555555556,\"#d8576b\"],[0.6666666666666666,\"#ed7953\"],[0.7777777777777778,\"#fb9f3a\"],[0.8888888888888888,\"#fdca26\"],[1.0,\"#f0f921\"]]}],\"heatmapgl\":[{\"type\":\"heatmapgl\",\"colorbar\":{\"outlinewidth\":0,\"ticks\":\"\"},\"colorscale\":[[0.0,\"#0d0887\"],[0.1111111111111111,\"#46039f\"],[0.2222222222222222,\"#7201a8\"],[0.3333333333333333,\"#9c179e\"],[0.4444444444444444,\"#bd3786\"],[0.5555555555555556,\"#d8576b\"],[0.6666666666666666,\"#ed7953\"],[0.7777777777777778,\"#fb9f3a\"],[0.8888888888888888,\"#fdca26\"],[1.0,\"#f0f921\"]]}],\"contourcarpet\":[{\"type\":\"contourcarpet\",\"colorbar\":{\"outlinewidth\":0,\"ticks\":\"\"}}],\"contour\":[{\"type\":\"contour\",\"colorbar\":{\"outlinewidth\":0,\"ticks\":\"\"},\"colorscale\":[[0.0,\"#0d0887\"],[0.1111111111111111,\"#46039f\"],[0.2222222222222222,\"#7201a8\"],[0.3333333333333333,\"#9c179e\"],[0.4444444444444444,\"#bd3786\"],[0.5555555555555556,\"#d8576b\"],[0.6666666666666666,\"#ed7953\"],[0.7777777777777778,\"#fb9f3a\"],[0.8888888888888888,\"#fdca26\"],[1.0,\"#f0f921\"]]}],\"surface\":[{\"type\":\"surface\",\"colorbar\":{\"outlinewidth\":0,\"ticks\":\"\"},\"colorscale\":[[0.0,\"#0d0887\"],[0.1111111111111111,\"#46039f\"],[0.2222222222222222,\"#7201a8\"],[0.3333333333333333,\"#9c179e\"],[0.4444444444444444,\"#bd3786\"],[0.5555555555555556,\"#d8576b\"],[0.6666666666666666,\"#ed7953\"],[0.7777777777777778,\"#fb9f3a\"],[0.8888888888888888,\"#fdca26\"],[1.0,\"#f0f921\"]]}],\"mesh3d\":[{\"type\":\"mesh3d\",\"colorbar\":{\"outlinewidth\":0,\"ticks\":\"\"}}],\"scatter\":[{\"fillpattern\":{\"fillmode\":\"overlay\",\"size\":10,\"solidity\":0.2},\"type\":\"scatter\"}],\"parcoords\":[{\"type\":\"parcoords\",\"line\":{\"colorbar\":{\"outlinewidth\":0,\"ticks\":\"\"}}}],\"scatterpolargl\":[{\"type\":\"scatterpolargl\",\"marker\":{\"colorbar\":{\"outlinewidth\":0,\"ticks\":\"\"}}}],\"bar\":[{\"error_x\":{\"color\":\"#2a3f5f\"},\"error_y\":{\"color\":\"#2a3f5f\"},\"marker\":{\"line\":{\"color\":\"#E5ECF6\",\"width\":0.5},\"pattern\":{\"fillmode\":\"overlay\",\"size\":10,\"solidity\":0.2}},\"type\":\"bar\"}],\"scattergeo\":[{\"type\":\"scattergeo\",\"marker\":{\"colorbar\":{\"outlinewidth\":0,\"ticks\":\"\"}}}],\"scatterpolar\":[{\"type\":\"scatterpolar\",\"marker\":{\"colorbar\":{\"outlinewidth\":0,\"ticks\":\"\"}}}],\"histogram\":[{\"marker\":{\"pattern\":{\"fillmode\":\"overlay\",\"size\":10,\"solidity\":0.2}},\"type\":\"histogram\"}],\"scattergl\":[{\"type\":\"scattergl\",\"marker\":{\"colorbar\":{\"outlinewidth\":0,\"ticks\":\"\"}}}],\"scatter3d\":[{\"type\":\"scatter3d\",\"line\":{\"colorbar\":{\"outlinewidth\":0,\"ticks\":\"\"}},\"marker\":{\"colorbar\":{\"outlinewidth\":0,\"ticks\":\"\"}}}],\"scattermapbox\":[{\"type\":\"scattermapbox\",\"marker\":{\"colorbar\":{\"outlinewidth\":0,\"ticks\":\"\"}}}],\"scatterternary\":[{\"type\":\"scatterternary\",\"marker\":{\"colorbar\":{\"outlinewidth\":0,\"ticks\":\"\"}}}],\"scattercarpet\":[{\"type\":\"scattercarpet\",\"marker\":{\"colorbar\":{\"outlinewidth\":0,\"ticks\":\"\"}}}],\"carpet\":[{\"aaxis\":{\"endlinecolor\":\"#2a3f5f\",\"gridcolor\":\"white\",\"linecolor\":\"white\",\"minorgridcolor\":\"white\",\"startlinecolor\":\"#2a3f5f\"},\"baxis\":{\"endlinecolor\":\"#2a3f5f\",\"gridcolor\":\"white\",\"linecolor\":\"white\",\"minorgridcolor\":\"white\",\"startlinecolor\":\"#2a3f5f\"},\"type\":\"carpet\"}],\"table\":[{\"cells\":{\"fill\":{\"color\":\"#EBF0F8\"},\"line\":{\"color\":\"white\"}},\"header\":{\"fill\":{\"color\":\"#C8D4E3\"},\"line\":{\"color\":\"white\"}},\"type\":\"table\"}],\"barpolar\":[{\"marker\":{\"line\":{\"color\":\"#E5ECF6\",\"width\":0.5},\"pattern\":{\"fillmode\":\"overlay\",\"size\":10,\"solidity\":0.2}},\"type\":\"barpolar\"}],\"pie\":[{\"automargin\":true,\"type\":\"pie\"}]},\"layout\":{\"autotypenumbers\":\"strict\",\"colorway\":[\"#636efa\",\"#EF553B\",\"#00cc96\",\"#ab63fa\",\"#FFA15A\",\"#19d3f3\",\"#FF6692\",\"#B6E880\",\"#FF97FF\",\"#FECB52\"],\"font\":{\"color\":\"#2a3f5f\"},\"hovermode\":\"closest\",\"hoverlabel\":{\"align\":\"left\"},\"paper_bgcolor\":\"white\",\"plot_bgcolor\":\"#E5ECF6\",\"polar\":{\"bgcolor\":\"#E5ECF6\",\"angularaxis\":{\"gridcolor\":\"white\",\"linecolor\":\"white\",\"ticks\":\"\"},\"radialaxis\":{\"gridcolor\":\"white\",\"linecolor\":\"white\",\"ticks\":\"\"}},\"ternary\":{\"bgcolor\":\"#E5ECF6\",\"aaxis\":{\"gridcolor\":\"white\",\"linecolor\":\"white\",\"ticks\":\"\"},\"baxis\":{\"gridcolor\":\"white\",\"linecolor\":\"white\",\"ticks\":\"\"},\"caxis\":{\"gridcolor\":\"white\",\"linecolor\":\"white\",\"ticks\":\"\"}},\"coloraxis\":{\"colorbar\":{\"outlinewidth\":0,\"ticks\":\"\"}},\"colorscale\":{\"sequential\":[[0.0,\"#0d0887\"],[0.1111111111111111,\"#46039f\"],[0.2222222222222222,\"#7201a8\"],[0.3333333333333333,\"#9c179e\"],[0.4444444444444444,\"#bd3786\"],[0.5555555555555556,\"#d8576b\"],[0.6666666666666666,\"#ed7953\"],[0.7777777777777778,\"#fb9f3a\"],[0.8888888888888888,\"#fdca26\"],[1.0,\"#f0f921\"]],\"sequentialminus\":[[0.0,\"#0d0887\"],[0.1111111111111111,\"#46039f\"],[0.2222222222222222,\"#7201a8\"],[0.3333333333333333,\"#9c179e\"],[0.4444444444444444,\"#bd3786\"],[0.5555555555555556,\"#d8576b\"],[0.6666666666666666,\"#ed7953\"],[0.7777777777777778,\"#fb9f3a\"],[0.8888888888888888,\"#fdca26\"],[1.0,\"#f0f921\"]],\"diverging\":[[0,\"#8e0152\"],[0.1,\"#c51b7d\"],[0.2,\"#de77ae\"],[0.3,\"#f1b6da\"],[0.4,\"#fde0ef\"],[0.5,\"#f7f7f7\"],[0.6,\"#e6f5d0\"],[0.7,\"#b8e186\"],[0.8,\"#7fbc41\"],[0.9,\"#4d9221\"],[1,\"#276419\"]]},\"xaxis\":{\"gridcolor\":\"white\",\"linecolor\":\"white\",\"ticks\":\"\",\"title\":{\"standoff\":15},\"zerolinecolor\":\"white\",\"automargin\":true,\"zerolinewidth\":2},\"yaxis\":{\"gridcolor\":\"white\",\"linecolor\":\"white\",\"ticks\":\"\",\"title\":{\"standoff\":15},\"zerolinecolor\":\"white\",\"automargin\":true,\"zerolinewidth\":2},\"scene\":{\"xaxis\":{\"backgroundcolor\":\"#E5ECF6\",\"gridcolor\":\"white\",\"linecolor\":\"white\",\"showbackground\":true,\"ticks\":\"\",\"zerolinecolor\":\"white\",\"gridwidth\":2},\"yaxis\":{\"backgroundcolor\":\"#E5ECF6\",\"gridcolor\":\"white\",\"linecolor\":\"white\",\"showbackground\":true,\"ticks\":\"\",\"zerolinecolor\":\"white\",\"gridwidth\":2},\"zaxis\":{\"backgroundcolor\":\"#E5ECF6\",\"gridcolor\":\"white\",\"linecolor\":\"white\",\"showbackground\":true,\"ticks\":\"\",\"zerolinecolor\":\"white\",\"gridwidth\":2}},\"shapedefaults\":{\"line\":{\"color\":\"#2a3f5f\"}},\"annotationdefaults\":{\"arrowcolor\":\"#2a3f5f\",\"arrowhead\":0,\"arrowwidth\":1},\"geo\":{\"bgcolor\":\"white\",\"landcolor\":\"#E5ECF6\",\"subunitcolor\":\"white\",\"showland\":true,\"showlakes\":true,\"lakecolor\":\"white\"},\"title\":{\"x\":0.05},\"mapbox\":{\"style\":\"light\"}}},\"scene\":{\"domain\":{\"x\":[0.0,1.0],\"y\":[0.0,1.0]},\"xaxis\":{\"title\":{\"text\":\"TSNE Component 1\"}},\"yaxis\":{\"title\":{\"text\":\"TSNE Component 2\"}},\"zaxis\":{\"title\":{\"text\":\"TSNE Component 3\"}}},\"legend\":{\"tracegroupgap\":0},\"title\":{\"text\":\"3D t-SNE of Pokémon Name Embeddings\"},\"height\":800},                        {\"responsive\": true}                    ).then(function(){\n",
       "                            \n",
       "var gd = document.getElementById('12d63e41-1eac-45ac-8d9c-5cda1687cf59');\n",
       "var x = new MutationObserver(function (mutations, observer) {{\n",
       "        var display = window.getComputedStyle(gd).display;\n",
       "        if (!display || display === 'none') {{\n",
       "            console.log([gd, 'removed!']);\n",
       "            Plotly.purge(gd);\n",
       "            observer.disconnect();\n",
       "        }}\n",
       "}});\n",
       "\n",
       "// Listen for the removal of the full notebook cells\n",
       "var notebookContainer = gd.closest('#notebook-container');\n",
       "if (notebookContainer) {{\n",
       "    x.observe(notebookContainer, {childList: true});\n",
       "}}\n",
       "\n",
       "// Listen for the clearing of the current output cell\n",
       "var outputEl = gd.closest('.output');\n",
       "if (outputEl) {{\n",
       "    x.observe(outputEl, {childList: true});\n",
       "}}\n",
       "\n",
       "                        })                };                });            </script>        </div>"
      ]
     },
     "metadata": {},
     "output_type": "display_data"
    }
   ],
   "source": [
    "from sklearn.manifold import TSNE\n",
    "\n",
    "# Dimensionality reduction using t-SNE for 3D visualization\n",
    "import plotly.express as px\n",
    "\n",
    "# Flatten the one-hot encoded arrays into a 2D array\n",
    "flattened_encoded_pokemon = encoded_pokemon.reshape(100, -1)  # Reshape to (number of Pokémon, max_length * number of characters)\n",
    "\n",
    "# Check the shape of the flattened result\n",
    "print(flattened_encoded_pokemon.shape)  # Should be (number of words, max_length * number of characters)\n",
    "\n",
    "# Dimensionality reduction using t-SNE for 3D visualization\n",
    "tsne = TSNE(n_components=3, perplexity=3, random_state=42)\n",
    "pokemon_tsne_3d = tsne.fit_transform(flattened_encoded_pokemon)\n",
    "\n",
    "# Create a DataFrame for Plotly visualization\n",
    "df = pd.DataFrame(pokemon_tsne_3d, columns=['Component 1', 'Component 2', 'Component 3'])\n",
    "df['Pokémon'] = words[:100]  # Add Pokémon names for labeling\n",
    "\n",
    "# 3D Scatter Plot using Plotly Express\n",
    "fig = px.scatter_3d(\n",
    "    df, \n",
    "    x='Component 1', \n",
    "    y='Component 2', \n",
    "    z='Component 3', \n",
    "    text='Pokémon',  # Display Pokémon names\n",
    "    title='3D t-SNE of Pokémon Name Embeddings',\n",
    "    height=800\n",
    ")\n",
    "\n",
    "fig.update_traces(marker_size=10)\n",
    "fig.update_layout(scene=dict(\n",
    "    xaxis_title='TSNE Component 1',\n",
    "    yaxis_title='TSNE Component 2',\n",
    "    zaxis_title='TSNE Component 3',\n",
    "))\n",
    "\n",
    "fig.show()"
   ]
  },
  {
   "cell_type": "code",
   "execution_count": 18,
   "id": "353f5437-f9d7-423d-b4b7-f0d5d72f2856",
   "metadata": {},
   "outputs": [],
   "source": [
    "df.to_csv('pokemon_tsne_data_llama.csv', index=False)"
   ]
  },
  {
   "cell_type": "code",
   "execution_count": null,
   "id": "c849591a-b61e-4d1c-8374-966ff65be8de",
   "metadata": {},
   "outputs": [],
   "source": []
  }
 ],
 "metadata": {
  "kernelspec": {
   "display_name": "Python 3 (ipykernel)",
   "language": "python",
   "name": "python3"
  },
  "language_info": {
   "codemirror_mode": {
    "name": "ipython",
    "version": 3
   },
   "file_extension": ".py",
   "mimetype": "text/x-python",
   "name": "python",
   "nbconvert_exporter": "python",
   "pygments_lexer": "ipython3",
   "version": "3.12.4"
  }
 },
 "nbformat": 4,
 "nbformat_minor": 5
}
