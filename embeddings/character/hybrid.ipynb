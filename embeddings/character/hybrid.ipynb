{
 "cells": [
  {
   "cell_type": "code",
   "execution_count": 10,
   "id": "b6c61d6f-2c5a-4fdc-85c5-fe96f52bd200",
   "metadata": {},
   "outputs": [],
   "source": [
    "import pandas as pd\n",
    "import torch\n",
    "import torch.nn as nn\n",
    "import string\n",
    "import numpy as np\n",
    "\n",
    "# Load the dataset\n",
    "data = pd.read_csv('dataset/pokemon.csv')[\"name\"]\n",
    "words = data.to_list()\n",
    "words = list(map(str.lower, words[:100]))"
   ]
  },
  {
   "cell_type": "code",
   "execution_count": 11,
   "id": "c68623ee-c450-4d82-9aff-0dfda48b013c",
   "metadata": {},
   "outputs": [
    {
     "data": {
      "text/plain": [
       "100"
      ]
     },
     "execution_count": 11,
     "metadata": {},
     "output_type": "execute_result"
    }
   ],
   "source": [
    "len(words)"
   ]
  },
  {
   "cell_type": "code",
   "execution_count": 12,
   "id": "eda3d9ec-14f7-4bbc-8498-9a834097d284",
   "metadata": {},
   "outputs": [
    {
     "data": {
      "text/plain": [
       "{'a': 0,\n",
       " 'b': 1,\n",
       " 'c': 2,\n",
       " 'd': 3,\n",
       " 'e': 4,\n",
       " 'f': 5,\n",
       " 'g': 6,\n",
       " 'h': 7,\n",
       " 'i': 8,\n",
       " 'j': 9,\n",
       " 'k': 10,\n",
       " 'l': 11,\n",
       " 'm': 12,\n",
       " 'n': 13,\n",
       " 'o': 14,\n",
       " 'p': 15,\n",
       " 'q': 16,\n",
       " 'r': 17,\n",
       " 's': 18,\n",
       " 't': 19,\n",
       " 'u': 20,\n",
       " 'v': 21,\n",
       " 'w': 22,\n",
       " 'x': 23,\n",
       " 'y': 24,\n",
       " 'z': 25}"
      ]
     },
     "execution_count": 12,
     "metadata": {},
     "output_type": "execute_result"
    }
   ],
   "source": [
    "char_set = list(string.ascii_lowercase)\n",
    "char_dict = {char: idx for idx, char in enumerate(char_set)}\n",
    "char_dict"
   ]
  },
  {
   "cell_type": "code",
   "execution_count": 13,
   "id": "47d653c6-2b28-4be8-8965-6e1b6594e736",
   "metadata": {},
   "outputs": [],
   "source": [
    "class SelfAttention(nn.Module):\n",
    "    def __init__(self, embedding_dim):\n",
    "        super(SelfAttention, self).__init__()\n",
    "        self.query = nn.Linear(embedding_dim, embedding_dim)\n",
    "        self.key = nn.Linear(embedding_dim, embedding_dim)\n",
    "        self.value = nn.Linear(embedding_dim, embedding_dim)\n",
    "        self.scale = torch.sqrt(torch.FloatTensor([embedding_dim]))\n",
    "\n",
    "    def forward(self, x):\n",
    "        Q = self.query(x)\n",
    "        K = self.key(x)\n",
    "        V = self.value(x)\n",
    "        attention_weights = torch.matmul(Q, K.permute(0, 2, 1)) / self.scale\n",
    "        attention_weights = torch.softmax(attention_weights, dim=-1)\n",
    "        output = torch.matmul(attention_weights, V)\n",
    "        return output\n",
    "\n",
    "class AttentionCharacterEmbeddingModel(nn.Module):\n",
    "    def __init__(self, vocab_size, embedding_dim, hidden_dim):\n",
    "        super(AttentionCharacterEmbeddingModel, self).__init__()\n",
    "        self.embedding = nn.Embedding(vocab_size, embedding_dim)\n",
    "        self.lstm = nn.LSTM(embedding_dim, hidden_dim, batch_first=True)\n",
    "        self.attention = SelfAttention(hidden_dim)\n",
    "        self.fc = nn.Linear(hidden_dim, embedding_dim)\n",
    "\n",
    "    def forward(self, x):\n",
    "        embeds = self.embedding(x)\n",
    "        lstm_out, _ = self.lstm(embeds)\n",
    "        attention_out = self.attention(lstm_out)\n",
    "        final_embedding = self.fc(attention_out[:, -1, :])  # Final embedding after attention\n",
    "        return final_embedding\n",
    "\n",
    "# Initialize Attention model\n",
    "attention_model = AttentionCharacterEmbeddingModel(vocab_size, embedding_dim, hidden_dim)\n",
    "\n",
    "\n",
    "class HybridCharacterEmbeddingModel(nn.Module):\n",
    "    def __init__(self, vocab_size, embedding_dim, hidden_dim):\n",
    "        super(HybridCharacterEmbeddingModel, self).__init__()\n",
    "        self.embedding = nn.Embedding(vocab_size, embedding_dim)\n",
    "        self.conv1 = nn.Conv1d(embedding_dim, hidden_dim, kernel_size=3, padding=1)\n",
    "        self.lstm = nn.LSTM(hidden_dim, hidden_dim, batch_first=True)\n",
    "        self.attention = SelfAttention(hidden_dim)\n",
    "        self.fc = nn.Linear(hidden_dim, embedding_dim)\n",
    "\n",
    "    def forward(self, x):\n",
    "        embeds = self.embedding(x).permute(0, 2, 1)\n",
    "        conv_out = torch.relu(self.conv1(embeds)).permute(0, 2, 1)\n",
    "        lstm_out, _ = self.lstm(conv_out)\n",
    "        attention_out = self.attention(lstm_out)\n",
    "        final_embedding = self.fc(attention_out[:, -1, :])\n",
    "        return final_embedding\n",
    "\n",
    "vocab_size = len(char_set)  # Character set size (number of unique characters)\n",
    "embedding_dim = 50  # Embedding dimension for each character\n",
    "hidden_dim = 100  # Hidden dimension of Transformer\n",
    "\n",
    "# Initialize Attention model\n",
    "model = HybridCharacterEmbeddingModel(vocab_size, embedding_dim, hidden_dim)\n"
   ]
  },
  {
   "cell_type": "code",
   "execution_count": 14,
   "id": "a3f2a13f-f003-4396-b4b0-4375af206921",
   "metadata": {},
   "outputs": [],
   "source": [
    "def word_to_indices(word, char_to_idx, max_length):\n",
    "    indices = [char_to_idx[char] for char in word if char in char_to_idx]\n",
    "    # Pad or truncate to `max_length`\n",
    "    if len(indices) < max_length:\n",
    "        indices += [0] * (max_length - len(indices))  # Pad with index 0 for shorter words\n",
    "    else:\n",
    "        indices = indices[:max_length]  # Truncate if too long\n",
    "    return torch.tensor(indices).unsqueeze(0)  # Add batch dimension"
   ]
  },
  {
   "cell_type": "code",
   "execution_count": 15,
   "id": "3427da55-7025-4d2b-969c-a8185ee13910",
   "metadata": {},
   "outputs": [],
   "source": [
    "max_length = max(len(word) for word in words)\n",
    "encoded_pokemon = []\n",
    "for name in words:\n",
    "    indices = word_to_indices(name, char_dict, max_length)\n",
    "    embedding = model(indices).detach().numpy()  # Get the sequence-level embedding\n",
    "    encoded_pokemon.append(embedding)\n",
    "encoded_pokemon = np.array(encoded_pokemon)"
   ]
  },
  {
   "cell_type": "code",
   "execution_count": 16,
   "id": "302790c5-4504-4187-81b4-d211024c6bdf",
   "metadata": {},
   "outputs": [
    {
     "data": {
      "text/plain": [
       "100"
      ]
     },
     "execution_count": 16,
     "metadata": {},
     "output_type": "execute_result"
    }
   ],
   "source": [
    "len(encoded_pokemon)"
   ]
  },
  {
   "cell_type": "code",
   "execution_count": 17,
   "id": "49bc40d5-4a3e-49bd-9cec-e4c86fe79059",
   "metadata": {},
   "outputs": [
    {
     "name": "stdout",
     "output_type": "stream",
     "text": [
      "(100, 50)\n"
     ]
    },
    {
     "data": {
      "application/vnd.plotly.v1+json": {
       "config": {
        "plotlyServerURL": "https://plot.ly"
       },
       "data": [
        {
         "hovertemplate": "Component 1=%{x}<br>Component 2=%{y}<br>Component 3=%{z}<br>Pokémon=%{text}<extra></extra>",
         "legendgroup": "",
         "marker": {
          "color": "#636efa",
          "size": 10,
          "symbol": "circle"
         },
         "mode": "markers+text",
         "name": "",
         "scene": "scene",
         "showlegend": false,
         "text": [
          "bulbasaur",
          "ivysaur",
          "venusaur",
          "charmander",
          "charmeleon",
          "charizard",
          "squirtle",
          "wartortle",
          "blastoise",
          "caterpie",
          "metapod",
          "butterfree",
          "weedle",
          "kakuna",
          "beedrill",
          "pidgey",
          "pidgeotto",
          "pidgeot",
          "rattata",
          "raticate",
          "spearow",
          "fearow",
          "ekans",
          "arbok",
          "pikachu",
          "raichu",
          "sandshrew",
          "sandslash",
          "nidoran♀",
          "nidorina",
          "nidoqueen",
          "nidoran♂",
          "nidorino",
          "nidoking",
          "clefairy",
          "clefable",
          "vulpix",
          "ninetales",
          "jigglypuff",
          "wigglytuff",
          "zubat",
          "golbat",
          "oddish",
          "gloom",
          "vileplume",
          "paras",
          "parasect",
          "venonat",
          "venomoth",
          "diglett",
          "dugtrio",
          "meowth",
          "persian",
          "psyduck",
          "golduck",
          "mankey",
          "primeape",
          "growlithe",
          "arcanine",
          "poliwag",
          "poliwhirl",
          "poliwrath",
          "abra",
          "kadabra",
          "alakazam",
          "machop",
          "machoke",
          "machamp",
          "bellsprout",
          "weepinbell",
          "victreebel",
          "tentacool",
          "tentacruel",
          "geodude",
          "graveler",
          "golem",
          "ponyta",
          "rapidash",
          "slowpoke",
          "slowbro",
          "magnemite",
          "magneton",
          "farfetch'd",
          "doduo",
          "dodrio",
          "seel",
          "dewgong",
          "grimer",
          "muk",
          "shellder",
          "cloyster",
          "gastly",
          "haunter",
          "gengar",
          "onix",
          "drowzee",
          "hypno",
          "krabby",
          "kingler",
          "voltorb"
         ],
         "type": "scatter3d",
         "x": [
          -11.002562,
          -17.050352,
          -7.62464,
          64.97409,
          14.499266,
          66.39939,
          4.9997435,
          30.83333,
          -2.9145393,
          -11.519625,
          29.760555,
          -15.377454,
          -36.55943,
          -53.868942,
          19.382381,
          47.12377,
          18.200949,
          17.532202,
          0.8654502,
          9.8636675,
          -41.870213,
          -36.33375,
          -50.85915,
          -43.041492,
          -37.037685,
          11.133365,
          -25.528854,
          -34.42925,
          39.5318,
          29.778732,
          1.0797776,
          44.795864,
          -63.252575,
          18.963343,
          -4.0855556,
          -31.994892,
          1.1770365,
          -1.945296,
          60.80894,
          -3.055819,
          -53.09588,
          -49.93822,
          42.84477,
          -54.379467,
          -28.613768,
          -71.07116,
          18.758028,
          6.662399,
          7.816296,
          15.075607,
          45.515354,
          15.588785,
          -11.26838,
          62.663578,
          80.95368,
          -53.255642,
          -27.22136,
          1.7118227,
          -19.780775,
          23.49662,
          36.26096,
          33.761906,
          -72.951515,
          -64.45968,
          -45.490093,
          61.92441,
          70.869896,
          66.66871,
          24.814314,
          24.02174,
          -20.214867,
          -1.2294111,
          16.428608,
          38.456333,
          -32.114307,
          -44.288746,
          40.474586,
          40.31254,
          -56.956974,
          -57.731136,
          -19.743618,
          -0.75692225,
          62.155125,
          43.38146,
          48.82903,
          -45.780987,
          -34.927006,
          -22.083818,
          -61.406628,
          -26.553947,
          20.50183,
          -31.245419,
          26.866772,
          0.012103118,
          6.3515444,
          -31.691721,
          51.185467,
          -67.51255,
          -0.14968717,
          -5.112115
         ],
         "y": [
          -6.8552604,
          0.32890457,
          -8.179518,
          -2.0209339,
          -21.498554,
          1.8310161,
          -29.293879,
          -17.640423,
          -23.09082,
          9.700126,
          50.336338,
          33.56365,
          -24.325436,
          -18.008062,
          -12.389001,
          54.70215,
          30.452217,
          20.841167,
          48.794914,
          40.96334,
          18.938717,
          11.839393,
          -29.711655,
          8.0849495,
          23.487684,
          33.209225,
          -20.87719,
          -19.08531,
          -13.148759,
          -13.443206,
          -4.0511184,
          -11.732046,
          14.633067,
          -15.41312,
          -3.2778986,
          -50.105957,
          6.4036884,
          -12.229689,
          -45.650463,
          68.90307,
          3.604788,
          -38.649693,
          23.145126,
          -31.611431,
          32.87379,
          -1.756331,
          36.511036,
          -49.34228,
          40.23688,
          12.772643,
          -0.27703473,
          34.505974,
          -3.8693523,
          -3.166615,
          12.810872,
          -36.82366,
          9.400754,
          59.324203,
          -11.502726,
          -61.36184,
          -7.110445,
          -16.57597,
          -7.1658654,
          0.5512555,
          -53.90555,
          6.8174896,
          7.8811555,
          4.4373813,
          -52.207573,
          -8.931544,
          36.047348,
          47.600964,
          -20.611622,
          53.599815,
          2.3270388,
          -44.89309,
          24.050623,
          15.552621,
          37.949604,
          17.399979,
          70.032196,
          -35.757267,
          -15.311455,
          25.919779,
          -24.072796,
          -31.871593,
          66.69031,
          0.517707,
          -13.31662,
          -29.910011,
          -32.17919,
          39.374866,
          28.237883,
          -32.862312,
          -13.817838,
          3.0352006,
          14.540244,
          11.051542,
          -22.194,
          37.833813
         ],
         "z": [
          -57.222137,
          -40.60176,
          -44.680912,
          -0.6365572,
          10.862398,
          -13.190091,
          15.643548,
          57.885666,
          -15.827037,
          -7.1660566,
          19.277935,
          -66.441025,
          23.972704,
          46.616535,
          18.974771,
          -17.792967,
          -26.513042,
          -18.727003,
          34.977448,
          31.473888,
          26.758818,
          31.04243,
          39.983086,
          49.427555,
          -44.995255,
          57.50684,
          -39.410267,
          -43.54215,
          -19.513796,
          -31.961027,
          -41.09723,
          -27.556713,
          -38.234985,
          -38.49535,
          10.822577,
          3.338902,
          29.978392,
          -9.500278,
          8.799252,
          -3.8711987,
          49.21161,
          -5.63087,
          -4.574638,
          -11.6203375,
          -6.037309,
          29.97077,
          22.63892,
          -28.98986,
          -38.838776,
          -12.867457,
          -19.186205,
          13.074342,
          -1.0005928,
          31.857164,
          31.158453,
          47.151485,
          -11.760371,
          -29.749372,
          -0.7751327,
          -5.102839,
          -68.91086,
          -68.81725,
          21.837845,
          41.492798,
          11.299277,
          20.776703,
          25.696941,
          10.744022,
          25.905838,
          29.846336,
          -2.074915,
          -33.3086,
          1.2523127,
          2.247922,
          7.8956013,
          3.092798,
          18.96205,
          -12.242479,
          -16.081139,
          -4.2344213,
          -33.506542,
          57.944366,
          1.196306,
          6.6733594,
          -21.21279,
          28.037611,
          -4.588556,
          -1.8257442,
          41.740303,
          -31.715435,
          0.1028478,
          43.06338,
          23.084356,
          -53.216194,
          -91.736084,
          24.920952,
          24.410088,
          50.27961,
          -46.435753,
          -35.352257
         ]
        }
       ],
       "layout": {
        "autosize": true,
        "legend": {
         "tracegroupgap": 0
        },
        "scene": {
         "aspectmode": "auto",
         "aspectratio": {
          "x": 1.063951771354622,
          "y": 0.9083313746987748,
          "z": 1.03474596757216
         },
         "camera": {
          "center": {
           "x": 0,
           "y": 0,
           "z": 0
          },
          "eye": {
           "x": -0.22928258204368118,
           "y": 0.18044081323259595,
           "z": 0.11209842876453237
          },
          "projection": {
           "type": "perspective"
          },
          "up": {
           "x": 0,
           "y": 0,
           "z": 1
          }
         },
         "domain": {
          "x": [
           0,
           1
          ],
          "y": [
           0,
           1
          ]
         },
         "xaxis": {
          "title": {
           "text": "TSNE Component 1"
          },
          "type": "linear"
         },
         "yaxis": {
          "title": {
           "text": "TSNE Component 2"
          },
          "type": "linear"
         },
         "zaxis": {
          "title": {
           "text": "TSNE Component 3"
          },
          "type": "linear"
         }
        },
        "template": {
         "data": {
          "bar": [
           {
            "error_x": {
             "color": "#2a3f5f"
            },
            "error_y": {
             "color": "#2a3f5f"
            },
            "marker": {
             "line": {
              "color": "#E5ECF6",
              "width": 0.5
             },
             "pattern": {
              "fillmode": "overlay",
              "size": 10,
              "solidity": 0.2
             }
            },
            "type": "bar"
           }
          ],
          "barpolar": [
           {
            "marker": {
             "line": {
              "color": "#E5ECF6",
              "width": 0.5
             },
             "pattern": {
              "fillmode": "overlay",
              "size": 10,
              "solidity": 0.2
             }
            },
            "type": "barpolar"
           }
          ],
          "carpet": [
           {
            "aaxis": {
             "endlinecolor": "#2a3f5f",
             "gridcolor": "white",
             "linecolor": "white",
             "minorgridcolor": "white",
             "startlinecolor": "#2a3f5f"
            },
            "baxis": {
             "endlinecolor": "#2a3f5f",
             "gridcolor": "white",
             "linecolor": "white",
             "minorgridcolor": "white",
             "startlinecolor": "#2a3f5f"
            },
            "type": "carpet"
           }
          ],
          "choropleth": [
           {
            "colorbar": {
             "outlinewidth": 0,
             "ticks": ""
            },
            "type": "choropleth"
           }
          ],
          "contour": [
           {
            "colorbar": {
             "outlinewidth": 0,
             "ticks": ""
            },
            "colorscale": [
             [
              0,
              "#0d0887"
             ],
             [
              0.1111111111111111,
              "#46039f"
             ],
             [
              0.2222222222222222,
              "#7201a8"
             ],
             [
              0.3333333333333333,
              "#9c179e"
             ],
             [
              0.4444444444444444,
              "#bd3786"
             ],
             [
              0.5555555555555556,
              "#d8576b"
             ],
             [
              0.6666666666666666,
              "#ed7953"
             ],
             [
              0.7777777777777778,
              "#fb9f3a"
             ],
             [
              0.8888888888888888,
              "#fdca26"
             ],
             [
              1,
              "#f0f921"
             ]
            ],
            "type": "contour"
           }
          ],
          "contourcarpet": [
           {
            "colorbar": {
             "outlinewidth": 0,
             "ticks": ""
            },
            "type": "contourcarpet"
           }
          ],
          "heatmap": [
           {
            "colorbar": {
             "outlinewidth": 0,
             "ticks": ""
            },
            "colorscale": [
             [
              0,
              "#0d0887"
             ],
             [
              0.1111111111111111,
              "#46039f"
             ],
             [
              0.2222222222222222,
              "#7201a8"
             ],
             [
              0.3333333333333333,
              "#9c179e"
             ],
             [
              0.4444444444444444,
              "#bd3786"
             ],
             [
              0.5555555555555556,
              "#d8576b"
             ],
             [
              0.6666666666666666,
              "#ed7953"
             ],
             [
              0.7777777777777778,
              "#fb9f3a"
             ],
             [
              0.8888888888888888,
              "#fdca26"
             ],
             [
              1,
              "#f0f921"
             ]
            ],
            "type": "heatmap"
           }
          ],
          "heatmapgl": [
           {
            "colorbar": {
             "outlinewidth": 0,
             "ticks": ""
            },
            "colorscale": [
             [
              0,
              "#0d0887"
             ],
             [
              0.1111111111111111,
              "#46039f"
             ],
             [
              0.2222222222222222,
              "#7201a8"
             ],
             [
              0.3333333333333333,
              "#9c179e"
             ],
             [
              0.4444444444444444,
              "#bd3786"
             ],
             [
              0.5555555555555556,
              "#d8576b"
             ],
             [
              0.6666666666666666,
              "#ed7953"
             ],
             [
              0.7777777777777778,
              "#fb9f3a"
             ],
             [
              0.8888888888888888,
              "#fdca26"
             ],
             [
              1,
              "#f0f921"
             ]
            ],
            "type": "heatmapgl"
           }
          ],
          "histogram": [
           {
            "marker": {
             "pattern": {
              "fillmode": "overlay",
              "size": 10,
              "solidity": 0.2
             }
            },
            "type": "histogram"
           }
          ],
          "histogram2d": [
           {
            "colorbar": {
             "outlinewidth": 0,
             "ticks": ""
            },
            "colorscale": [
             [
              0,
              "#0d0887"
             ],
             [
              0.1111111111111111,
              "#46039f"
             ],
             [
              0.2222222222222222,
              "#7201a8"
             ],
             [
              0.3333333333333333,
              "#9c179e"
             ],
             [
              0.4444444444444444,
              "#bd3786"
             ],
             [
              0.5555555555555556,
              "#d8576b"
             ],
             [
              0.6666666666666666,
              "#ed7953"
             ],
             [
              0.7777777777777778,
              "#fb9f3a"
             ],
             [
              0.8888888888888888,
              "#fdca26"
             ],
             [
              1,
              "#f0f921"
             ]
            ],
            "type": "histogram2d"
           }
          ],
          "histogram2dcontour": [
           {
            "colorbar": {
             "outlinewidth": 0,
             "ticks": ""
            },
            "colorscale": [
             [
              0,
              "#0d0887"
             ],
             [
              0.1111111111111111,
              "#46039f"
             ],
             [
              0.2222222222222222,
              "#7201a8"
             ],
             [
              0.3333333333333333,
              "#9c179e"
             ],
             [
              0.4444444444444444,
              "#bd3786"
             ],
             [
              0.5555555555555556,
              "#d8576b"
             ],
             [
              0.6666666666666666,
              "#ed7953"
             ],
             [
              0.7777777777777778,
              "#fb9f3a"
             ],
             [
              0.8888888888888888,
              "#fdca26"
             ],
             [
              1,
              "#f0f921"
             ]
            ],
            "type": "histogram2dcontour"
           }
          ],
          "mesh3d": [
           {
            "colorbar": {
             "outlinewidth": 0,
             "ticks": ""
            },
            "type": "mesh3d"
           }
          ],
          "parcoords": [
           {
            "line": {
             "colorbar": {
              "outlinewidth": 0,
              "ticks": ""
             }
            },
            "type": "parcoords"
           }
          ],
          "pie": [
           {
            "automargin": true,
            "type": "pie"
           }
          ],
          "scatter": [
           {
            "fillpattern": {
             "fillmode": "overlay",
             "size": 10,
             "solidity": 0.2
            },
            "type": "scatter"
           }
          ],
          "scatter3d": [
           {
            "line": {
             "colorbar": {
              "outlinewidth": 0,
              "ticks": ""
             }
            },
            "marker": {
             "colorbar": {
              "outlinewidth": 0,
              "ticks": ""
             }
            },
            "type": "scatter3d"
           }
          ],
          "scattercarpet": [
           {
            "marker": {
             "colorbar": {
              "outlinewidth": 0,
              "ticks": ""
             }
            },
            "type": "scattercarpet"
           }
          ],
          "scattergeo": [
           {
            "marker": {
             "colorbar": {
              "outlinewidth": 0,
              "ticks": ""
             }
            },
            "type": "scattergeo"
           }
          ],
          "scattergl": [
           {
            "marker": {
             "colorbar": {
              "outlinewidth": 0,
              "ticks": ""
             }
            },
            "type": "scattergl"
           }
          ],
          "scattermapbox": [
           {
            "marker": {
             "colorbar": {
              "outlinewidth": 0,
              "ticks": ""
             }
            },
            "type": "scattermapbox"
           }
          ],
          "scatterpolar": [
           {
            "marker": {
             "colorbar": {
              "outlinewidth": 0,
              "ticks": ""
             }
            },
            "type": "scatterpolar"
           }
          ],
          "scatterpolargl": [
           {
            "marker": {
             "colorbar": {
              "outlinewidth": 0,
              "ticks": ""
             }
            },
            "type": "scatterpolargl"
           }
          ],
          "scatterternary": [
           {
            "marker": {
             "colorbar": {
              "outlinewidth": 0,
              "ticks": ""
             }
            },
            "type": "scatterternary"
           }
          ],
          "surface": [
           {
            "colorbar": {
             "outlinewidth": 0,
             "ticks": ""
            },
            "colorscale": [
             [
              0,
              "#0d0887"
             ],
             [
              0.1111111111111111,
              "#46039f"
             ],
             [
              0.2222222222222222,
              "#7201a8"
             ],
             [
              0.3333333333333333,
              "#9c179e"
             ],
             [
              0.4444444444444444,
              "#bd3786"
             ],
             [
              0.5555555555555556,
              "#d8576b"
             ],
             [
              0.6666666666666666,
              "#ed7953"
             ],
             [
              0.7777777777777778,
              "#fb9f3a"
             ],
             [
              0.8888888888888888,
              "#fdca26"
             ],
             [
              1,
              "#f0f921"
             ]
            ],
            "type": "surface"
           }
          ],
          "table": [
           {
            "cells": {
             "fill": {
              "color": "#EBF0F8"
             },
             "line": {
              "color": "white"
             }
            },
            "header": {
             "fill": {
              "color": "#C8D4E3"
             },
             "line": {
              "color": "white"
             }
            },
            "type": "table"
           }
          ]
         },
         "layout": {
          "annotationdefaults": {
           "arrowcolor": "#2a3f5f",
           "arrowhead": 0,
           "arrowwidth": 1
          },
          "autotypenumbers": "strict",
          "coloraxis": {
           "colorbar": {
            "outlinewidth": 0,
            "ticks": ""
           }
          },
          "colorscale": {
           "diverging": [
            [
             0,
             "#8e0152"
            ],
            [
             0.1,
             "#c51b7d"
            ],
            [
             0.2,
             "#de77ae"
            ],
            [
             0.3,
             "#f1b6da"
            ],
            [
             0.4,
             "#fde0ef"
            ],
            [
             0.5,
             "#f7f7f7"
            ],
            [
             0.6,
             "#e6f5d0"
            ],
            [
             0.7,
             "#b8e186"
            ],
            [
             0.8,
             "#7fbc41"
            ],
            [
             0.9,
             "#4d9221"
            ],
            [
             1,
             "#276419"
            ]
           ],
           "sequential": [
            [
             0,
             "#0d0887"
            ],
            [
             0.1111111111111111,
             "#46039f"
            ],
            [
             0.2222222222222222,
             "#7201a8"
            ],
            [
             0.3333333333333333,
             "#9c179e"
            ],
            [
             0.4444444444444444,
             "#bd3786"
            ],
            [
             0.5555555555555556,
             "#d8576b"
            ],
            [
             0.6666666666666666,
             "#ed7953"
            ],
            [
             0.7777777777777778,
             "#fb9f3a"
            ],
            [
             0.8888888888888888,
             "#fdca26"
            ],
            [
             1,
             "#f0f921"
            ]
           ],
           "sequentialminus": [
            [
             0,
             "#0d0887"
            ],
            [
             0.1111111111111111,
             "#46039f"
            ],
            [
             0.2222222222222222,
             "#7201a8"
            ],
            [
             0.3333333333333333,
             "#9c179e"
            ],
            [
             0.4444444444444444,
             "#bd3786"
            ],
            [
             0.5555555555555556,
             "#d8576b"
            ],
            [
             0.6666666666666666,
             "#ed7953"
            ],
            [
             0.7777777777777778,
             "#fb9f3a"
            ],
            [
             0.8888888888888888,
             "#fdca26"
            ],
            [
             1,
             "#f0f921"
            ]
           ]
          },
          "colorway": [
           "#636efa",
           "#EF553B",
           "#00cc96",
           "#ab63fa",
           "#FFA15A",
           "#19d3f3",
           "#FF6692",
           "#B6E880",
           "#FF97FF",
           "#FECB52"
          ],
          "font": {
           "color": "#2a3f5f"
          },
          "geo": {
           "bgcolor": "white",
           "lakecolor": "white",
           "landcolor": "#E5ECF6",
           "showlakes": true,
           "showland": true,
           "subunitcolor": "white"
          },
          "hoverlabel": {
           "align": "left"
          },
          "hovermode": "closest",
          "mapbox": {
           "style": "light"
          },
          "paper_bgcolor": "white",
          "plot_bgcolor": "#E5ECF6",
          "polar": {
           "angularaxis": {
            "gridcolor": "white",
            "linecolor": "white",
            "ticks": ""
           },
           "bgcolor": "#E5ECF6",
           "radialaxis": {
            "gridcolor": "white",
            "linecolor": "white",
            "ticks": ""
           }
          },
          "scene": {
           "xaxis": {
            "backgroundcolor": "#E5ECF6",
            "gridcolor": "white",
            "gridwidth": 2,
            "linecolor": "white",
            "showbackground": true,
            "ticks": "",
            "zerolinecolor": "white"
           },
           "yaxis": {
            "backgroundcolor": "#E5ECF6",
            "gridcolor": "white",
            "gridwidth": 2,
            "linecolor": "white",
            "showbackground": true,
            "ticks": "",
            "zerolinecolor": "white"
           },
           "zaxis": {
            "backgroundcolor": "#E5ECF6",
            "gridcolor": "white",
            "gridwidth": 2,
            "linecolor": "white",
            "showbackground": true,
            "ticks": "",
            "zerolinecolor": "white"
           }
          },
          "shapedefaults": {
           "line": {
            "color": "#2a3f5f"
           }
          },
          "ternary": {
           "aaxis": {
            "gridcolor": "white",
            "linecolor": "white",
            "ticks": ""
           },
           "baxis": {
            "gridcolor": "white",
            "linecolor": "white",
            "ticks": ""
           },
           "bgcolor": "#E5ECF6",
           "caxis": {
            "gridcolor": "white",
            "linecolor": "white",
            "ticks": ""
           }
          },
          "title": {
           "x": 0.05
          },
          "xaxis": {
           "automargin": true,
           "gridcolor": "white",
           "linecolor": "white",
           "ticks": "",
           "title": {
            "standoff": 15
           },
           "zerolinecolor": "white",
           "zerolinewidth": 2
          },
          "yaxis": {
           "automargin": true,
           "gridcolor": "white",
           "linecolor": "white",
           "ticks": "",
           "title": {
            "standoff": 15
           },
           "zerolinecolor": "white",
           "zerolinewidth": 2
          }
         }
        },
        "title": {
         "text": "3D t-SNE of Pokémon Name Embeddings"
        }
       }
      },
      "image/png": "[encoded data removed]",
      "text/html": [
       "<div>                            <div id=\"96624751-878f-4af4-a63a-454a7ac8ee94\" class=\"plotly-graph-div\" style=\"height:600px; width:100%;\"></div>            <script type=\"text/javascript\">                require([\"plotly\"], function(Plotly) {                    window.PLOTLYENV=window.PLOTLYENV || {};                                    if (document.getElementById(\"96624751-878f-4af4-a63a-454a7ac8ee94\")) {                    Plotly.newPlot(                        \"96624751-878f-4af4-a63a-454a7ac8ee94\",                        [{\"hovertemplate\":\"Component 1=%{x}\\u003cbr\\u003eComponent 2=%{y}\\u003cbr\\u003eComponent 3=%{z}\\u003cbr\\u003ePokémon=%{text}\\u003cextra\\u003e\\u003c\\u002fextra\\u003e\",\"legendgroup\":\"\",\"marker\":{\"color\":\"#636efa\",\"symbol\":\"circle\",\"size\":10},\"mode\":\"markers+text\",\"name\":\"\",\"scene\":\"scene\",\"showlegend\":false,\"text\":[\"bulbasaur\",\"ivysaur\",\"venusaur\",\"charmander\",\"charmeleon\",\"charizard\",\"squirtle\",\"wartortle\",\"blastoise\",\"caterpie\",\"metapod\",\"butterfree\",\"weedle\",\"kakuna\",\"beedrill\",\"pidgey\",\"pidgeotto\",\"pidgeot\",\"rattata\",\"raticate\",\"spearow\",\"fearow\",\"ekans\",\"arbok\",\"pikachu\",\"raichu\",\"sandshrew\",\"sandslash\",\"nidoran♀\",\"nidorina\",\"nidoqueen\",\"nidoran♂\",\"nidorino\",\"nidoking\",\"clefairy\",\"clefable\",\"vulpix\",\"ninetales\",\"jigglypuff\",\"wigglytuff\",\"zubat\",\"golbat\",\"oddish\",\"gloom\",\"vileplume\",\"paras\",\"parasect\",\"venonat\",\"venomoth\",\"diglett\",\"dugtrio\",\"meowth\",\"persian\",\"psyduck\",\"golduck\",\"mankey\",\"primeape\",\"growlithe\",\"arcanine\",\"poliwag\",\"poliwhirl\",\"poliwrath\",\"abra\",\"kadabra\",\"alakazam\",\"machop\",\"machoke\",\"machamp\",\"bellsprout\",\"weepinbell\",\"victreebel\",\"tentacool\",\"tentacruel\",\"geodude\",\"graveler\",\"golem\",\"ponyta\",\"rapidash\",\"slowpoke\",\"slowbro\",\"magnemite\",\"magneton\",\"farfetch'd\",\"doduo\",\"dodrio\",\"seel\",\"dewgong\",\"grimer\",\"muk\",\"shellder\",\"cloyster\",\"gastly\",\"haunter\",\"gengar\",\"onix\",\"drowzee\",\"hypno\",\"krabby\",\"kingler\",\"voltorb\"],\"x\":[-11.002562,-17.050352,-7.62464,64.97409,14.499266,66.39939,4.9997435,30.83333,-2.9145393,-11.519625,29.760555,-15.377454,-36.55943,-53.868942,19.382381,47.12377,18.200949,17.532202,0.8654502,9.8636675,-41.870213,-36.33375,-50.85915,-43.041492,-37.037685,11.133365,-25.528854,-34.42925,39.5318,29.778732,1.0797776,44.795864,-63.252575,18.963343,-4.0855556,-31.994892,1.1770365,-1.945296,60.80894,-3.055819,-53.09588,-49.93822,42.84477,-54.379467,-28.613768,-71.07116,18.758028,6.662399,7.816296,15.075607,45.515354,15.588785,-11.26838,62.663578,80.95368,-53.255642,-27.22136,1.7118227,-19.780775,23.49662,36.26096,33.761906,-72.951515,-64.45968,-45.490093,61.92441,70.869896,66.66871,24.814314,24.02174,-20.214867,-1.2294111,16.428608,38.456333,-32.114307,-44.288746,40.474586,40.31254,-56.956974,-57.731136,-19.743618,-0.75692225,62.155125,43.38146,48.82903,-45.780987,-34.927006,-22.083818,-61.406628,-26.553947,20.50183,-31.245419,26.866772,0.012103118,6.3515444,-31.691721,51.185467,-67.51255,-0.14968717,-5.112115],\"y\":[-6.8552604,0.32890457,-8.179518,-2.0209339,-21.498554,1.8310161,-29.293879,-17.640423,-23.09082,9.700126,50.336338,33.56365,-24.325436,-18.008062,-12.389001,54.70215,30.452217,20.841167,48.794914,40.96334,18.938717,11.839393,-29.711655,8.0849495,23.487684,33.209225,-20.87719,-19.08531,-13.148759,-13.443206,-4.0511184,-11.732046,14.633067,-15.41312,-3.2778986,-50.105957,6.4036884,-12.229689,-45.650463,68.90307,3.604788,-38.649693,23.145126,-31.611431,32.87379,-1.756331,36.511036,-49.34228,40.23688,12.772643,-0.27703473,34.505974,-3.8693523,-3.166615,12.810872,-36.82366,9.400754,59.324203,-11.502726,-61.36184,-7.110445,-16.57597,-7.1658654,0.5512555,-53.90555,6.8174896,7.8811555,4.4373813,-52.207573,-8.931544,36.047348,47.600964,-20.611622,53.599815,2.3270388,-44.89309,24.050623,15.552621,37.949604,17.399979,70.032196,-35.757267,-15.311455,25.919779,-24.072796,-31.871593,66.69031,0.517707,-13.31662,-29.910011,-32.17919,39.374866,28.237883,-32.862312,-13.817838,3.0352006,14.540244,11.051542,-22.194,37.833813],\"z\":[-57.222137,-40.60176,-44.680912,-0.6365572,10.862398,-13.190091,15.643548,57.885666,-15.827037,-7.1660566,19.277935,-66.441025,23.972704,46.616535,18.974771,-17.792967,-26.513042,-18.727003,34.977448,31.473888,26.758818,31.04243,39.983086,49.427555,-44.995255,57.50684,-39.410267,-43.54215,-19.513796,-31.961027,-41.09723,-27.556713,-38.234985,-38.49535,10.822577,3.338902,29.978392,-9.500278,8.799252,-3.8711987,49.21161,-5.63087,-4.574638,-11.6203375,-6.037309,29.97077,22.63892,-28.98986,-38.838776,-12.867457,-19.186205,13.074342,-1.0005928,31.857164,31.158453,47.151485,-11.760371,-29.749372,-0.7751327,-5.102839,-68.91086,-68.81725,21.837845,41.492798,11.299277,20.776703,25.696941,10.744022,25.905838,29.846336,-2.074915,-33.3086,1.2523127,2.247922,7.8956013,3.092798,18.96205,-12.242479,-16.081139,-4.2344213,-33.506542,57.944366,1.196306,6.6733594,-21.21279,28.037611,-4.588556,-1.8257442,41.740303,-31.715435,0.1028478,43.06338,23.084356,-53.216194,-91.736084,24.920952,24.410088,50.27961,-46.435753,-35.352257],\"type\":\"scatter3d\"}],                        {\"template\":{\"data\":{\"histogram2dcontour\":[{\"type\":\"histogram2dcontour\",\"colorbar\":{\"outlinewidth\":0,\"ticks\":\"\"},\"colorscale\":[[0.0,\"#0d0887\"],[0.1111111111111111,\"#46039f\"],[0.2222222222222222,\"#7201a8\"],[0.3333333333333333,\"#9c179e\"],[0.4444444444444444,\"#bd3786\"],[0.5555555555555556,\"#d8576b\"],[0.6666666666666666,\"#ed7953\"],[0.7777777777777778,\"#fb9f3a\"],[0.8888888888888888,\"#fdca26\"],[1.0,\"#f0f921\"]]}],\"choropleth\":[{\"type\":\"choropleth\",\"colorbar\":{\"outlinewidth\":0,\"ticks\":\"\"}}],\"histogram2d\":[{\"type\":\"histogram2d\",\"colorbar\":{\"outlinewidth\":0,\"ticks\":\"\"},\"colorscale\":[[0.0,\"#0d0887\"],[0.1111111111111111,\"#46039f\"],[0.2222222222222222,\"#7201a8\"],[0.3333333333333333,\"#9c179e\"],[0.4444444444444444,\"#bd3786\"],[0.5555555555555556,\"#d8576b\"],[0.6666666666666666,\"#ed7953\"],[0.7777777777777778,\"#fb9f3a\"],[0.8888888888888888,\"#fdca26\"],[1.0,\"#f0f921\"]]}],\"heatmap\":[{\"type\":\"heatmap\",\"colorbar\":{\"outlinewidth\":0,\"ticks\":\"\"},\"colorscale\":[[0.0,\"#0d0887\"],[0.1111111111111111,\"#46039f\"],[0.2222222222222222,\"#7201a8\"],[0.3333333333333333,\"#9c179e\"],[0.4444444444444444,\"#bd3786\"],[0.5555555555555556,\"#d8576b\"],[0.6666666666666666,\"#ed7953\"],[0.7777777777777778,\"#fb9f3a\"],[0.8888888888888888,\"#fdca26\"],[1.0,\"#f0f921\"]]}],\"heatmapgl\":[{\"type\":\"heatmapgl\",\"colorbar\":{\"outlinewidth\":0,\"ticks\":\"\"},\"colorscale\":[[0.0,\"#0d0887\"],[0.1111111111111111,\"#46039f\"],[0.2222222222222222,\"#7201a8\"],[0.3333333333333333,\"#9c179e\"],[0.4444444444444444,\"#bd3786\"],[0.5555555555555556,\"#d8576b\"],[0.6666666666666666,\"#ed7953\"],[0.7777777777777778,\"#fb9f3a\"],[0.8888888888888888,\"#fdca26\"],[1.0,\"#f0f921\"]]}],\"contourcarpet\":[{\"type\":\"contourcarpet\",\"colorbar\":{\"outlinewidth\":0,\"ticks\":\"\"}}],\"contour\":[{\"type\":\"contour\",\"colorbar\":{\"outlinewidth\":0,\"ticks\":\"\"},\"colorscale\":[[0.0,\"#0d0887\"],[0.1111111111111111,\"#46039f\"],[0.2222222222222222,\"#7201a8\"],[0.3333333333333333,\"#9c179e\"],[0.4444444444444444,\"#bd3786\"],[0.5555555555555556,\"#d8576b\"],[0.6666666666666666,\"#ed7953\"],[0.7777777777777778,\"#fb9f3a\"],[0.8888888888888888,\"#fdca26\"],[1.0,\"#f0f921\"]]}],\"surface\":[{\"type\":\"surface\",\"colorbar\":{\"outlinewidth\":0,\"ticks\":\"\"},\"colorscale\":[[0.0,\"#0d0887\"],[0.1111111111111111,\"#46039f\"],[0.2222222222222222,\"#7201a8\"],[0.3333333333333333,\"#9c179e\"],[0.4444444444444444,\"#bd3786\"],[0.5555555555555556,\"#d8576b\"],[0.6666666666666666,\"#ed7953\"],[0.7777777777777778,\"#fb9f3a\"],[0.8888888888888888,\"#fdca26\"],[1.0,\"#f0f921\"]]}],\"mesh3d\":[{\"type\":\"mesh3d\",\"colorbar\":{\"outlinewidth\":0,\"ticks\":\"\"}}],\"scatter\":[{\"fillpattern\":{\"fillmode\":\"overlay\",\"size\":10,\"solidity\":0.2},\"type\":\"scatter\"}],\"parcoords\":[{\"type\":\"parcoords\",\"line\":{\"colorbar\":{\"outlinewidth\":0,\"ticks\":\"\"}}}],\"scatterpolargl\":[{\"type\":\"scatterpolargl\",\"marker\":{\"colorbar\":{\"outlinewidth\":0,\"ticks\":\"\"}}}],\"bar\":[{\"error_x\":{\"color\":\"#2a3f5f\"},\"error_y\":{\"color\":\"#2a3f5f\"},\"marker\":{\"line\":{\"color\":\"#E5ECF6\",\"width\":0.5},\"pattern\":{\"fillmode\":\"overlay\",\"size\":10,\"solidity\":0.2}},\"type\":\"bar\"}],\"scattergeo\":[{\"type\":\"scattergeo\",\"marker\":{\"colorbar\":{\"outlinewidth\":0,\"ticks\":\"\"}}}],\"scatterpolar\":[{\"type\":\"scatterpolar\",\"marker\":{\"colorbar\":{\"outlinewidth\":0,\"ticks\":\"\"}}}],\"histogram\":[{\"marker\":{\"pattern\":{\"fillmode\":\"overlay\",\"size\":10,\"solidity\":0.2}},\"type\":\"histogram\"}],\"scattergl\":[{\"type\":\"scattergl\",\"marker\":{\"colorbar\":{\"outlinewidth\":0,\"ticks\":\"\"}}}],\"scatter3d\":[{\"type\":\"scatter3d\",\"line\":{\"colorbar\":{\"outlinewidth\":0,\"ticks\":\"\"}},\"marker\":{\"colorbar\":{\"outlinewidth\":0,\"ticks\":\"\"}}}],\"scattermapbox\":[{\"type\":\"scattermapbox\",\"marker\":{\"colorbar\":{\"outlinewidth\":0,\"ticks\":\"\"}}}],\"scatterternary\":[{\"type\":\"scatterternary\",\"marker\":{\"colorbar\":{\"outlinewidth\":0,\"ticks\":\"\"}}}],\"scattercarpet\":[{\"type\":\"scattercarpet\",\"marker\":{\"colorbar\":{\"outlinewidth\":0,\"ticks\":\"\"}}}],\"carpet\":[{\"aaxis\":{\"endlinecolor\":\"#2a3f5f\",\"gridcolor\":\"white\",\"linecolor\":\"white\",\"minorgridcolor\":\"white\",\"startlinecolor\":\"#2a3f5f\"},\"baxis\":{\"endlinecolor\":\"#2a3f5f\",\"gridcolor\":\"white\",\"linecolor\":\"white\",\"minorgridcolor\":\"white\",\"startlinecolor\":\"#2a3f5f\"},\"type\":\"carpet\"}],\"table\":[{\"cells\":{\"fill\":{\"color\":\"#EBF0F8\"},\"line\":{\"color\":\"white\"}},\"header\":{\"fill\":{\"color\":\"#C8D4E3\"},\"line\":{\"color\":\"white\"}},\"type\":\"table\"}],\"barpolar\":[{\"marker\":{\"line\":{\"color\":\"#E5ECF6\",\"width\":0.5},\"pattern\":{\"fillmode\":\"overlay\",\"size\":10,\"solidity\":0.2}},\"type\":\"barpolar\"}],\"pie\":[{\"automargin\":true,\"type\":\"pie\"}]},\"layout\":{\"autotypenumbers\":\"strict\",\"colorway\":[\"#636efa\",\"#EF553B\",\"#00cc96\",\"#ab63fa\",\"#FFA15A\",\"#19d3f3\",\"#FF6692\",\"#B6E880\",\"#FF97FF\",\"#FECB52\"],\"font\":{\"color\":\"#2a3f5f\"},\"hovermode\":\"closest\",\"hoverlabel\":{\"align\":\"left\"},\"paper_bgcolor\":\"white\",\"plot_bgcolor\":\"#E5ECF6\",\"polar\":{\"bgcolor\":\"#E5ECF6\",\"angularaxis\":{\"gridcolor\":\"white\",\"linecolor\":\"white\",\"ticks\":\"\"},\"radialaxis\":{\"gridcolor\":\"white\",\"linecolor\":\"white\",\"ticks\":\"\"}},\"ternary\":{\"bgcolor\":\"#E5ECF6\",\"aaxis\":{\"gridcolor\":\"white\",\"linecolor\":\"white\",\"ticks\":\"\"},\"baxis\":{\"gridcolor\":\"white\",\"linecolor\":\"white\",\"ticks\":\"\"},\"caxis\":{\"gridcolor\":\"white\",\"linecolor\":\"white\",\"ticks\":\"\"}},\"coloraxis\":{\"colorbar\":{\"outlinewidth\":0,\"ticks\":\"\"}},\"colorscale\":{\"sequential\":[[0.0,\"#0d0887\"],[0.1111111111111111,\"#46039f\"],[0.2222222222222222,\"#7201a8\"],[0.3333333333333333,\"#9c179e\"],[0.4444444444444444,\"#bd3786\"],[0.5555555555555556,\"#d8576b\"],[0.6666666666666666,\"#ed7953\"],[0.7777777777777778,\"#fb9f3a\"],[0.8888888888888888,\"#fdca26\"],[1.0,\"#f0f921\"]],\"sequentialminus\":[[0.0,\"#0d0887\"],[0.1111111111111111,\"#46039f\"],[0.2222222222222222,\"#7201a8\"],[0.3333333333333333,\"#9c179e\"],[0.4444444444444444,\"#bd3786\"],[0.5555555555555556,\"#d8576b\"],[0.6666666666666666,\"#ed7953\"],[0.7777777777777778,\"#fb9f3a\"],[0.8888888888888888,\"#fdca26\"],[1.0,\"#f0f921\"]],\"diverging\":[[0,\"#8e0152\"],[0.1,\"#c51b7d\"],[0.2,\"#de77ae\"],[0.3,\"#f1b6da\"],[0.4,\"#fde0ef\"],[0.5,\"#f7f7f7\"],[0.6,\"#e6f5d0\"],[0.7,\"#b8e186\"],[0.8,\"#7fbc41\"],[0.9,\"#4d9221\"],[1,\"#276419\"]]},\"xaxis\":{\"gridcolor\":\"white\",\"linecolor\":\"white\",\"ticks\":\"\",\"title\":{\"standoff\":15},\"zerolinecolor\":\"white\",\"automargin\":true,\"zerolinewidth\":2},\"yaxis\":{\"gridcolor\":\"white\",\"linecolor\":\"white\",\"ticks\":\"\",\"title\":{\"standoff\":15},\"zerolinecolor\":\"white\",\"automargin\":true,\"zerolinewidth\":2},\"scene\":{\"xaxis\":{\"backgroundcolor\":\"#E5ECF6\",\"gridcolor\":\"white\",\"linecolor\":\"white\",\"showbackground\":true,\"ticks\":\"\",\"zerolinecolor\":\"white\",\"gridwidth\":2},\"yaxis\":{\"backgroundcolor\":\"#E5ECF6\",\"gridcolor\":\"white\",\"linecolor\":\"white\",\"showbackground\":true,\"ticks\":\"\",\"zerolinecolor\":\"white\",\"gridwidth\":2},\"zaxis\":{\"backgroundcolor\":\"#E5ECF6\",\"gridcolor\":\"white\",\"linecolor\":\"white\",\"showbackground\":true,\"ticks\":\"\",\"zerolinecolor\":\"white\",\"gridwidth\":2}},\"shapedefaults\":{\"line\":{\"color\":\"#2a3f5f\"}},\"annotationdefaults\":{\"arrowcolor\":\"#2a3f5f\",\"arrowhead\":0,\"arrowwidth\":1},\"geo\":{\"bgcolor\":\"white\",\"landcolor\":\"#E5ECF6\",\"subunitcolor\":\"white\",\"showland\":true,\"showlakes\":true,\"lakecolor\":\"white\"},\"title\":{\"x\":0.05},\"mapbox\":{\"style\":\"light\"}}},\"scene\":{\"domain\":{\"x\":[0.0,1.0],\"y\":[0.0,1.0]},\"xaxis\":{\"title\":{\"text\":\"TSNE Component 1\"}},\"yaxis\":{\"title\":{\"text\":\"TSNE Component 2\"}},\"zaxis\":{\"title\":{\"text\":\"TSNE Component 3\"}}},\"legend\":{\"tracegroupgap\":0},\"title\":{\"text\":\"3D t-SNE of Pokémon Name Embeddings\"},\"height\":600},                        {\"responsive\": true}                    ).then(function(){\n",
       "                            \n",
       "var gd = document.getElementById('96624751-878f-4af4-a63a-454a7ac8ee94');\n",
       "var x = new MutationObserver(function (mutations, observer) {{\n",
       "        var display = window.getComputedStyle(gd).display;\n",
       "        if (!display || display === 'none') {{\n",
       "            console.log([gd, 'removed!']);\n",
       "            Plotly.purge(gd);\n",
       "            observer.disconnect();\n",
       "        }}\n",
       "}});\n",
       "\n",
       "// Listen for the removal of the full notebook cells\n",
       "var notebookContainer = gd.closest('#notebook-container');\n",
       "if (notebookContainer) {{\n",
       "    x.observe(notebookContainer, {childList: true});\n",
       "}}\n",
       "\n",
       "// Listen for the clearing of the current output cell\n",
       "var outputEl = gd.closest('.output');\n",
       "if (outputEl) {{\n",
       "    x.observe(outputEl, {childList: true});\n",
       "}}\n",
       "\n",
       "                        })                };                });            </script>        </div>"
      ]
     },
     "metadata": {},
     "output_type": "display_data"
    }
   ],
   "source": [
    "from sklearn.manifold import TSNE\n",
    "\n",
    "# Dimensionality reduction using t-SNE for 3D visualization\n",
    "import plotly.express as px\n",
    "\n",
    "# Flatten the one-hot encoded arrays into a 2D array\n",
    "flattened_encoded_pokemon = encoded_pokemon.reshape(len(words), -1)  # Reshape to (number of Pokémon, max_length * number of characters)\n",
    "\n",
    "# Check the shape of the flattened result\n",
    "print(flattened_encoded_pokemon.shape)  # Should be (number of words, max_length * number of characters)\n",
    "\n",
    "# Dimensionality reduction using t-SNE for 3D visualization\n",
    "tsne = TSNE(n_components=3, perplexity=3, random_state=42)\n",
    "pokemon_tsne_3d = tsne.fit_transform(flattened_encoded_pokemon)\n",
    "\n",
    "# Create a DataFrame for Plotly visualization\n",
    "df = pd.DataFrame(pokemon_tsne_3d, columns=['Component 1', 'Component 2', 'Component 3'])\n",
    "df['Pokémon'] = words  # Add Pokémon names for labeling\n",
    "\n",
    "# 3D Scatter Plot using Plotly Express\n",
    "fig = px.scatter_3d(\n",
    "    df, \n",
    "    x='Component 1', \n",
    "    y='Component 2', \n",
    "    z='Component 3', \n",
    "    text='Pokémon',  # Display Pokémon names\n",
    "    title='3D t-SNE of Pokémon Name Embeddings',\n",
    "    height=600\n",
    ")\n",
    "\n",
    "fig.update_traces(marker_size=10)\n",
    "fig.update_layout(scene=dict(\n",
    "    xaxis_title='TSNE Component 1',\n",
    "    yaxis_title='TSNE Component 2',\n",
    "    zaxis_title='TSNE Component 3',\n",
    "))\n",
    "\n",
    "fig.show()"
   ]
  },
  {
   "cell_type": "code",
   "execution_count": null,
   "id": "353f5437-f9d7-423d-b4b7-f0d5d72f2856",
   "metadata": {},
   "outputs": [],
   "source": []
  }
 ],
 "metadata": {
  "kernelspec": {
   "display_name": "Python 3 (ipykernel)",
   "language": "python",
   "name": "python3"
  },
  "language_info": {
   "codemirror_mode": {
    "name": "ipython",
    "version": 3
   },
   "file_extension": ".py",
   "mimetype": "text/x-python",
   "name": "python",
   "nbconvert_exporter": "python",
   "pygments_lexer": "ipython3",
   "version": "3.12.4"
  }
 },
 "nbformat": 4,
 "nbformat_minor": 5
}
