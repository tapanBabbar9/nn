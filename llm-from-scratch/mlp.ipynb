{
 "cells": [
  {
   "cell_type": "code",
   "execution_count": 62,
   "id": "cc0a6289-54bd-4b20-bd60-1877ae638fca",
   "metadata": {},
   "outputs": [],
   "source": [
    "import pandas as pd\n",
    "import torch\n",
    "import string\n",
    "import numpy as np\n",
    "import re\n",
    "import torch.nn.functional as F\n",
    "import matplotlib.pyplot as plt"
   ]
  },
  {
   "cell_type": "code",
   "execution_count": 85,
   "id": "568b3b5e-b0dd-4660-b73c-97e08b7f0577",
   "metadata": {},
   "outputs": [],
   "source": [
    "# Function to clean words by removing special characters\n",
    "def clean_word(word):\n",
    "    # Remove anything that's not a letter (a-z) or dot (.), and convert to lowercase\n",
    "    return re.sub(r'[^a-z]', '', word.lower())\n",
    "\n",
    "# Load the dataset\n",
    "data = pd.read_csv('pokemon.csv')[\"name\"]\n",
    "words = data.to_list()\n",
    "words = list(map(clean_word, words))"
   ]
  },
  {
   "cell_type": "code",
   "execution_count": 86,
   "id": "eeea38ef-c30d-414c-bb75-5ac45220b293",
   "metadata": {},
   "outputs": [
    {
     "data": {
      "text/plain": [
       "801"
      ]
     },
     "execution_count": 86,
     "metadata": {},
     "output_type": "execute_result"
    }
   ],
   "source": [
    "len(words)"
   ]
  },
  {
   "cell_type": "code",
   "execution_count": 72,
   "id": "7a7f7568-22c7-426f-a58c-387bc9cd37a5",
   "metadata": {},
   "outputs": [
    {
     "data": {
      "text/plain": [
       "['bulbasaur',\n",
       " 'ivysaur',\n",
       " 'venusaur',\n",
       " 'charmander',\n",
       " 'charmeleon',\n",
       " 'charizard',\n",
       " 'squirtle',\n",
       " 'wartortle']"
      ]
     },
     "execution_count": 72,
     "metadata": {},
     "output_type": "execute_result"
    }
   ],
   "source": [
    "words[:8]"
   ]
  },
  {
   "cell_type": "code",
   "execution_count": 87,
   "id": "bd540d2f-7b7c-44f7-8573-719791f34425",
   "metadata": {},
   "outputs": [
    {
     "name": "stdout",
     "output_type": "stream",
     "text": [
      "[' ', 'a', 'b', 'c', 'd', 'e', 'f', 'g', 'h', 'i', 'j', 'k', 'l', 'm', 'n', 'o', 'p', 'q', 'r', 's', 't', 'u', 'v', 'w', 'x', 'y', 'z']\n",
      "###\n",
      "{' ': 1, 'a': 2, 'b': 3, 'c': 4, 'd': 5, 'e': 6, 'f': 7, 'g': 8, 'h': 9, 'i': 10, 'j': 11, 'k': 12, 'l': 13, 'm': 14, 'n': 15, 'o': 16, 'p': 17, 'q': 18, 'r': 19, 's': 20, 't': 21, 'u': 22, 'v': 23, 'w': 24, 'x': 25, 'y': 26, 'z': 27, '.': 0}\n",
      "###\n",
      "{1: ' ', 2: 'a', 3: 'b', 4: 'c', 5: 'd', 6: 'e', 7: 'f', 8: 'g', 9: 'h', 10: 'i', 11: 'j', 12: 'k', 13: 'l', 14: 'm', 15: 'n', 16: 'o', 17: 'p', 18: 'q', 19: 'r', 20: 's', 21: 't', 22: 'u', 23: 'v', 24: 'w', 25: 'x', 26: 'y', 27: 'z', 0: '.'}\n"
     ]
    }
   ],
   "source": [
    "#build the vocabulary\n",
    "chars = sorted(list(set(' '.join(words))))\n",
    "print(chars)\n",
    "print(\"###\")\n",
    "stoi = {s:i+1 for i,s in enumerate(chars)}\n",
    "stoi['.']=0\n",
    "itos = {i:s for s,i in stoi.items()}\n",
    "print(stoi)\n",
    "print(\"###\")\n",
    "print(itos)"
   ]
  },
  {
   "cell_type": "code",
   "execution_count": 79,
   "id": "77aa6166-eff4-4cd2-91c3-cd8f91fe9f62",
   "metadata": {},
   "outputs": [
    {
     "name": "stdout",
     "output_type": "stream",
     "text": [
      "bulbasaur\n",
      "... ---> b\n",
      "..b ---> u\n",
      ".bu ---> l\n",
      "bul ---> b\n",
      "ulb ---> a\n",
      "lba ---> s\n",
      "bas ---> a\n",
      "asa ---> u\n",
      "sau ---> r\n",
      "aur ---> .\n",
      "ivysaur\n",
      "... ---> i\n",
      "..i ---> v\n",
      ".iv ---> y\n",
      "ivy ---> s\n",
      "vys ---> a\n",
      "ysa ---> u\n",
      "sau ---> r\n",
      "aur ---> .\n"
     ]
    }
   ],
   "source": [
    "block_size = 3 \n",
    "for w in words[:2]:\n",
    "    print(w)\n",
    "    context = [0] * block_size\n",
    "    for ch in w + '.':\n",
    "      ix = stoi[ch]\n",
    "      print(''.join(itos[i] for i in context), '--->', itos[ix])\n",
    "      context = context[1:] + [ix]  "
   ]
  },
  {
   "cell_type": "code",
   "execution_count": 80,
   "id": "ecf9f1fd-ca8f-4564-b676-f1f07879b288",
   "metadata": {},
   "outputs": [
    {
     "name": "stdout",
     "output_type": "stream",
     "text": [
      "torch.Size([5384, 3]) torch.Size([5384])\n",
      "torch.Size([686, 3]) torch.Size([686])\n",
      "torch.Size([690, 3]) torch.Size([690])\n"
     ]
    }
   ],
   "source": [
    "# build the training and test splits\n",
    "block_size = 3 # context length: how many characters do we take to predict the next one?\n",
    "\n",
    "def build_dataset(words):  \n",
    "  X, Y = [], []\n",
    "  for w in words:\n",
    "\n",
    "    #print(w)\n",
    "    context = [0] * block_size\n",
    "    for ch in w + '.':\n",
    "      ix = stoi[ch]\n",
    "      X.append(context)\n",
    "      Y.append(ix)\n",
    "      context = context[1:] + [ix] # crop and append\n",
    "\n",
    "  X = torch.tensor(X)\n",
    "  Y = torch.tensor(Y)\n",
    "  print(X.shape, Y.shape)\n",
    "  return X, Y\n",
    "\n",
    "import random\n",
    "random.seed(42)\n",
    "random.shuffle(words)\n",
    "n1 = int(0.8*len(words))\n",
    "n2 = int(0.9*len(words))\n",
    "\n",
    "Xtr, Ytr = build_dataset(words[:n1])\n",
    "Xdev, Ydev = build_dataset(words[n1:n2])\n",
    "Xte, Yte = build_dataset(words[n2:])"
   ]
  },
  {
   "cell_type": "code",
   "execution_count": 7,
   "id": "338c8290-0177-4507-af33-3050b087445a",
   "metadata": {},
   "outputs": [
    {
     "data": {
      "text/plain": [
       "(torch.Size([5384, 3]), torch.Size([5384]))"
      ]
     },
     "execution_count": 7,
     "metadata": {},
     "output_type": "execute_result"
    }
   ],
   "source": [
    "Xtr.shape, Ytr.shape"
   ]
  },
  {
   "cell_type": "code",
   "execution_count": 8,
   "id": "445e3167-95cb-4445-bb0a-ce3357739795",
   "metadata": {},
   "outputs": [],
   "source": [
    "C = torch.randn((27, 2))"
   ]
  },
  {
   "cell_type": "code",
   "execution_count": 9,
   "id": "a6b14b80-5c99-44ff-946f-7bfd94e1bcda",
   "metadata": {},
   "outputs": [
    {
     "data": {
      "text/plain": [
       "(torch.Size([5384, 3]), torch.Size([5384]))"
      ]
     },
     "execution_count": 9,
     "metadata": {},
     "output_type": "execute_result"
    }
   ],
   "source": [
    "Xtr = torch.clamp(Xtr, max=C.size(0) - 1)\n",
    "Ytr = torch.clamp(Ytr, max=C.size(0) - 1)\n",
    "Xdev = torch.clamp(Xdev, max=C.size(0) - 1)\n",
    "Ydev = torch.clamp(Ydev, max=C.size(0) - 1)\n",
    "Xtr.shape, Ytr.shape"
   ]
  },
  {
   "cell_type": "code",
   "execution_count": 47,
   "id": "6fd65fd2-ac09-4910-a043-257c3f1a641b",
   "metadata": {},
   "outputs": [],
   "source": [
    "g = torch.Generator()\n",
    "C = torch.randn((27, 10), generator=g)\n",
    "W1 = torch.randn((30, 200), generator=g)\n",
    "b1 = torch.randn(200, generator=g)\n",
    "W2 = torch.randn((200, 27), generator=g)\n",
    "b2 = torch.randn(27, generator=g)\n",
    "parameters = [C, W1, b1, W2, b2]"
   ]
  },
  {
   "cell_type": "code",
   "execution_count": 48,
   "id": "977b4351-e3d7-4d94-ab7b-0c2b688651cb",
   "metadata": {},
   "outputs": [
    {
     "data": {
      "text/plain": [
       "11897"
      ]
     },
     "execution_count": 48,
     "metadata": {},
     "output_type": "execute_result"
    }
   ],
   "source": [
    "sum(p.nelement() for p in parameters) # number of parameters in total"
   ]
  },
  {
   "cell_type": "code",
   "execution_count": 49,
   "id": "64d25eb7-35ea-48f6-a534-d37f6a7dd8bc",
   "metadata": {},
   "outputs": [],
   "source": [
    "for p in parameters:\n",
    "  p.requires_grad = True\n",
    "lri=[]\n",
    "lossi = []\n",
    "stepi= []"
   ]
  },
  {
   "cell_type": "code",
   "execution_count": 50,
   "id": "169a957a-93e4-42de-b749-bf2775b548e9",
   "metadata": {},
   "outputs": [],
   "source": [
    "#minibatch for optimisation and learning rates\n",
    "\n",
    "for i in range(100000):\n",
    "    ix = torch.randint(0,Xtr.shape[0], (32,))\n",
    "    \n",
    "    #forward pass\n",
    "    emb = C[Xtr[ix]] # (32, 3, 2)\n",
    "    h = torch.tanh(emb.view(-1, 30) @ W1 + b1) # (32, 200)\n",
    "    logits = h @ W2 + b2 # (32, 27)\n",
    "    loss = F.cross_entropy(logits, Ytr[ix])\n",
    "    \n",
    "    #backward pass\n",
    "    for p in parameters:\n",
    "      p.grad = None\n",
    "    loss.backward()\n",
    "    lr = 0.1\n",
    "    for p in parameters:\n",
    "        p.data += -lr * p.grad\n",
    "        \n",
    "    #track stats\n",
    "    stepi.append(i)\n",
    "    #lri.append(lre[i])\n",
    "    lossi.append(loss.log10().item())"
   ]
  },
  {
   "cell_type": "code",
   "execution_count": 52,
   "id": "53a580cc-3dc7-4afb-b369-2edeb93809e0",
   "metadata": {},
   "outputs": [
    {
     "data": {
      "text/plain": [
       "[<matplotlib.lines.Line2D at 0x3088bf3e0>]"
      ]
     },
     "execution_count": 52,
     "metadata": {},
     "output_type": "execute_result"
    },
    {
     "data": {
      "image/png": "[encoded data removed]",
      "text/plain": [
       "<Figure size 640x480 with 1 Axes>"
      ]
     },
     "metadata": {},
     "output_type": "display_data"
    }
   ],
   "source": [
    "plt.plot(stepi,lossi)"
   ]
  },
  {
   "cell_type": "code",
   "execution_count": 53,
   "id": "95ba029e-a2be-4007-a971-548f4a166cba",
   "metadata": {},
   "outputs": [
    {
     "name": "stdout",
     "output_type": "stream",
     "text": [
      "1.4478713274002075\n"
     ]
    }
   ],
   "source": [
    "print(loss.item())"
   ]
  },
  {
   "cell_type": "code",
   "execution_count": 54,
   "id": "037f8b52-138e-463d-9508-e02f6ab29929",
   "metadata": {},
   "outputs": [
    {
     "data": {
      "text/plain": [
       "torch.Size([1, 3, 10])"
      ]
     },
     "execution_count": 54,
     "metadata": {},
     "output_type": "execute_result"
    }
   ],
   "source": [
    "context = [0] * block_size\n",
    "C[torch.tensor([context])].shape"
   ]
  },
  {
   "cell_type": "code",
   "execution_count": 31,
   "id": "ccedc4ba-203a-4913-a0a4-abefea308ae8",
   "metadata": {},
   "outputs": [
    {
     "name": "stdout",
     "output_type": "stream",
     "text": [
      "simikyu.\n",
      "dwebble.\n",
      "baltarill.\n",
      "pupi.\n",
      "don.\n",
      "burr.\n",
      "spirith.\n",
      "sola.\n",
      "patran.\n",
      "met.\n",
      "meow.\n",
      "omank.\n",
      "wormantis.\n",
      "bune.\n",
      "glisa.\n",
      "whirlix.\n",
      "hydol.\n",
      "audinja.\n",
      "digler.\n",
      "skipedenneon.\n"
     ]
    }
   ],
   "source": [
    "g = torch.Generator().manual_seed(10)\n",
    "\n",
    "for _ in range(20):\n",
    "    \n",
    "    out = []\n",
    "    context = [0] * block_size # initialize with all ...\n",
    "    while True:\n",
    "      emb = C[torch.tensor([context])] # (1,block_size,d)\n",
    "      h = torch.tanh(emb.view(1, -1) @ W1 + b1)\n",
    "      logits = h @ W2 + b2\n",
    "      probs = F.softmax(logits, dim=1)\n",
    "      ix = torch.multinomial(probs, num_samples=1, generator=g).item()\n",
    "      context = context[1:] + [ix]\n",
    "      out.append(ix)\n",
    "      if ix == 0:\n",
    "        break\n",
    "    \n",
    "    print(''.join(itos[i] for i in out))"
   ]
  },
  {
   "cell_type": "code",
   "execution_count": 60,
   "id": "d8c0ae7d-3ff5-4627-b0b7-ba81cecd4333",
   "metadata": {},
   "outputs": [
    {
     "data": {
      "image/png": "[encoded data removed]",
      "text/plain": [
       "<Figure size 1000x300 with 1 Axes>"
      ]
     },
     "metadata": {},
     "output_type": "display_data"
    }
   ],
   "source": [
    "input_chars = \"pik\"  # Example input to get probabilities of next characters\n",
    "\n",
    "# Convert input characters to indices based on stoi (character-to-index mapping)\n",
    "context = [stoi.get(char, 0) for char in input_chars][-block_size:]  # Ensure context fits block size\n",
    "context = [0] * (block_size - len(context)) + context  # Pad if shorter than block size\n",
    "\n",
    "# Embedding the current context\n",
    "emb = C[torch.tensor([context])]\n",
    "\n",
    "# Pass through the network layers\n",
    "h = torch.tanh(emb.view(1, -1) @ W1 + b1)\n",
    "logits = h @ W2 + b2\n",
    "\n",
    "# Compute the probabilities\n",
    "probs = F.softmax(logits, dim=1).squeeze()  # Squeeze to remove unnecessary dimensions\n",
    "\n",
    "# Print out the probabilities for each character\n",
    "next_char_probs = {itos[i]: probs[i].item() for i in range(len(probs))}\n",
    "\n",
    "# Display probabilities\n",
    "chars = list(next_char_probs.keys())  # List of characters\n",
    "probs = list(next_char_probs.values())  # List of their corresponding probabilities\n",
    "\n",
    "# Create a bar chart\n",
    "plt.figure(figsize=(10, 3))\n",
    "plt.bar(chars, probs, color='skyblue')\n",
    "plt.xlabel('Character')\n",
    "plt.ylabel('Probability')\n",
    "plt.title('Probabilities of Next Characters')\n",
    "plt.xticks()  # Rotate characters on x-axis for better readability\n",
    "plt.show()\n"
   ]
  },
  {
   "cell_type": "code",
   "execution_count": 43,
   "id": "e1595b7b-eb46-4907-a7bc-3496d0b69acb",
   "metadata": {},
   "outputs": [],
   "source": [
    "#saving the model to be used in the streamlit app\n",
    "variables_to_save = {\n",
    "    \"C\": C,\n",
    "    \"W1\": W1,\n",
    "    \"b1\": b1,\n",
    "    \"W2\": W2,\n",
    "    \"b2\": b2,\n",
    "    \"block_size\": block_size,\n",
    "    \"stoi\": stoi,\n",
    "    \"itos\": itos\n",
    "}\n",
    "\n",
    "# Save all variables to a file\n",
    "torch.save(variables_to_save, \"model_parameters.pth\")"
   ]
  },
  {
   "cell_type": "code",
   "execution_count": null,
   "id": "4ea28fb7-f79c-4415-b582-10fd0b283e59",
   "metadata": {},
   "outputs": [],
   "source": []
  }
 ],
 "metadata": {
  "kernelspec": {
   "display_name": "Python 3 (ipykernel)",
   "language": "python",
   "name": "python3"
  },
  "language_info": {
   "codemirror_mode": {
    "name": "ipython",
    "version": 3
   },
   "file_extension": ".py",
   "mimetype": "text/x-python",
   "name": "python",
   "nbconvert_exporter": "python",
   "pygments_lexer": "ipython3",
   "version": "3.12.4"
  }
 },
 "nbformat": 4,
 "nbformat_minor": 5
}
